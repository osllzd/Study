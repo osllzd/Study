{
 "cells": [
  {
   "cell_type": "markdown",
   "id": "84c11495-9d06-4b1e-84f4-f7377057d50b",
   "metadata": {},
   "source": [
    "## "
   ]
  },
  {
   "cell_type": "markdown",
   "id": "482db62b-4b89-47d9-85f2-424980023d99",
   "metadata": {},
   "source": [
    "(1) 모듈 로딩 <hr>"
   ]
  },
  {
   "cell_type": "code",
   "execution_count": 2,
   "id": "1648450a-ffad-4c9b-bcf4-24554ea83e74",
   "metadata": {},
   "outputs": [],
   "source": [
    "import pandas as pd"
   ]
  },
  {
   "cell_type": "markdown",
   "id": "f518f167-3f08-4247-9e05-9aa0f7e7aca5",
   "metadata": {},
   "source": [
    "(2) 데이터 준비 <hr>"
   ]
  },
  {
   "cell_type": "code",
   "execution_count": 8,
   "id": "882b1207-7f27-41d7-b660-840ca5ed470f",
   "metadata": {},
   "outputs": [],
   "source": [
    "file ='../DATA/test.html'"
   ]
  },
  {
   "cell_type": "markdown",
   "id": "be0caa26-bf2c-4cd9-8928-b8c328a9bf3e",
   "metadata": {},
   "source": [
    "(3) HTML => DataFrame 저장"
   ]
  },
  {
   "cell_type": "code",
   "execution_count": 9,
   "id": "1c94917b-d967-4f3c-91df-4a0979cf6994",
   "metadata": {},
   "outputs": [
    {
     "name": "stdout",
     "output_type": "stream",
     "text": [
      "Requirement already satisfied: lxml in c:\\users\\desktop\\.conda\\envs\\my_38\\lib\\site-packages (4.9.3)\n",
      "Note: you may need to restart the kernel to use updated packages.\n"
     ]
    }
   ],
   "source": [
    "pip install lxml"
   ]
  },
  {
   "cell_type": "code",
   "execution_count": 10,
   "id": "0c2a316b-fd5d-4966-a29c-5c738ac33aab",
   "metadata": {},
   "outputs": [],
   "source": [
    "import lxml"
   ]
  },
  {
   "cell_type": "code",
   "execution_count": 24,
   "id": "4a4c3bc5-bbfe-4beb-a57f-0fe11b9adb5e",
   "metadata": {},
   "outputs": [
    {
     "data": {
      "text/plain": [
       "[    0      1   2\n",
       " 0  번호     이름  전공\n",
       " 1   1    홍길동  의적\n",
       " 2   2    마징가  로봇\n",
       " 3   4    베트맨  박쥐\n",
       " 4   5  스파이더맨  거미,\n",
       "      0     1   2\n",
       " 0  과일명    가격  수량\n",
       " 1   사과  1000  32\n",
       " 2  바나나  3000  10\n",
       " 3   수박  5800   2]"
      ]
     },
     "execution_count": 24,
     "metadata": {},
     "output_type": "execute_result"
    }
   ],
   "source": [
    "testDF = pd.read_html(file, encoding='utf-8')\n",
    "testDF"
   ]
  },
  {
   "cell_type": "code",
   "execution_count": 25,
   "id": "52574314-6a2c-4bb2-a17e-0a3fd0167559",
   "metadata": {},
   "outputs": [
    {
     "name": "stdout",
     "output_type": "stream",
     "text": [
      "<class 'list'>\n"
     ]
    }
   ],
   "source": [
    "print(type(testDF))"
   ]
  },
  {
   "cell_type": "code",
   "execution_count": 22,
   "id": "ab071af7-1e12-404d-a1fc-6c6f042d786e",
   "metadata": {},
   "outputs": [
    {
     "ename": "AttributeError",
     "evalue": "'list' object has no attribute 'head'",
     "output_type": "error",
     "traceback": [
      "\u001b[1;31m---------------------------------------------------------------------------\u001b[0m",
      "\u001b[1;31mAttributeError\u001b[0m                            Traceback (most recent call last)",
      "Cell \u001b[1;32mIn[22], line 1\u001b[0m\n\u001b[1;32m----> 1\u001b[0m \u001b[43mtestDF\u001b[49m\u001b[38;5;241;43m.\u001b[39;49m\u001b[43mhead\u001b[49m(\u001b[38;5;241m0\u001b[39m)\n",
      "\u001b[1;31mAttributeError\u001b[0m: 'list' object has no attribute 'head'"
     ]
    }
   ],
   "source": []
  },
  {
   "cell_type": "code",
   "execution_count": null,
   "id": "64675af2-a58f-4069-97cc-9993e778f910",
   "metadata": {},
   "outputs": [],
   "source": []
  }
 ],
 "metadata": {
  "kernelspec": {
   "display_name": "Python 3 (ipykernel)",
   "language": "python",
   "name": "python3"
  },
  "language_info": {
   "codemirror_mode": {
    "name": "ipython",
    "version": 3
   },
   "file_extension": ".py",
   "mimetype": "text/x-python",
   "name": "python",
   "nbconvert_exporter": "python",
   "pygments_lexer": "ipython3",
   "version": "3.8.18"
  }
 },
 "nbformat": 4,
 "nbformat_minor": 5
}
