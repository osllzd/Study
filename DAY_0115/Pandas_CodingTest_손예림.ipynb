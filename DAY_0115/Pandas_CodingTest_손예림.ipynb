{
 "cells": [
  {
   "cell_type": "markdown",
   "id": "4ea0c66e-e763-4b1e-8a51-f783d73be47f",
   "metadata": {
    "id": "4ea0c66e-e763-4b1e-8a51-f783d73be47f"
   },
   "source": [
    "[문1] 아래 조건을 만족하는 Series를 생성하세요.\n",
    "1) 데이터 : 1~50 범위에서 7의 배수 정수\n",
    "2) 인덱스 : 'a~z' 범위에서 데이터 갯수 만큼의 알파벳\n",
    "3) 타  입 : 부호가 없는 1바이트 정수\n",
    "4) 이  름 : sevens\n",
    "5) 속  성 : index, values, dtype, ndim, shape, size"
   ]
  },
  {
   "cell_type": "code",
   "execution_count": 27,
   "id": "4de17faf-c756-4097-bfc0-79a85b573196",
   "metadata": {
    "id": "4de17faf-c756-4097-bfc0-79a85b573196"
   },
   "outputs": [],
   "source": [
    "import pandas as pd\n",
    "import numpy as np"
   ]
  },
  {
   "cell_type": "code",
   "execution_count": 28,
   "id": "ed3d967d-dcdb-430c-8cbc-2b29b34c5410",
   "metadata": {
    "id": "ed3d967d-dcdb-430c-8cbc-2b29b34c5410"
   },
   "outputs": [
    {
     "data": {
      "text/plain": [
       "0     7\n",
       "1    14\n",
       "2    21\n",
       "3    28\n",
       "4    35\n",
       "5    42\n",
       "6    49\n",
       "dtype: int64"
      ]
     },
     "execution_count": 28,
     "metadata": {},
     "output_type": "execute_result"
    }
   ],
   "source": [
    "sevens = pd.Series(range(7,50,7))\n",
    "sevens"
   ]
  },
  {
   "cell_type": "code",
   "execution_count": 29,
   "id": "9bdf8a52-1180-412e-bd32-1cb2c71a98fa",
   "metadata": {},
   "outputs": [
    {
     "data": {
      "text/plain": [
       "a     7\n",
       "b    14\n",
       "c    21\n",
       "d    28\n",
       "e    35\n",
       "f    42\n",
       "g    49\n",
       "dtype: int64"
      ]
     },
     "execution_count": 29,
     "metadata": {},
     "output_type": "execute_result"
    }
   ],
   "source": [
    "sevens.index=[\"a\", \"b\", \"c\", \"d\", \"e\", \"f\", \"g\"]\n",
    "sevens"
   ]
  },
  {
   "cell_type": "code",
   "execution_count": 30,
   "id": "3ddc01d5-d5b1-47aa-a966-eac42c66e9a6",
   "metadata": {},
   "outputs": [
    {
     "data": {
      "text/plain": [
       "Index(['a', 'b', 'c', 'd', 'e', 'f', 'g'], dtype='object')"
      ]
     },
     "execution_count": 30,
     "metadata": {},
     "output_type": "execute_result"
    }
   ],
   "source": [
    "sevens.index"
   ]
  },
  {
   "cell_type": "code",
   "execution_count": 31,
   "id": "fd370b46-6cb7-4564-9081-932763898c72",
   "metadata": {},
   "outputs": [
    {
     "data": {
      "text/plain": [
       "array([ 7, 14, 21, 28, 35, 42, 49], dtype=int64)"
      ]
     },
     "execution_count": 31,
     "metadata": {},
     "output_type": "execute_result"
    }
   ],
   "source": [
    "sevens.values"
   ]
  },
  {
   "cell_type": "code",
   "execution_count": 32,
   "id": "433347ce-24ed-445e-8ebe-98303cdac6e1",
   "metadata": {},
   "outputs": [
    {
     "data": {
      "text/plain": [
       "dtype('int64')"
      ]
     },
     "execution_count": 32,
     "metadata": {},
     "output_type": "execute_result"
    }
   ],
   "source": [
    "sevens.dtype"
   ]
  },
  {
   "cell_type": "code",
   "execution_count": 33,
   "id": "56e1dfa8-2c10-4bca-be41-f9fb35eea261",
   "metadata": {},
   "outputs": [
    {
     "data": {
      "text/plain": [
       "1"
      ]
     },
     "execution_count": 33,
     "metadata": {},
     "output_type": "execute_result"
    }
   ],
   "source": [
    "sevens.ndim"
   ]
  },
  {
   "cell_type": "code",
   "execution_count": 34,
   "id": "8d4e57d0-e5e5-45c6-8e74-41ce48921bac",
   "metadata": {},
   "outputs": [
    {
     "data": {
      "text/plain": [
       "(7,)"
      ]
     },
     "execution_count": 34,
     "metadata": {},
     "output_type": "execute_result"
    }
   ],
   "source": [
    "sevens.shape"
   ]
  },
  {
   "cell_type": "code",
   "execution_count": 35,
   "id": "d67ab1d8-bc4d-4041-b81d-fa398a26d78b",
   "metadata": {},
   "outputs": [
    {
     "data": {
      "text/plain": [
       "7"
      ]
     },
     "execution_count": 35,
     "metadata": {},
     "output_type": "execute_result"
    }
   ],
   "source": [
    "sevens.size"
   ]
  },
  {
   "cell_type": "markdown",
   "id": "6e816108-d335-45c5-bbc0-3ceeed3c7f60",
   "metadata": {
    "id": "6e816108-d335-45c5-bbc0-3ceeed3c7f60"
   },
   "source": [
    "[문2] 아래 조건을 만족하는 데이터 객체를 생성하세요.\n",
    "1) 데이터 : knu_data.csv\n",
    "2) 인덱스 : 컬럼 중 하나를 인덱스로 설정\n",
    "3) 속성 정보 출력\n",
    "4) 데이터 확인 정보 출력\n",
    "5) 타입과 실제 데이터 타입 일치"
   ]
  },
  {
   "cell_type": "code",
   "execution_count": null,
   "id": "3ae58fb0-6a09-40c6-860d-c846ae2fdad5",
   "metadata": {
    "id": "3ae58fb0-6a09-40c6-860d-c846ae2fdad5"
   },
   "outputs": [],
   "source": [
    "# 파일이 안열림"
   ]
  },
  {
   "cell_type": "markdown",
   "id": "ed5b8afb-0d0e-4337-82a5-b74c857a5f67",
   "metadata": {
    "id": "ed5b8afb-0d0e-4337-82a5-b74c857a5f67"
   },
   "source": [
    "[문3] 아래 조건을 만족하는 데이터 객체를 생성하세요.\n",
    "1) 데이터 : stats_100701.xlsx\n",
    "2) 년도별 인구가 가장 많은 지역과 가장 적은 지역\n",
    "3) 6대 광역시에서 년도별 인구가 가장 많은 지역과 가장 적은 지역\n",
    "4) 8도 중 7도에서 년도별 인구가 가장 많은 지역과 가장 적은 지역"
   ]
  },
  {
   "cell_type": "code",
   "execution_count": 37,
   "id": "07f3b5e3-f715-4766-95b1-3bd99a341bfb",
   "metadata": {
    "id": "07f3b5e3-f715-4766-95b1-3bd99a341bfb"
   },
   "outputs": [
    {
     "data": {
      "text/html": [
       "<div>\n",
       "<style scoped>\n",
       "    .dataframe tbody tr th:only-of-type {\n",
       "        vertical-align: middle;\n",
       "    }\n",
       "\n",
       "    .dataframe tbody tr th {\n",
       "        vertical-align: top;\n",
       "    }\n",
       "\n",
       "    .dataframe thead th {\n",
       "        text-align: right;\n",
       "    }\n",
       "</style>\n",
       "<table border=\"1\" class=\"dataframe\">\n",
       "  <thead>\n",
       "    <tr style=\"text-align: right;\">\n",
       "      <th></th>\n",
       "      <th>지역별 인구  [단위 : 천명, 명/㎢]</th>\n",
       "      <th>Unnamed: 1</th>\n",
       "      <th>Unnamed: 2</th>\n",
       "      <th>Unnamed: 3</th>\n",
       "      <th>Unnamed: 4</th>\n",
       "    </tr>\n",
       "  </thead>\n",
       "  <tbody>\n",
       "    <tr>\n",
       "      <th>0</th>\n",
       "      <td>NaN</td>\n",
       "      <td>2015</td>\n",
       "      <td>2016</td>\n",
       "      <td>2017</td>\n",
       "      <td>2018</td>\n",
       "    </tr>\n",
       "    <tr>\n",
       "      <th>1</th>\n",
       "      <td>계</td>\n",
       "      <td>51015</td>\n",
       "      <td>51218</td>\n",
       "      <td>51362</td>\n",
       "      <td>51607</td>\n",
       "    </tr>\n",
       "    <tr>\n",
       "      <th>2</th>\n",
       "      <td>서울</td>\n",
       "      <td>9941</td>\n",
       "      <td>9843</td>\n",
       "      <td>9766</td>\n",
       "      <td>9705</td>\n",
       "    </tr>\n",
       "    <tr>\n",
       "      <th>3</th>\n",
       "      <td>부산</td>\n",
       "      <td>3452</td>\n",
       "      <td>3447</td>\n",
       "      <td>3424</td>\n",
       "      <td>3400</td>\n",
       "    </tr>\n",
       "    <tr>\n",
       "      <th>4</th>\n",
       "      <td>대구</td>\n",
       "      <td>2469</td>\n",
       "      <td>2461</td>\n",
       "      <td>2458</td>\n",
       "      <td>2450</td>\n",
       "    </tr>\n",
       "    <tr>\n",
       "      <th>5</th>\n",
       "      <td>인천</td>\n",
       "      <td>2883</td>\n",
       "      <td>2907</td>\n",
       "      <td>2924</td>\n",
       "      <td>2939</td>\n",
       "    </tr>\n",
       "    <tr>\n",
       "      <th>6</th>\n",
       "      <td>광주</td>\n",
       "      <td>1506</td>\n",
       "      <td>1502</td>\n",
       "      <td>1495</td>\n",
       "      <td>1493</td>\n",
       "    </tr>\n",
       "    <tr>\n",
       "      <th>7</th>\n",
       "      <td>대전</td>\n",
       "      <td>1542</td>\n",
       "      <td>1536</td>\n",
       "      <td>1528</td>\n",
       "      <td>1518</td>\n",
       "    </tr>\n",
       "    <tr>\n",
       "      <th>8</th>\n",
       "      <td>울산</td>\n",
       "      <td>1164</td>\n",
       "      <td>1166</td>\n",
       "      <td>1159</td>\n",
       "      <td>1154</td>\n",
       "    </tr>\n",
       "    <tr>\n",
       "      <th>9</th>\n",
       "      <td>세종</td>\n",
       "      <td>187</td>\n",
       "      <td>234</td>\n",
       "      <td>266</td>\n",
       "      <td>304</td>\n",
       "    </tr>\n",
       "    <tr>\n",
       "      <th>10</th>\n",
       "      <td>경기</td>\n",
       "      <td>12423</td>\n",
       "      <td>12600</td>\n",
       "      <td>12786</td>\n",
       "      <td>13031</td>\n",
       "    </tr>\n",
       "    <tr>\n",
       "      <th>11</th>\n",
       "      <td>강원</td>\n",
       "      <td>1517</td>\n",
       "      <td>1521</td>\n",
       "      <td>1521</td>\n",
       "      <td>1521</td>\n",
       "    </tr>\n",
       "    <tr>\n",
       "      <th>12</th>\n",
       "      <td>충북</td>\n",
       "      <td>1589</td>\n",
       "      <td>1601</td>\n",
       "      <td>1609</td>\n",
       "      <td>1619</td>\n",
       "    </tr>\n",
       "    <tr>\n",
       "      <th>13</th>\n",
       "      <td>충남</td>\n",
       "      <td>2103</td>\n",
       "      <td>2126</td>\n",
       "      <td>2153</td>\n",
       "      <td>2180</td>\n",
       "    </tr>\n",
       "    <tr>\n",
       "      <th>14</th>\n",
       "      <td>전북</td>\n",
       "      <td>1835</td>\n",
       "      <td>1835</td>\n",
       "      <td>1829</td>\n",
       "      <td>1820</td>\n",
       "    </tr>\n",
       "    <tr>\n",
       "      <th>15</th>\n",
       "      <td>전남</td>\n",
       "      <td>1797</td>\n",
       "      <td>1798</td>\n",
       "      <td>1795</td>\n",
       "      <td>1790</td>\n",
       "    </tr>\n",
       "    <tr>\n",
       "      <th>16</th>\n",
       "      <td>경북</td>\n",
       "      <td>2678</td>\n",
       "      <td>2683</td>\n",
       "      <td>2675</td>\n",
       "      <td>2674</td>\n",
       "    </tr>\n",
       "    <tr>\n",
       "      <th>17</th>\n",
       "      <td>경남</td>\n",
       "      <td>3330</td>\n",
       "      <td>3338</td>\n",
       "      <td>3339</td>\n",
       "      <td>3356</td>\n",
       "    </tr>\n",
       "    <tr>\n",
       "      <th>18</th>\n",
       "      <td>제주</td>\n",
       "      <td>599</td>\n",
       "      <td>618</td>\n",
       "      <td>635</td>\n",
       "      <td>653</td>\n",
       "    </tr>\n",
       "    <tr>\n",
       "      <th>19</th>\n",
       "      <td>수도권</td>\n",
       "      <td>25247</td>\n",
       "      <td>25350</td>\n",
       "      <td>25476</td>\n",
       "      <td>25675</td>\n",
       "    </tr>\n",
       "  </tbody>\n",
       "</table>\n",
       "</div>"
      ],
      "text/plain": [
       "   지역별 인구  [단위 : 천명, 명/㎢]  Unnamed: 1  Unnamed: 2  Unnamed: 3  Unnamed: 4\n",
       "0                     NaN        2015        2016        2017        2018\n",
       "1                       계       51015       51218       51362       51607\n",
       "2                      서울        9941        9843        9766        9705\n",
       "3                      부산        3452        3447        3424        3400\n",
       "4                      대구        2469        2461        2458        2450\n",
       "5                      인천        2883        2907        2924        2939\n",
       "6                      광주        1506        1502        1495        1493\n",
       "7                      대전        1542        1536        1528        1518\n",
       "8                      울산        1164        1166        1159        1154\n",
       "9                      세종         187         234         266         304\n",
       "10                     경기       12423       12600       12786       13031\n",
       "11                     강원        1517        1521        1521        1521\n",
       "12                     충북        1589        1601        1609        1619\n",
       "13                     충남        2103        2126        2153        2180\n",
       "14                     전북        1835        1835        1829        1820\n",
       "15                     전남        1797        1798        1795        1790\n",
       "16                     경북        2678        2683        2675        2674\n",
       "17                     경남        3330        3338        3339        3356\n",
       "18                     제주         599         618         635         653\n",
       "19                    수도권       25247       25350       25476       25675"
      ]
     },
     "execution_count": 37,
     "metadata": {},
     "output_type": "execute_result"
    }
   ],
   "source": [
    "file2='../DATA/stats_100701.xlsx'\n",
    "statsDF=pd.read_excel(file2)\n",
    "statsDF"
   ]
  },
  {
   "cell_type": "markdown",
   "id": "497f711a-3cac-4cef-8004-ae499596e885",
   "metadata": {
    "id": "70f87bd2-182d-4a9f-b184-db7e1905cf55"
   },
   "source": [
    "- 년도별 인구가 가장 많은 지역과 적은 지역"
   ]
  },
  {
   "cell_type": "code",
   "execution_count": 46,
   "id": "d9c38342-b699-411b-86fa-1418ed8dd59a",
   "metadata": {},
   "outputs": [],
   "source": [
    "# 컬럼명 바꾸기\n",
    "statsDF.columns=['local', '2015', '2016', '2017', '2018']"
   ]
  },
  {
   "cell_type": "code",
   "execution_count": 83,
   "id": "0b112810-80f5-4a5c-9517-c85d2e9567b5",
   "metadata": {},
   "outputs": [
    {
     "data": {
      "text/html": [
       "<div>\n",
       "<style scoped>\n",
       "    .dataframe tbody tr th:only-of-type {\n",
       "        vertical-align: middle;\n",
       "    }\n",
       "\n",
       "    .dataframe tbody tr th {\n",
       "        vertical-align: top;\n",
       "    }\n",
       "\n",
       "    .dataframe thead th {\n",
       "        text-align: right;\n",
       "    }\n",
       "</style>\n",
       "<table border=\"1\" class=\"dataframe\">\n",
       "  <thead>\n",
       "    <tr style=\"text-align: right;\">\n",
       "      <th></th>\n",
       "      <th>local</th>\n",
       "      <th>2015</th>\n",
       "      <th>2016</th>\n",
       "      <th>2017</th>\n",
       "      <th>2018</th>\n",
       "    </tr>\n",
       "  </thead>\n",
       "  <tbody>\n",
       "    <tr>\n",
       "      <th>2</th>\n",
       "      <td>서울</td>\n",
       "      <td>9941</td>\n",
       "      <td>9843</td>\n",
       "      <td>9766</td>\n",
       "      <td>9705</td>\n",
       "    </tr>\n",
       "    <tr>\n",
       "      <th>3</th>\n",
       "      <td>부산</td>\n",
       "      <td>3452</td>\n",
       "      <td>3447</td>\n",
       "      <td>3424</td>\n",
       "      <td>3400</td>\n",
       "    </tr>\n",
       "    <tr>\n",
       "      <th>4</th>\n",
       "      <td>대구</td>\n",
       "      <td>2469</td>\n",
       "      <td>2461</td>\n",
       "      <td>2458</td>\n",
       "      <td>2450</td>\n",
       "    </tr>\n",
       "    <tr>\n",
       "      <th>5</th>\n",
       "      <td>인천</td>\n",
       "      <td>2883</td>\n",
       "      <td>2907</td>\n",
       "      <td>2924</td>\n",
       "      <td>2939</td>\n",
       "    </tr>\n",
       "    <tr>\n",
       "      <th>6</th>\n",
       "      <td>광주</td>\n",
       "      <td>1506</td>\n",
       "      <td>1502</td>\n",
       "      <td>1495</td>\n",
       "      <td>1493</td>\n",
       "    </tr>\n",
       "    <tr>\n",
       "      <th>7</th>\n",
       "      <td>대전</td>\n",
       "      <td>1542</td>\n",
       "      <td>1536</td>\n",
       "      <td>1528</td>\n",
       "      <td>1518</td>\n",
       "    </tr>\n",
       "    <tr>\n",
       "      <th>8</th>\n",
       "      <td>울산</td>\n",
       "      <td>1164</td>\n",
       "      <td>1166</td>\n",
       "      <td>1159</td>\n",
       "      <td>1154</td>\n",
       "    </tr>\n",
       "    <tr>\n",
       "      <th>9</th>\n",
       "      <td>세종</td>\n",
       "      <td>187</td>\n",
       "      <td>234</td>\n",
       "      <td>266</td>\n",
       "      <td>304</td>\n",
       "    </tr>\n",
       "    <tr>\n",
       "      <th>10</th>\n",
       "      <td>경기</td>\n",
       "      <td>12423</td>\n",
       "      <td>12600</td>\n",
       "      <td>12786</td>\n",
       "      <td>13031</td>\n",
       "    </tr>\n",
       "    <tr>\n",
       "      <th>11</th>\n",
       "      <td>강원</td>\n",
       "      <td>1517</td>\n",
       "      <td>1521</td>\n",
       "      <td>1521</td>\n",
       "      <td>1521</td>\n",
       "    </tr>\n",
       "    <tr>\n",
       "      <th>12</th>\n",
       "      <td>충북</td>\n",
       "      <td>1589</td>\n",
       "      <td>1601</td>\n",
       "      <td>1609</td>\n",
       "      <td>1619</td>\n",
       "    </tr>\n",
       "    <tr>\n",
       "      <th>13</th>\n",
       "      <td>충남</td>\n",
       "      <td>2103</td>\n",
       "      <td>2126</td>\n",
       "      <td>2153</td>\n",
       "      <td>2180</td>\n",
       "    </tr>\n",
       "    <tr>\n",
       "      <th>14</th>\n",
       "      <td>전북</td>\n",
       "      <td>1835</td>\n",
       "      <td>1835</td>\n",
       "      <td>1829</td>\n",
       "      <td>1820</td>\n",
       "    </tr>\n",
       "    <tr>\n",
       "      <th>15</th>\n",
       "      <td>전남</td>\n",
       "      <td>1797</td>\n",
       "      <td>1798</td>\n",
       "      <td>1795</td>\n",
       "      <td>1790</td>\n",
       "    </tr>\n",
       "    <tr>\n",
       "      <th>16</th>\n",
       "      <td>경북</td>\n",
       "      <td>2678</td>\n",
       "      <td>2683</td>\n",
       "      <td>2675</td>\n",
       "      <td>2674</td>\n",
       "    </tr>\n",
       "    <tr>\n",
       "      <th>17</th>\n",
       "      <td>경남</td>\n",
       "      <td>3330</td>\n",
       "      <td>3338</td>\n",
       "      <td>3339</td>\n",
       "      <td>3356</td>\n",
       "    </tr>\n",
       "    <tr>\n",
       "      <th>18</th>\n",
       "      <td>제주</td>\n",
       "      <td>599</td>\n",
       "      <td>618</td>\n",
       "      <td>635</td>\n",
       "      <td>653</td>\n",
       "    </tr>\n",
       "    <tr>\n",
       "      <th>19</th>\n",
       "      <td>수도권</td>\n",
       "      <td>25247</td>\n",
       "      <td>25350</td>\n",
       "      <td>25476</td>\n",
       "      <td>25675</td>\n",
       "    </tr>\n",
       "  </tbody>\n",
       "</table>\n",
       "</div>"
      ],
      "text/plain": [
       "   local   2015   2016   2017   2018\n",
       "2     서울   9941   9843   9766   9705\n",
       "3     부산   3452   3447   3424   3400\n",
       "4     대구   2469   2461   2458   2450\n",
       "5     인천   2883   2907   2924   2939\n",
       "6     광주   1506   1502   1495   1493\n",
       "7     대전   1542   1536   1528   1518\n",
       "8     울산   1164   1166   1159   1154\n",
       "9     세종    187    234    266    304\n",
       "10    경기  12423  12600  12786  13031\n",
       "11    강원   1517   1521   1521   1521\n",
       "12    충북   1589   1601   1609   1619\n",
       "13    충남   2103   2126   2153   2180\n",
       "14    전북   1835   1835   1829   1820\n",
       "15    전남   1797   1798   1795   1790\n",
       "16    경북   2678   2683   2675   2674\n",
       "17    경남   3330   3338   3339   3356\n",
       "18    제주    599    618    635    653\n",
       "19   수도권  25247  25350  25476  25675"
      ]
     },
     "execution_count": 83,
     "metadata": {},
     "output_type": "execute_result"
    }
   ],
   "source": [
    "statsDF2=statsDF.drop([0,1])\n",
    "statsDF2"
   ]
  },
  {
   "cell_type": "code",
   "execution_count": 84,
   "id": "49b60733-1512-42da-bbac-2ec9143845c8",
   "metadata": {},
   "outputs": [
    {
     "data": {
      "text/html": [
       "<div>\n",
       "<style scoped>\n",
       "    .dataframe tbody tr th:only-of-type {\n",
       "        vertical-align: middle;\n",
       "    }\n",
       "\n",
       "    .dataframe tbody tr th {\n",
       "        vertical-align: top;\n",
       "    }\n",
       "\n",
       "    .dataframe thead th {\n",
       "        text-align: right;\n",
       "    }\n",
       "</style>\n",
       "<table border=\"1\" class=\"dataframe\">\n",
       "  <thead>\n",
       "    <tr style=\"text-align: right;\">\n",
       "      <th></th>\n",
       "      <th>local</th>\n",
       "      <th>2015</th>\n",
       "      <th>2016</th>\n",
       "      <th>2017</th>\n",
       "      <th>2018</th>\n",
       "    </tr>\n",
       "  </thead>\n",
       "  <tbody>\n",
       "    <tr>\n",
       "      <th>19</th>\n",
       "      <td>수도권</td>\n",
       "      <td>25247</td>\n",
       "      <td>25350</td>\n",
       "      <td>25476</td>\n",
       "      <td>25675</td>\n",
       "    </tr>\n",
       "  </tbody>\n",
       "</table>\n",
       "</div>"
      ],
      "text/plain": [
       "   local   2015   2016   2017   2018\n",
       "19   수도권  25247  25350  25476  25675"
      ]
     },
     "execution_count": 84,
     "metadata": {},
     "output_type": "execute_result"
    }
   ],
   "source": [
    "# 2015년에 인구가 가장 많은 지역과 적은 지역\n",
    "statsDF2.nlargest(n=1,columns=['2015','2016','2017','2018'])"
   ]
  },
  {
   "cell_type": "code",
   "execution_count": 85,
   "id": "dd85ac3a-7069-4a2f-a7e0-05721682f7dd",
   "metadata": {},
   "outputs": [
    {
     "data": {
      "text/html": [
       "<div>\n",
       "<style scoped>\n",
       "    .dataframe tbody tr th:only-of-type {\n",
       "        vertical-align: middle;\n",
       "    }\n",
       "\n",
       "    .dataframe tbody tr th {\n",
       "        vertical-align: top;\n",
       "    }\n",
       "\n",
       "    .dataframe thead th {\n",
       "        text-align: right;\n",
       "    }\n",
       "</style>\n",
       "<table border=\"1\" class=\"dataframe\">\n",
       "  <thead>\n",
       "    <tr style=\"text-align: right;\">\n",
       "      <th></th>\n",
       "      <th>local</th>\n",
       "      <th>2015</th>\n",
       "      <th>2016</th>\n",
       "      <th>2017</th>\n",
       "      <th>2018</th>\n",
       "    </tr>\n",
       "  </thead>\n",
       "  <tbody>\n",
       "    <tr>\n",
       "      <th>9</th>\n",
       "      <td>세종</td>\n",
       "      <td>187</td>\n",
       "      <td>234</td>\n",
       "      <td>266</td>\n",
       "      <td>304</td>\n",
       "    </tr>\n",
       "  </tbody>\n",
       "</table>\n",
       "</div>"
      ],
      "text/plain": [
       "  local  2015  2016  2017  2018\n",
       "9    세종   187   234   266   304"
      ]
     },
     "execution_count": 85,
     "metadata": {},
     "output_type": "execute_result"
    }
   ],
   "source": [
    "statsDF2.nsmallest(n=1,columns=['2015','2016','2017','2018'])"
   ]
  },
  {
   "cell_type": "code",
   "execution_count": null,
   "id": "8853913f-cd13-42c8-8125-d06a12ce3d4d",
   "metadata": {},
   "outputs": [],
   "source": []
  },
  {
   "cell_type": "code",
   "execution_count": null,
   "id": "21fca48a-4c02-4423-a77e-42db3e64fc5e",
   "metadata": {},
   "outputs": [],
   "source": []
  },
  {
   "cell_type": "code",
   "execution_count": null,
   "id": "6e1babf0-f767-41f5-a5da-87f52ddbfb5a",
   "metadata": {},
   "outputs": [],
   "source": []
  },
  {
   "cell_type": "markdown",
   "id": "6f694094-19ef-4c06-a0d2-2a547a29be4e",
   "metadata": {
    "id": "6f694094-19ef-4c06-a0d2-2a547a29be4e"
   },
   "source": [
    "[문4] 아래 조건을 만족하는 데이터 객체를 생성하세요.\n",
    "1) 데이터 : stock price.xlsx\n",
    "2) 데이터 로딩 시 인덱스로 사용할 수 있는 컬럼 설정\n",
    "3) 결측치 처리 =>\n",
    "   (가) 1개라도 NaN이면 모두 제거 / price가 NaN이면 제거 / value가 10000이하면 제거\n",
    "   (나) 평균값으로 결측치 대체, 이전/이후 값으로 결측치 대체\n",
    "4) value가 1000이하 이거나 price가 90000이상인 데이터"
   ]
  },
  {
   "cell_type": "code",
   "execution_count": 87,
   "id": "fa648dd9-a90d-48cb-9080-ea3b1d3d539b",
   "metadata": {
    "id": "fa648dd9-a90d-48cb-9080-ea3b1d3d539b"
   },
   "outputs": [
    {
     "data": {
      "text/html": [
       "<div>\n",
       "<style scoped>\n",
       "    .dataframe tbody tr th:only-of-type {\n",
       "        vertical-align: middle;\n",
       "    }\n",
       "\n",
       "    .dataframe tbody tr th {\n",
       "        vertical-align: top;\n",
       "    }\n",
       "\n",
       "    .dataframe thead th {\n",
       "        text-align: right;\n",
       "    }\n",
       "</style>\n",
       "<table border=\"1\" class=\"dataframe\">\n",
       "  <thead>\n",
       "    <tr style=\"text-align: right;\">\n",
       "      <th></th>\n",
       "      <th>id</th>\n",
       "      <th>stock_name</th>\n",
       "      <th>value</th>\n",
       "      <th>price</th>\n",
       "    </tr>\n",
       "  </thead>\n",
       "  <tbody>\n",
       "    <tr>\n",
       "      <th>0</th>\n",
       "      <td>128940</td>\n",
       "      <td>한미약품</td>\n",
       "      <td>59385.666667</td>\n",
       "      <td>421000.0</td>\n",
       "    </tr>\n",
       "    <tr>\n",
       "      <th>1</th>\n",
       "      <td>138040</td>\n",
       "      <td>메리츠금융지주</td>\n",
       "      <td>827.500000</td>\n",
       "      <td>NaN</td>\n",
       "    </tr>\n",
       "    <tr>\n",
       "      <th>2</th>\n",
       "      <td>130960</td>\n",
       "      <td>CJ E&amp;M</td>\n",
       "      <td>58540.666667</td>\n",
       "      <td>98900.0</td>\n",
       "    </tr>\n",
       "    <tr>\n",
       "      <th>3</th>\n",
       "      <td>138250</td>\n",
       "      <td>엔에스쇼핑</td>\n",
       "      <td>14558.666667</td>\n",
       "      <td>13200.0</td>\n",
       "    </tr>\n",
       "    <tr>\n",
       "      <th>4</th>\n",
       "      <td>139480</td>\n",
       "      <td>이마트</td>\n",
       "      <td>239230.833333</td>\n",
       "      <td>254500.0</td>\n",
       "    </tr>\n",
       "    <tr>\n",
       "      <th>5</th>\n",
       "      <td>142280</td>\n",
       "      <td>녹십자엠에스</td>\n",
       "      <td>468.833333</td>\n",
       "      <td>10200.0</td>\n",
       "    </tr>\n",
       "    <tr>\n",
       "      <th>6</th>\n",
       "      <td>145990</td>\n",
       "      <td>삼양사</td>\n",
       "      <td>82750.000000</td>\n",
       "      <td>82000.0</td>\n",
       "    </tr>\n",
       "    <tr>\n",
       "      <th>7</th>\n",
       "      <td>181710</td>\n",
       "      <td>NHN엔터테인먼트</td>\n",
       "      <td>NaN</td>\n",
       "      <td>NaN</td>\n",
       "    </tr>\n",
       "    <tr>\n",
       "      <th>8</th>\n",
       "      <td>185750</td>\n",
       "      <td>종근당</td>\n",
       "      <td>40293.666667</td>\n",
       "      <td>100500.0</td>\n",
       "    </tr>\n",
       "    <tr>\n",
       "      <th>9</th>\n",
       "      <td>192400</td>\n",
       "      <td>쿠쿠홀딩스</td>\n",
       "      <td>179204.666667</td>\n",
       "      <td>177500.0</td>\n",
       "    </tr>\n",
       "    <tr>\n",
       "      <th>10</th>\n",
       "      <td>199800</td>\n",
       "      <td>툴젠</td>\n",
       "      <td>-2514.333333</td>\n",
       "      <td>115400.0</td>\n",
       "    </tr>\n",
       "    <tr>\n",
       "      <th>11</th>\n",
       "      <td>204210</td>\n",
       "      <td>모두투어리츠</td>\n",
       "      <td>3093.333333</td>\n",
       "      <td>3475.0</td>\n",
       "    </tr>\n",
       "    <tr>\n",
       "      <th>12</th>\n",
       "      <td>207940</td>\n",
       "      <td>삼성바이오로직스</td>\n",
       "      <td>NaN</td>\n",
       "      <td>91900.0</td>\n",
       "    </tr>\n",
       "  </tbody>\n",
       "</table>\n",
       "</div>"
      ],
      "text/plain": [
       "        id stock_name          value     price\n",
       "0   128940       한미약품   59385.666667  421000.0\n",
       "1   138040    메리츠금융지주     827.500000       NaN\n",
       "2   130960     CJ E&M   58540.666667   98900.0\n",
       "3   138250      엔에스쇼핑   14558.666667   13200.0\n",
       "4   139480        이마트  239230.833333  254500.0\n",
       "5   142280     녹십자엠에스     468.833333   10200.0\n",
       "6   145990        삼양사   82750.000000   82000.0\n",
       "7   181710  NHN엔터테인먼트            NaN       NaN\n",
       "8   185750        종근당   40293.666667  100500.0\n",
       "9   192400      쿠쿠홀딩스  179204.666667  177500.0\n",
       "10  199800         툴젠   -2514.333333  115400.0\n",
       "11  204210     모두투어리츠    3093.333333    3475.0\n",
       "12  207940   삼성바이오로직스            NaN   91900.0"
      ]
     },
     "execution_count": 87,
     "metadata": {},
     "output_type": "execute_result"
    }
   ],
   "source": [
    "file3='../DATA/stock price.xlsx'\n",
    "priceDF=pd.read_excel(file3)\n",
    "priceDF"
   ]
  },
  {
   "cell_type": "code",
   "execution_count": 126,
   "id": "dd69ae0e-a269-4457-8fc0-af8d0be3b4f5",
   "metadata": {
    "id": "dd69ae0e-a269-4457-8fc0-af8d0be3b4f5"
   },
   "outputs": [
    {
     "data": {
      "text/html": [
       "<div>\n",
       "<style scoped>\n",
       "    .dataframe tbody tr th:only-of-type {\n",
       "        vertical-align: middle;\n",
       "    }\n",
       "\n",
       "    .dataframe tbody tr th {\n",
       "        vertical-align: top;\n",
       "    }\n",
       "\n",
       "    .dataframe thead th {\n",
       "        text-align: right;\n",
       "    }\n",
       "</style>\n",
       "<table border=\"1\" class=\"dataframe\">\n",
       "  <thead>\n",
       "    <tr style=\"text-align: right;\">\n",
       "      <th></th>\n",
       "      <th>id</th>\n",
       "      <th>stock_name</th>\n",
       "      <th>value</th>\n",
       "      <th>price</th>\n",
       "    </tr>\n",
       "  </thead>\n",
       "  <tbody>\n",
       "    <tr>\n",
       "      <th>0</th>\n",
       "      <td>128940</td>\n",
       "      <td>한미약품</td>\n",
       "      <td>59385</td>\n",
       "      <td>421000</td>\n",
       "    </tr>\n",
       "    <tr>\n",
       "      <th>1</th>\n",
       "      <td>138040</td>\n",
       "      <td>메리츠금융지주</td>\n",
       "      <td>827</td>\n",
       "      <td>0</td>\n",
       "    </tr>\n",
       "    <tr>\n",
       "      <th>2</th>\n",
       "      <td>130960</td>\n",
       "      <td>CJ E&amp;M</td>\n",
       "      <td>58540</td>\n",
       "      <td>98900</td>\n",
       "    </tr>\n",
       "    <tr>\n",
       "      <th>3</th>\n",
       "      <td>138250</td>\n",
       "      <td>엔에스쇼핑</td>\n",
       "      <td>14558</td>\n",
       "      <td>13200</td>\n",
       "    </tr>\n",
       "    <tr>\n",
       "      <th>4</th>\n",
       "      <td>139480</td>\n",
       "      <td>이마트</td>\n",
       "      <td>239230</td>\n",
       "      <td>254500</td>\n",
       "    </tr>\n",
       "    <tr>\n",
       "      <th>5</th>\n",
       "      <td>142280</td>\n",
       "      <td>녹십자엠에스</td>\n",
       "      <td>468</td>\n",
       "      <td>10200</td>\n",
       "    </tr>\n",
       "    <tr>\n",
       "      <th>6</th>\n",
       "      <td>145990</td>\n",
       "      <td>삼양사</td>\n",
       "      <td>82750</td>\n",
       "      <td>82000</td>\n",
       "    </tr>\n",
       "    <tr>\n",
       "      <th>7</th>\n",
       "      <td>181710</td>\n",
       "      <td>NHN엔터테인먼트</td>\n",
       "      <td>0</td>\n",
       "      <td>0</td>\n",
       "    </tr>\n",
       "    <tr>\n",
       "      <th>8</th>\n",
       "      <td>185750</td>\n",
       "      <td>종근당</td>\n",
       "      <td>40293</td>\n",
       "      <td>100500</td>\n",
       "    </tr>\n",
       "    <tr>\n",
       "      <th>9</th>\n",
       "      <td>192400</td>\n",
       "      <td>쿠쿠홀딩스</td>\n",
       "      <td>179204</td>\n",
       "      <td>177500</td>\n",
       "    </tr>\n",
       "    <tr>\n",
       "      <th>10</th>\n",
       "      <td>199800</td>\n",
       "      <td>툴젠</td>\n",
       "      <td>-2514</td>\n",
       "      <td>115400</td>\n",
       "    </tr>\n",
       "    <tr>\n",
       "      <th>11</th>\n",
       "      <td>204210</td>\n",
       "      <td>모두투어리츠</td>\n",
       "      <td>3093</td>\n",
       "      <td>3475</td>\n",
       "    </tr>\n",
       "    <tr>\n",
       "      <th>12</th>\n",
       "      <td>207940</td>\n",
       "      <td>삼성바이오로직스</td>\n",
       "      <td>0</td>\n",
       "      <td>91900</td>\n",
       "    </tr>\n",
       "  </tbody>\n",
       "</table>\n",
       "</div>"
      ],
      "text/plain": [
       "        id stock_name   value   price\n",
       "0   128940       한미약품   59385  421000\n",
       "1   138040    메리츠금융지주     827       0\n",
       "2   130960     CJ E&M   58540   98900\n",
       "3   138250      엔에스쇼핑   14558   13200\n",
       "4   139480        이마트  239230  254500\n",
       "5   142280     녹십자엠에스     468   10200\n",
       "6   145990        삼양사   82750   82000\n",
       "7   181710  NHN엔터테인먼트       0       0\n",
       "8   185750        종근당   40293  100500\n",
       "9   192400      쿠쿠홀딩스  179204  177500\n",
       "10  199800         툴젠   -2514  115400\n",
       "11  204210     모두투어리츠    3093    3475\n",
       "12  207940   삼성바이오로직스       0   91900"
      ]
     },
     "execution_count": 126,
     "metadata": {},
     "output_type": "execute_result"
    }
   ],
   "source": [
    "priceDF.dropna(subset=['value', 'price'])"
   ]
  },
  {
   "cell_type": "code",
   "execution_count": null,
   "id": "436e21d4-2623-4560-8b19-ba22ce411b42",
   "metadata": {},
   "outputs": [],
   "source": []
  }
 ],
 "metadata": {
  "colab": {
   "provenance": []
  },
  "kernelspec": {
   "display_name": "Python 3 (ipykernel)",
   "language": "python",
   "name": "python3"
  },
  "language_info": {
   "codemirror_mode": {
    "name": "ipython",
    "version": 3
   },
   "file_extension": ".py",
   "mimetype": "text/x-python",
   "name": "python",
   "nbconvert_exporter": "python",
   "pygments_lexer": "ipython3",
   "version": "3.8.18"
  }
 },
 "nbformat": 4,
 "nbformat_minor": 5
}
