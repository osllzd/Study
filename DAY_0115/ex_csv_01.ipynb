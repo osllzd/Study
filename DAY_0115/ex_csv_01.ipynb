{
 "cells": [
  {
   "cell_type": "markdown",
   "id": "5c9e4185-1ce7-45cf-9d46-10f54b3c0d2b",
   "metadata": {},
   "source": [
    "## csv 데이터 파일 다루기"
   ]
  },
  {
   "cell_type": "markdown",
   "id": "87e2d9c7-f7d8-480f-ae06-81c4a6b5d690",
   "metadata": {},
   "source": [
    "(1) 모듈 로딩 <hr>"
   ]
  },
  {
   "cell_type": "code",
   "execution_count": 50,
   "id": "358a0d8a-83b7-48d2-bb06-dd10b4f8c822",
   "metadata": {},
   "outputs": [],
   "source": [
    "import pandas as pd"
   ]
  },
  {
   "cell_type": "markdown",
   "id": "065765d7-f843-4fd8-8721-f9ea995030e8",
   "metadata": {},
   "source": [
    "(2) 데이터 준비 <hr>"
   ]
  },
  {
   "cell_type": "markdown",
   "id": "5fcdc1a8-0749-4942-83fa-ae95bd93007f",
   "metadata": {},
   "source": [
    "- 파일 이름 => 경로 + 파일명\n",
    "- 경로 => 2가지 종류\n",
    "    * 절대경로 : 드라이브부터 파일까지의 전체 경로 ( ex: C:\\Users\\data\\a.txt_\n",
    "    * 상대경로 : 현재 파일을 기준으로 경로 설정\n",
    "        -  -./ : 현재위치를 의미(ex: ./a.csv, a.csv => 현재 파일과 동일한 폴더/위치에 존재하는 파일)\n",
    "        -  ../ : 한단계 위를 의미(ex: ../Data/b.csv => 현재 파일이 존재하는 폴더 밖에 존재하는 파일)"
   ]
  },
  {
   "cell_type": "code",
   "execution_count": 67,
   "id": "1aa6213c-c323-4d36-9956-c98ef8c09fa1",
   "metadata": {},
   "outputs": [],
   "source": [
    "file='./test.csv'  #file=test.txt 동일"
   ]
  },
  {
   "cell_type": "code",
   "execution_count": 70,
   "id": "efc9179e-796f-4da4-a4e0-3dfe19c3e2bd",
   "metadata": {},
   "outputs": [],
   "source": [
    "file2='../DATA/movies.csv'"
   ]
  },
  {
   "cell_type": "markdown",
   "id": "b80bb638-1649-4eb3-b13c-867f126f91fe",
   "metadata": {},
   "source": [
    "(3) 데이터 저장 : CSV => DataFrame <hr>"
   ]
  },
  {
   "cell_type": "code",
   "execution_count": 71,
   "id": "1f179521-0b94-4203-8ec5-aabf00a3b94d",
   "metadata": {},
   "outputs": [],
   "source": [
    "movieDF=pd.read_csv(file2)"
   ]
  },
  {
   "cell_type": "markdown",
   "id": "b4fc7b84-b137-4efe-8ba5-143e9e5e6971",
   "metadata": {},
   "source": [
    "(4) 데이터 확인 <hr>"
   ]
  },
  {
   "cell_type": "code",
   "execution_count": 72,
   "id": "9656273c-2887-49d7-a452-4ebc8b50e69c",
   "metadata": {},
   "outputs": [
    {
     "name": "stdout",
     "output_type": "stream",
     "text": [
      "<class 'pandas.core.frame.DataFrame'>\n",
      "RangeIndex: 782 entries, 0 to 781\n",
      "Data columns (total 5 columns):\n",
      " #   Column  Non-Null Count  Dtype \n",
      "---  ------  --------------  ----- \n",
      " 0   Rank    782 non-null    int64 \n",
      " 1   Title   782 non-null    object\n",
      " 2   Studio  782 non-null    object\n",
      " 3   Gross   782 non-null    object\n",
      " 4   Year    782 non-null    int64 \n",
      "dtypes: int64(2), object(3)\n",
      "memory usage: 30.7+ KB\n"
     ]
    }
   ],
   "source": [
    "# 전체적인 데이터 정보 확인 => info()메서드\n",
    "movieDF.info()"
   ]
  },
  {
   "cell_type": "code",
   "execution_count": 73,
   "id": "09627259-1860-4c6b-ab99-06f80648ca25",
   "metadata": {},
   "outputs": [
    {
     "name": "stdout",
     "output_type": "stream",
     "text": [
      "   Rank                         Title       Studio       Gross  Year\n",
      "0     1             Avengers: Endgame  Buena Vista  $2,796.30   2019\n",
      "1     2                        Avatar          Fox  $2,789.70   2009\n",
      "2     3                       Titanic    Paramount  $2,187.50   1997\n",
      "3     4  Star Wars: The Force Awakens  Buena Vista  $2,068.20   2015\n",
      "4     5        Avengers: Infinity War  Buena Vista  $2,048.40   2018\n",
      "\n",
      "     Rank                     Title           Studio     Gross  Year\n",
      "777   778                 Yogi Bear  Warner Brothers  $201.60   2010\n",
      "778   779       Garfield: The Movie              Fox  $200.80   2004\n",
      "779   780               Cats & Dogs  Warner Brothers  $200.70   2001\n",
      "780   781  The Hunt for Red October        Paramount  $200.50   1990\n",
      "781   782                  Valkyrie              MGM  $200.30   2008\n"
     ]
    }
   ],
   "source": [
    "# 실제 저장된 데이터 확인 => head(), tail()\n",
    "print(movieDF.head(), movieDF.tail(),sep='\\n\\n')"
   ]
  },
  {
   "cell_type": "markdown",
   "id": "3ce62e3c-e08c-4ae8-b1f1-8a5b1288d521",
   "metadata": {},
   "source": [
    "(5) read_csv 파일 매개변수 살펴보기<hr>"
   ]
  },
  {
   "cell_type": "markdown",
   "id": "5ee34b7a-27ea-41dd-9742-7942d6482a96",
   "metadata": {},
   "source": [
    "- header 파라미터 : DataFrame의 컬럼명 설정하는 파라미터\n",
    "    * 기본값 : csv 파일의 첫번째 라인의 데이터를 컬럼명으로 설정\n",
    "    * None : csv 파일의 첫번째 라인이 컬럼명이 아님을 의미=> 컬럼명 미지정\n",
    "    * 행번호 : csv 파일의 행번호 라인이 컬럼명으로 설정, 그 이전 행 번호 데이터는 사라짐!"
   ]
  },
  {
   "cell_type": "code",
   "execution_count": 74,
   "id": "5b3f8e14-9d9e-4495-924d-901f4a767b03",
   "metadata": {},
   "outputs": [
    {
     "data": {
      "text/html": [
       "<div>\n",
       "<style scoped>\n",
       "    .dataframe tbody tr th:only-of-type {\n",
       "        vertical-align: middle;\n",
       "    }\n",
       "\n",
       "    .dataframe tbody tr th {\n",
       "        vertical-align: top;\n",
       "    }\n",
       "\n",
       "    .dataframe thead th {\n",
       "        text-align: right;\n",
       "    }\n",
       "</style>\n",
       "<table border=\"1\" class=\"dataframe\">\n",
       "  <thead>\n",
       "    <tr style=\"text-align: right;\">\n",
       "      <th></th>\n",
       "      <th>0</th>\n",
       "      <th>1</th>\n",
       "      <th>2</th>\n",
       "      <th>3</th>\n",
       "      <th>4</th>\n",
       "    </tr>\n",
       "  </thead>\n",
       "  <tbody>\n",
       "    <tr>\n",
       "      <th>0</th>\n",
       "      <td>Rank</td>\n",
       "      <td>Title</td>\n",
       "      <td>Studio</td>\n",
       "      <td>Gross</td>\n",
       "      <td>Year</td>\n",
       "    </tr>\n",
       "    <tr>\n",
       "      <th>1</th>\n",
       "      <td>1</td>\n",
       "      <td>Avengers: Endgame</td>\n",
       "      <td>Buena Vista</td>\n",
       "      <td>$2,796.30</td>\n",
       "      <td>2019</td>\n",
       "    </tr>\n",
       "    <tr>\n",
       "      <th>2</th>\n",
       "      <td>2</td>\n",
       "      <td>Avatar</td>\n",
       "      <td>Fox</td>\n",
       "      <td>$2,789.70</td>\n",
       "      <td>2009</td>\n",
       "    </tr>\n",
       "    <tr>\n",
       "      <th>3</th>\n",
       "      <td>3</td>\n",
       "      <td>Titanic</td>\n",
       "      <td>Paramount</td>\n",
       "      <td>$2,187.50</td>\n",
       "      <td>1997</td>\n",
       "    </tr>\n",
       "    <tr>\n",
       "      <th>4</th>\n",
       "      <td>4</td>\n",
       "      <td>Star Wars: The Force Awakens</td>\n",
       "      <td>Buena Vista</td>\n",
       "      <td>$2,068.20</td>\n",
       "      <td>2015</td>\n",
       "    </tr>\n",
       "    <tr>\n",
       "      <th>...</th>\n",
       "      <td>...</td>\n",
       "      <td>...</td>\n",
       "      <td>...</td>\n",
       "      <td>...</td>\n",
       "      <td>...</td>\n",
       "    </tr>\n",
       "    <tr>\n",
       "      <th>778</th>\n",
       "      <td>778</td>\n",
       "      <td>Yogi Bear</td>\n",
       "      <td>Warner Brothers</td>\n",
       "      <td>$201.60</td>\n",
       "      <td>2010</td>\n",
       "    </tr>\n",
       "    <tr>\n",
       "      <th>779</th>\n",
       "      <td>779</td>\n",
       "      <td>Garfield: The Movie</td>\n",
       "      <td>Fox</td>\n",
       "      <td>$200.80</td>\n",
       "      <td>2004</td>\n",
       "    </tr>\n",
       "    <tr>\n",
       "      <th>780</th>\n",
       "      <td>780</td>\n",
       "      <td>Cats &amp; Dogs</td>\n",
       "      <td>Warner Brothers</td>\n",
       "      <td>$200.70</td>\n",
       "      <td>2001</td>\n",
       "    </tr>\n",
       "    <tr>\n",
       "      <th>781</th>\n",
       "      <td>781</td>\n",
       "      <td>The Hunt for Red October</td>\n",
       "      <td>Paramount</td>\n",
       "      <td>$200.50</td>\n",
       "      <td>1990</td>\n",
       "    </tr>\n",
       "    <tr>\n",
       "      <th>782</th>\n",
       "      <td>782</td>\n",
       "      <td>Valkyrie</td>\n",
       "      <td>MGM</td>\n",
       "      <td>$200.30</td>\n",
       "      <td>2008</td>\n",
       "    </tr>\n",
       "  </tbody>\n",
       "</table>\n",
       "<p>783 rows × 5 columns</p>\n",
       "</div>"
      ],
      "text/plain": [
       "        0                             1                2           3     4\n",
       "0    Rank                         Title           Studio       Gross  Year\n",
       "1       1             Avengers: Endgame      Buena Vista  $2,796.30   2019\n",
       "2       2                        Avatar              Fox  $2,789.70   2009\n",
       "3       3                       Titanic        Paramount  $2,187.50   1997\n",
       "4       4  Star Wars: The Force Awakens      Buena Vista  $2,068.20   2015\n",
       "..    ...                           ...              ...         ...   ...\n",
       "778   778                     Yogi Bear  Warner Brothers    $201.60   2010\n",
       "779   779           Garfield: The Movie              Fox    $200.80   2004\n",
       "780   780                   Cats & Dogs  Warner Brothers    $200.70   2001\n",
       "781   781      The Hunt for Red October        Paramount    $200.50   1990\n",
       "782   782                      Valkyrie              MGM    $200.30   2008\n",
       "\n",
       "[783 rows x 5 columns]"
      ]
     },
     "execution_count": 74,
     "metadata": {},
     "output_type": "execute_result"
    }
   ],
   "source": [
    "pd.read_csv(file2, header=None)"
   ]
  },
  {
   "cell_type": "markdown",
   "id": "bf07cea0-fca5-4c3b-87f3-59301386ea45",
   "metadata": {},
   "source": [
    "-index_col 파라미터 : 컬럼 중에서 행 인덱스로 설정, set_index()와 동일한 역할을 수행"
   ]
  },
  {
   "cell_type": "code",
   "execution_count": 82,
   "id": "48a17bbd-740c-44e7-bf32-076fe0f14e7d",
   "metadata": {},
   "outputs": [
    {
     "data": {
      "text/html": [
       "<div>\n",
       "<style scoped>\n",
       "    .dataframe tbody tr th:only-of-type {\n",
       "        vertical-align: middle;\n",
       "    }\n",
       "\n",
       "    .dataframe tbody tr th {\n",
       "        vertical-align: top;\n",
       "    }\n",
       "\n",
       "    .dataframe thead th {\n",
       "        text-align: right;\n",
       "    }\n",
       "</style>\n",
       "<table border=\"1\" class=\"dataframe\">\n",
       "  <thead>\n",
       "    <tr style=\"text-align: right;\">\n",
       "      <th></th>\n",
       "      <th>Title</th>\n",
       "      <th>Studio</th>\n",
       "      <th>Gross</th>\n",
       "      <th>Year</th>\n",
       "    </tr>\n",
       "    <tr>\n",
       "      <th>Rank</th>\n",
       "      <th></th>\n",
       "      <th></th>\n",
       "      <th></th>\n",
       "      <th></th>\n",
       "    </tr>\n",
       "  </thead>\n",
       "  <tbody>\n",
       "    <tr>\n",
       "      <th>1</th>\n",
       "      <td>Avengers: Endgame</td>\n",
       "      <td>Buena Vista</td>\n",
       "      <td>$2,796.30</td>\n",
       "      <td>2019</td>\n",
       "    </tr>\n",
       "    <tr>\n",
       "      <th>2</th>\n",
       "      <td>Avatar</td>\n",
       "      <td>Fox</td>\n",
       "      <td>$2,789.70</td>\n",
       "      <td>2009</td>\n",
       "    </tr>\n",
       "    <tr>\n",
       "      <th>3</th>\n",
       "      <td>Titanic</td>\n",
       "      <td>Paramount</td>\n",
       "      <td>$2,187.50</td>\n",
       "      <td>1997</td>\n",
       "    </tr>\n",
       "    <tr>\n",
       "      <th>4</th>\n",
       "      <td>Star Wars: The Force Awakens</td>\n",
       "      <td>Buena Vista</td>\n",
       "      <td>$2,068.20</td>\n",
       "      <td>2015</td>\n",
       "    </tr>\n",
       "    <tr>\n",
       "      <th>5</th>\n",
       "      <td>Avengers: Infinity War</td>\n",
       "      <td>Buena Vista</td>\n",
       "      <td>$2,048.40</td>\n",
       "      <td>2018</td>\n",
       "    </tr>\n",
       "    <tr>\n",
       "      <th>...</th>\n",
       "      <td>...</td>\n",
       "      <td>...</td>\n",
       "      <td>...</td>\n",
       "      <td>...</td>\n",
       "    </tr>\n",
       "    <tr>\n",
       "      <th>778</th>\n",
       "      <td>Yogi Bear</td>\n",
       "      <td>Warner Brothers</td>\n",
       "      <td>$201.60</td>\n",
       "      <td>2010</td>\n",
       "    </tr>\n",
       "    <tr>\n",
       "      <th>779</th>\n",
       "      <td>Garfield: The Movie</td>\n",
       "      <td>Fox</td>\n",
       "      <td>$200.80</td>\n",
       "      <td>2004</td>\n",
       "    </tr>\n",
       "    <tr>\n",
       "      <th>780</th>\n",
       "      <td>Cats &amp; Dogs</td>\n",
       "      <td>Warner Brothers</td>\n",
       "      <td>$200.70</td>\n",
       "      <td>2001</td>\n",
       "    </tr>\n",
       "    <tr>\n",
       "      <th>781</th>\n",
       "      <td>The Hunt for Red October</td>\n",
       "      <td>Paramount</td>\n",
       "      <td>$200.50</td>\n",
       "      <td>1990</td>\n",
       "    </tr>\n",
       "    <tr>\n",
       "      <th>782</th>\n",
       "      <td>Valkyrie</td>\n",
       "      <td>MGM</td>\n",
       "      <td>$200.30</td>\n",
       "      <td>2008</td>\n",
       "    </tr>\n",
       "  </tbody>\n",
       "</table>\n",
       "<p>782 rows × 4 columns</p>\n",
       "</div>"
      ],
      "text/plain": [
       "                             Title           Studio       Gross  Year\n",
       "Rank                                                                 \n",
       "1                Avengers: Endgame      Buena Vista  $2,796.30   2019\n",
       "2                           Avatar              Fox  $2,789.70   2009\n",
       "3                          Titanic        Paramount  $2,187.50   1997\n",
       "4     Star Wars: The Force Awakens      Buena Vista  $2,068.20   2015\n",
       "5           Avengers: Infinity War      Buena Vista  $2,048.40   2018\n",
       "...                            ...              ...         ...   ...\n",
       "778                      Yogi Bear  Warner Brothers    $201.60   2010\n",
       "779            Garfield: The Movie              Fox    $200.80   2004\n",
       "780                    Cats & Dogs  Warner Brothers    $200.70   2001\n",
       "781       The Hunt for Red October        Paramount    $200.50   1990\n",
       "782                       Valkyrie              MGM    $200.30   2008\n",
       "\n",
       "[782 rows x 4 columns]"
      ]
     },
     "execution_count": 82,
     "metadata": {},
     "output_type": "execute_result"
    }
   ],
   "source": [
    "pd.read_csv(file2, index_col=[\"Rank\",\"Title\"]) \n",
    "pd.read_csv(file2, index_col=\"Rank\")"
   ]
  },
  {
   "cell_type": "markdown",
   "id": "09385866-d6ed-4a78-8d11-f87b55c1ea1e",
   "metadata": {},
   "source": [
    "- sep/delimiter : CSV 파일에서 데이터 구분자 설정\n",
    "    * 기본값 : 쉼표(,)"
   ]
  },
  {
   "cell_type": "code",
   "execution_count": 79,
   "id": "18986376-6a94-4b5f-b2f6-3cba76c22884",
   "metadata": {},
   "outputs": [
    {
     "data": {
      "text/html": [
       "<div>\n",
       "<style scoped>\n",
       "    .dataframe tbody tr th:only-of-type {\n",
       "        vertical-align: middle;\n",
       "    }\n",
       "\n",
       "    .dataframe tbody tr th {\n",
       "        vertical-align: top;\n",
       "    }\n",
       "\n",
       "    .dataframe thead th {\n",
       "        text-align: right;\n",
       "    }\n",
       "</style>\n",
       "<table border=\"1\" class=\"dataframe\">\n",
       "  <thead>\n",
       "    <tr style=\"text-align: right;\">\n",
       "      <th></th>\n",
       "      <th>0</th>\n",
       "    </tr>\n",
       "  </thead>\n",
       "  <tbody>\n",
       "    <tr>\n",
       "      <th>0</th>\n",
       "      <td>10;20;30;40</td>\n",
       "    </tr>\n",
       "    <tr>\n",
       "      <th>1</th>\n",
       "      <td>1;2;3;4;</td>\n",
       "    </tr>\n",
       "    <tr>\n",
       "      <th>2</th>\n",
       "      <td>11;22;33;44</td>\n",
       "    </tr>\n",
       "  </tbody>\n",
       "</table>\n",
       "</div>"
      ],
      "text/plain": [
       "             0\n",
       "0  10;20;30;40\n",
       "1     1;2;3;4;\n",
       "2  11;22;33;44"
      ]
     },
     "execution_count": 79,
     "metadata": {},
     "output_type": "execute_result"
    }
   ],
   "source": [
    "pd.read_csv(file, header=None)"
   ]
  },
  {
   "cell_type": "markdown",
   "id": "0762016c-2e05-4822-a354-2001e4e99c9f",
   "metadata": {},
   "source": [
    "- skiprows: csv 파일에 읽어 들이지 않을 행 개수 지정하기 => 앞부분\n",
    "- skipfooter : csv 파일에 읽어 들이지 않을 행 개수 지정하기 => 끝부분"
   ]
  },
  {
   "cell_type": "code",
   "execution_count": 86,
   "id": "eff46978-af4e-431d-b47e-345f6b69853a",
   "metadata": {},
   "outputs": [
    {
     "data": {
      "text/html": [
       "<div>\n",
       "<style scoped>\n",
       "    .dataframe tbody tr th:only-of-type {\n",
       "        vertical-align: middle;\n",
       "    }\n",
       "\n",
       "    .dataframe tbody tr th {\n",
       "        vertical-align: top;\n",
       "    }\n",
       "\n",
       "    .dataframe thead th {\n",
       "        text-align: right;\n",
       "    }\n",
       "</style>\n",
       "<table border=\"1\" class=\"dataframe\">\n",
       "  <thead>\n",
       "    <tr style=\"text-align: right;\">\n",
       "      <th></th>\n",
       "      <th>0</th>\n",
       "    </tr>\n",
       "  </thead>\n",
       "  <tbody>\n",
       "    <tr>\n",
       "      <th>0</th>\n",
       "      <td>1;2;3;4;</td>\n",
       "    </tr>\n",
       "    <tr>\n",
       "      <th>1</th>\n",
       "      <td>11;22;33;44</td>\n",
       "    </tr>\n",
       "  </tbody>\n",
       "</table>\n",
       "</div>"
      ],
      "text/plain": [
       "             0\n",
       "0     1;2;3;4;\n",
       "1  11;22;33;44"
      ]
     },
     "execution_count": 86,
     "metadata": {},
     "output_type": "execute_result"
    }
   ],
   "source": [
    "pd.read_csv(file,skiprows=3,header=None)"
   ]
  },
  {
   "cell_type": "code",
   "execution_count": 91,
   "id": "32103b56-165a-48a4-899d-3713c60d6e9c",
   "metadata": {},
   "outputs": [
    {
     "data": {
      "text/html": [
       "<div>\n",
       "<style scoped>\n",
       "    .dataframe tbody tr th:only-of-type {\n",
       "        vertical-align: middle;\n",
       "    }\n",
       "\n",
       "    .dataframe tbody tr th {\n",
       "        vertical-align: top;\n",
       "    }\n",
       "\n",
       "    .dataframe thead th {\n",
       "        text-align: right;\n",
       "    }\n",
       "</style>\n",
       "<table border=\"1\" class=\"dataframe\">\n",
       "  <thead>\n",
       "    <tr style=\"text-align: right;\">\n",
       "      <th></th>\n",
       "      <th>0</th>\n",
       "      <th>1</th>\n",
       "      <th>2</th>\n",
       "      <th>3</th>\n",
       "      <th>4</th>\n",
       "    </tr>\n",
       "  </thead>\n",
       "  <tbody>\n",
       "  </tbody>\n",
       "</table>\n",
       "</div>"
      ],
      "text/plain": [
       "Empty DataFrame\n",
       "Columns: [0, 1, 2, 3, 4]\n",
       "Index: []"
      ]
     },
     "execution_count": 91,
     "metadata": {},
     "output_type": "execute_result"
    }
   ],
   "source": [
    "pd.read_csv(file,skiprows=3,sep=';',header=None, skipfooter=2, engine='python')"
   ]
  },
  {
   "cell_type": "markdown",
   "id": "779256c2-9c7f-4e11-9835-5b4de17de1a9",
   "metadata": {},
   "source": [
    "- usecols : 컬럼에서 특정 컬럼만 선택해서 로딩함\n",
    "    * usecols=[0,2,,,,]\n",
    "    * usecols=['컬럼명1','컬럼명n']"
   ]
  },
  {
   "cell_type": "code",
   "execution_count": 95,
   "id": "334d94ee-3efa-44fe-b5e5-0c6af57baf0d",
   "metadata": {},
   "outputs": [
    {
     "data": {
      "text/html": [
       "<div>\n",
       "<style scoped>\n",
       "    .dataframe tbody tr th:only-of-type {\n",
       "        vertical-align: middle;\n",
       "    }\n",
       "\n",
       "    .dataframe tbody tr th {\n",
       "        vertical-align: top;\n",
       "    }\n",
       "\n",
       "    .dataframe thead th {\n",
       "        text-align: right;\n",
       "    }\n",
       "</style>\n",
       "<table border=\"1\" class=\"dataframe\">\n",
       "  <thead>\n",
       "    <tr style=\"text-align: right;\">\n",
       "      <th></th>\n",
       "      <th>0</th>\n",
       "      <th>2</th>\n",
       "    </tr>\n",
       "  </thead>\n",
       "  <tbody>\n",
       "    <tr>\n",
       "      <th>0</th>\n",
       "      <td>1</td>\n",
       "      <td>3</td>\n",
       "    </tr>\n",
       "    <tr>\n",
       "      <th>1</th>\n",
       "      <td>11</td>\n",
       "      <td>33</td>\n",
       "    </tr>\n",
       "  </tbody>\n",
       "</table>\n",
       "</div>"
      ],
      "text/plain": [
       "    0   2\n",
       "0   1   3\n",
       "1  11  33"
      ]
     },
     "execution_count": 95,
     "metadata": {},
     "output_type": "execute_result"
    }
   ],
   "source": [
    "pd.read_csv(file, sep=';',skiprows=3, header=None, usecols=[0,2])"
   ]
  },
  {
   "cell_type": "code",
   "execution_count": 96,
   "id": "c92f1912-0386-4194-914e-f9262ad3a9fa",
   "metadata": {},
   "outputs": [
    {
     "data": {
      "text/html": [
       "<div>\n",
       "<style scoped>\n",
       "    .dataframe tbody tr th:only-of-type {\n",
       "        vertical-align: middle;\n",
       "    }\n",
       "\n",
       "    .dataframe tbody tr th {\n",
       "        vertical-align: top;\n",
       "    }\n",
       "\n",
       "    .dataframe thead th {\n",
       "        text-align: right;\n",
       "    }\n",
       "</style>\n",
       "<table border=\"1\" class=\"dataframe\">\n",
       "  <thead>\n",
       "    <tr style=\"text-align: right;\">\n",
       "      <th></th>\n",
       "      <th>Rank</th>\n",
       "      <th>Year</th>\n",
       "    </tr>\n",
       "  </thead>\n",
       "  <tbody>\n",
       "    <tr>\n",
       "      <th>0</th>\n",
       "      <td>1</td>\n",
       "      <td>2019</td>\n",
       "    </tr>\n",
       "    <tr>\n",
       "      <th>1</th>\n",
       "      <td>2</td>\n",
       "      <td>2009</td>\n",
       "    </tr>\n",
       "    <tr>\n",
       "      <th>2</th>\n",
       "      <td>3</td>\n",
       "      <td>1997</td>\n",
       "    </tr>\n",
       "    <tr>\n",
       "      <th>3</th>\n",
       "      <td>4</td>\n",
       "      <td>2015</td>\n",
       "    </tr>\n",
       "    <tr>\n",
       "      <th>4</th>\n",
       "      <td>5</td>\n",
       "      <td>2018</td>\n",
       "    </tr>\n",
       "    <tr>\n",
       "      <th>...</th>\n",
       "      <td>...</td>\n",
       "      <td>...</td>\n",
       "    </tr>\n",
       "    <tr>\n",
       "      <th>777</th>\n",
       "      <td>778</td>\n",
       "      <td>2010</td>\n",
       "    </tr>\n",
       "    <tr>\n",
       "      <th>778</th>\n",
       "      <td>779</td>\n",
       "      <td>2004</td>\n",
       "    </tr>\n",
       "    <tr>\n",
       "      <th>779</th>\n",
       "      <td>780</td>\n",
       "      <td>2001</td>\n",
       "    </tr>\n",
       "    <tr>\n",
       "      <th>780</th>\n",
       "      <td>781</td>\n",
       "      <td>1990</td>\n",
       "    </tr>\n",
       "    <tr>\n",
       "      <th>781</th>\n",
       "      <td>782</td>\n",
       "      <td>2008</td>\n",
       "    </tr>\n",
       "  </tbody>\n",
       "</table>\n",
       "<p>782 rows × 2 columns</p>\n",
       "</div>"
      ],
      "text/plain": [
       "     Rank  Year\n",
       "0       1  2019\n",
       "1       2  2009\n",
       "2       3  1997\n",
       "3       4  2015\n",
       "4       5  2018\n",
       "..    ...   ...\n",
       "777   778  2010\n",
       "778   779  2004\n",
       "779   780  2001\n",
       "780   781  1990\n",
       "781   782  2008\n",
       "\n",
       "[782 rows x 2 columns]"
      ]
     },
     "execution_count": 96,
     "metadata": {},
     "output_type": "execute_result"
    }
   ],
   "source": [
    "pd.read_csv(file2,usecols=[\"Rank\", \"Year\"])\n",
    "#pd.read_csv(file2,usecols=[0,4])"
   ]
  },
  {
   "cell_type": "markdown",
   "id": "4def12f4-9474-4025-bfd2-0034b2dce5eb",
   "metadata": {},
   "source": []
  },
  {
   "cell_type": "code",
   "execution_count": null,
   "id": "4f66e9bd-1034-4149-8736-1d249415bb8c",
   "metadata": {},
   "outputs": [],
   "source": []
  },
  {
   "cell_type": "code",
   "execution_count": null,
   "id": "17cdf159-77d4-447d-9b77-0a01be325ec5",
   "metadata": {},
   "outputs": [],
   "source": []
  },
  {
   "cell_type": "code",
   "execution_count": null,
   "id": "ff570330-9203-4759-b096-64f12b287131",
   "metadata": {},
   "outputs": [],
   "source": []
  },
  {
   "cell_type": "code",
   "execution_count": null,
   "id": "5bdbc0bc-e07f-46b3-a7af-dcd40931a930",
   "metadata": {},
   "outputs": [],
   "source": []
  },
  {
   "cell_type": "code",
   "execution_count": null,
   "id": "feae882c-71ea-4864-abdd-79c45adaf7a9",
   "metadata": {},
   "outputs": [],
   "source": []
  },
  {
   "cell_type": "code",
   "execution_count": null,
   "id": "905593b6-30f2-4f20-9fcf-14ac263dd508",
   "metadata": {},
   "outputs": [],
   "source": []
  }
 ],
 "metadata": {
  "kernelspec": {
   "display_name": "Python 3 (ipykernel)",
   "language": "python",
   "name": "python3"
  },
  "language_info": {
   "codemirror_mode": {
    "name": "ipython",
    "version": 3
   },
   "file_extension": ".py",
   "mimetype": "text/x-python",
   "name": "python",
   "nbconvert_exporter": "python",
   "pygments_lexer": "ipython3",
   "version": "3.8.18"
  }
 },
 "nbformat": 4,
 "nbformat_minor": 5
}
