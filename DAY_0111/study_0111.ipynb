{
 "cells": [
  {
   "cell_type": "markdown",
   "id": "3068cf2a-455d-4442-a5c6-87920ab48c1c",
   "metadata": {},
   "source": [
    "1. 모듈 로딩"
   ]
  },
  {
   "cell_type": "code",
   "execution_count": 1,
   "id": "feaf899e-7ed8-4b21-b023-cb927e2b2640",
   "metadata": {},
   "outputs": [],
   "source": [
    "import pandas as pd\n",
    "import numpy as np"
   ]
  },
  {
   "cell_type": "markdown",
   "id": "1b4d96b2-4f5c-4c92-ac6c-3562fad27a75",
   "metadata": {},
   "source": [
    "2. 딕셔너리에서 DataFrame 생성"
   ]
  },
  {
   "cell_type": "code",
   "execution_count": 20,
   "id": "77233500-5f72-41da-a3fe-c02038ba3971",
   "metadata": {},
   "outputs": [
    {
     "data": {
      "text/html": [
       "<div>\n",
       "<style scoped>\n",
       "    .dataframe tbody tr th:only-of-type {\n",
       "        vertical-align: middle;\n",
       "    }\n",
       "\n",
       "    .dataframe tbody tr th {\n",
       "        vertical-align: top;\n",
       "    }\n",
       "\n",
       "    .dataframe thead th {\n",
       "        text-align: right;\n",
       "    }\n",
       "</style>\n",
       "<table border=\"1\" class=\"dataframe\">\n",
       "  <thead>\n",
       "    <tr style=\"text-align: right;\">\n",
       "      <th></th>\n",
       "      <th>City</th>\n",
       "      <th>Country</th>\n",
       "      <th>Population</th>\n",
       "    </tr>\n",
       "  </thead>\n",
       "  <tbody>\n",
       "    <tr>\n",
       "      <th>0</th>\n",
       "      <td>New york city</td>\n",
       "      <td>United States</td>\n",
       "      <td>8600000</td>\n",
       "    </tr>\n",
       "    <tr>\n",
       "      <th>1</th>\n",
       "      <td>Paris</td>\n",
       "      <td>France</td>\n",
       "      <td>2141000</td>\n",
       "    </tr>\n",
       "    <tr>\n",
       "      <th>2</th>\n",
       "      <td>Barcelona</td>\n",
       "      <td>Spain</td>\n",
       "      <td>5515000</td>\n",
       "    </tr>\n",
       "    <tr>\n",
       "      <th>3</th>\n",
       "      <td>Rome</td>\n",
       "      <td>Italy</td>\n",
       "      <td>2873000</td>\n",
       "    </tr>\n",
       "  </tbody>\n",
       "</table>\n",
       "</div>"
      ],
      "text/plain": [
       "            City        Country  Population\n",
       "0  New york city  United States     8600000\n",
       "1          Paris         France     2141000\n",
       "2      Barcelona          Spain     5515000\n",
       "3           Rome          Italy     2873000"
      ]
     },
     "execution_count": 20,
     "metadata": {},
     "output_type": "execute_result"
    }
   ],
   "source": [
    "city_data={ \"City\" : [\"New york city\",\"Paris\",\"Barcelona\",\"Rome\"], \"Country\" : [\"United States\",\"France\",\"Spain\",\"Italy\"], \"Population\":pd.Series([8600000,2141000,5515000,2873000])}\n",
    "cities = pd.DataFrame(city_data)\n",
    "cities"
   ]
  },
  {
   "cell_type": "markdown",
   "id": "ce4a1bf4-0d23-4c3b-8a66-a30ccce65c8c",
   "metadata": {},
   "source": [
    "3. 열 헤더를 인덱스 레이블로 바꾸기"
   ]
  },
  {
   "cell_type": "code",
   "execution_count": 21,
   "id": "206b4f4e-50b2-4093-a667-389606995835",
   "metadata": {},
   "outputs": [
    {
     "data": {
      "text/html": [
       "<div>\n",
       "<style scoped>\n",
       "    .dataframe tbody tr th:only-of-type {\n",
       "        vertical-align: middle;\n",
       "    }\n",
       "\n",
       "    .dataframe tbody tr th {\n",
       "        vertical-align: top;\n",
       "    }\n",
       "\n",
       "    .dataframe thead th {\n",
       "        text-align: right;\n",
       "    }\n",
       "</style>\n",
       "<table border=\"1\" class=\"dataframe\">\n",
       "  <thead>\n",
       "    <tr style=\"text-align: right;\">\n",
       "      <th></th>\n",
       "      <th>0</th>\n",
       "      <th>1</th>\n",
       "      <th>2</th>\n",
       "      <th>3</th>\n",
       "    </tr>\n",
       "  </thead>\n",
       "  <tbody>\n",
       "    <tr>\n",
       "      <th>City</th>\n",
       "      <td>New york city</td>\n",
       "      <td>Paris</td>\n",
       "      <td>Barcelona</td>\n",
       "      <td>Rome</td>\n",
       "    </tr>\n",
       "    <tr>\n",
       "      <th>Country</th>\n",
       "      <td>United States</td>\n",
       "      <td>France</td>\n",
       "      <td>Spain</td>\n",
       "      <td>Italy</td>\n",
       "    </tr>\n",
       "    <tr>\n",
       "      <th>Population</th>\n",
       "      <td>8600000</td>\n",
       "      <td>2141000</td>\n",
       "      <td>5515000</td>\n",
       "      <td>2873000</td>\n",
       "    </tr>\n",
       "  </tbody>\n",
       "</table>\n",
       "</div>"
      ],
      "text/plain": [
       "                        0        1          2        3\n",
       "City        New york city    Paris  Barcelona     Rome\n",
       "Country     United States   France      Spain    Italy\n",
       "Population        8600000  2141000    5515000  2873000"
      ]
     },
     "execution_count": 21,
     "metadata": {},
     "output_type": "execute_result"
    }
   ],
   "source": [
    "cities.transpose()\n",
    "cities.T"
   ]
  },
  {
   "cell_type": "markdown",
   "id": "b4d1bcd5-cc3d-4588-84a9-2d150d799f52",
   "metadata": {},
   "source": [
    "4. 넘파이 ndarray로 DataFrame 생성"
   ]
  },
  {
   "cell_type": "code",
   "execution_count": 2,
   "id": "ad4008ce-e423-4dc4-ac29-e6dcf053bdec",
   "metadata": {},
   "outputs": [
    {
     "data": {
      "text/plain": [
       "array([[43, 77, 48, 61, 83],\n",
       "       [88, 76, 32, 18, 24],\n",
       "       [83, 61, 49, 77,  1]])"
      ]
     },
     "execution_count": 2,
     "metadata": {},
     "output_type": "execute_result"
    }
   ],
   "source": [
    "random_data = np.random.randint(1,101,[3,5])\n",
    "random_data"
   ]
  },
  {
   "cell_type": "code",
   "execution_count": 3,
   "id": "b479200c",
   "metadata": {},
   "outputs": [
    {
     "data": {
      "text/html": [
       "<div>\n",
       "<style scoped>\n",
       "    .dataframe tbody tr th:only-of-type {\n",
       "        vertical-align: middle;\n",
       "    }\n",
       "\n",
       "    .dataframe tbody tr th {\n",
       "        vertical-align: top;\n",
       "    }\n",
       "\n",
       "    .dataframe thead th {\n",
       "        text-align: right;\n",
       "    }\n",
       "</style>\n",
       "<table border=\"1\" class=\"dataframe\">\n",
       "  <thead>\n",
       "    <tr style=\"text-align: right;\">\n",
       "      <th></th>\n",
       "      <th>0</th>\n",
       "      <th>1</th>\n",
       "      <th>2</th>\n",
       "      <th>3</th>\n",
       "      <th>4</th>\n",
       "    </tr>\n",
       "  </thead>\n",
       "  <tbody>\n",
       "    <tr>\n",
       "      <th>0</th>\n",
       "      <td>43</td>\n",
       "      <td>77</td>\n",
       "      <td>48</td>\n",
       "      <td>61</td>\n",
       "      <td>83</td>\n",
       "    </tr>\n",
       "    <tr>\n",
       "      <th>1</th>\n",
       "      <td>88</td>\n",
       "      <td>76</td>\n",
       "      <td>32</td>\n",
       "      <td>18</td>\n",
       "      <td>24</td>\n",
       "    </tr>\n",
       "    <tr>\n",
       "      <th>2</th>\n",
       "      <td>83</td>\n",
       "      <td>61</td>\n",
       "      <td>49</td>\n",
       "      <td>77</td>\n",
       "      <td>1</td>\n",
       "    </tr>\n",
       "  </tbody>\n",
       "</table>\n",
       "</div>"
      ],
      "text/plain": [
       "    0   1   2   3   4\n",
       "0  43  77  48  61  83\n",
       "1  88  76  32  18  24\n",
       "2  83  61  49  77   1"
      ]
     },
     "execution_count": 3,
     "metadata": {},
     "output_type": "execute_result"
    }
   ],
   "source": [
    "pd.DataFrame(data=random_data)"
   ]
  },
  {
   "cell_type": "code",
   "execution_count": 4,
   "id": "89f8b36e",
   "metadata": {},
   "outputs": [
    {
     "data": {
      "text/html": [
       "<div>\n",
       "<style scoped>\n",
       "    .dataframe tbody tr th:only-of-type {\n",
       "        vertical-align: middle;\n",
       "    }\n",
       "\n",
       "    .dataframe tbody tr th {\n",
       "        vertical-align: top;\n",
       "    }\n",
       "\n",
       "    .dataframe thead th {\n",
       "        text-align: right;\n",
       "    }\n",
       "</style>\n",
       "<table border=\"1\" class=\"dataframe\">\n",
       "  <thead>\n",
       "    <tr style=\"text-align: right;\">\n",
       "      <th></th>\n",
       "      <th>0</th>\n",
       "      <th>1</th>\n",
       "      <th>2</th>\n",
       "      <th>3</th>\n",
       "      <th>4</th>\n",
       "    </tr>\n",
       "  </thead>\n",
       "  <tbody>\n",
       "    <tr>\n",
       "      <th>Morning</th>\n",
       "      <td>43</td>\n",
       "      <td>77</td>\n",
       "      <td>48</td>\n",
       "      <td>61</td>\n",
       "      <td>83</td>\n",
       "    </tr>\n",
       "    <tr>\n",
       "      <th>Afternoon</th>\n",
       "      <td>88</td>\n",
       "      <td>76</td>\n",
       "      <td>32</td>\n",
       "      <td>18</td>\n",
       "      <td>24</td>\n",
       "    </tr>\n",
       "    <tr>\n",
       "      <th>EVening</th>\n",
       "      <td>83</td>\n",
       "      <td>61</td>\n",
       "      <td>49</td>\n",
       "      <td>77</td>\n",
       "      <td>1</td>\n",
       "    </tr>\n",
       "  </tbody>\n",
       "</table>\n",
       "</div>"
      ],
      "text/plain": [
       "            0   1   2   3   4\n",
       "Morning    43  77  48  61  83\n",
       "Afternoon  88  76  32  18  24\n",
       "EVening    83  61  49  77   1"
      ]
     },
     "execution_count": 4,
     "metadata": {},
     "output_type": "execute_result"
    }
   ],
   "source": [
    "row_labels = [\"Morning\",\"Afternoon\",\"EVening\"]\n",
    "temperatures=pd.DataFrame(data=random_data,index=row_labels)\n",
    "temperatures"
   ]
  },
  {
   "cell_type": "code",
   "execution_count": 5,
   "id": "7c32d6bb",
   "metadata": {},
   "outputs": [
    {
     "data": {
      "text/html": [
       "<div>\n",
       "<style scoped>\n",
       "    .dataframe tbody tr th:only-of-type {\n",
       "        vertical-align: middle;\n",
       "    }\n",
       "\n",
       "    .dataframe tbody tr th {\n",
       "        vertical-align: top;\n",
       "    }\n",
       "\n",
       "    .dataframe thead th {\n",
       "        text-align: right;\n",
       "    }\n",
       "</style>\n",
       "<table border=\"1\" class=\"dataframe\">\n",
       "  <thead>\n",
       "    <tr style=\"text-align: right;\">\n",
       "      <th></th>\n",
       "      <th>Monday</th>\n",
       "      <th>Tuesday</th>\n",
       "      <th>Wednesday</th>\n",
       "      <th>Thursday</th>\n",
       "      <th>Friday</th>\n",
       "    </tr>\n",
       "  </thead>\n",
       "  <tbody>\n",
       "    <tr>\n",
       "      <th>Morning</th>\n",
       "      <td>43</td>\n",
       "      <td>77</td>\n",
       "      <td>48</td>\n",
       "      <td>61</td>\n",
       "      <td>83</td>\n",
       "    </tr>\n",
       "    <tr>\n",
       "      <th>Afternoon</th>\n",
       "      <td>88</td>\n",
       "      <td>76</td>\n",
       "      <td>32</td>\n",
       "      <td>18</td>\n",
       "      <td>24</td>\n",
       "    </tr>\n",
       "    <tr>\n",
       "      <th>Evening</th>\n",
       "      <td>83</td>\n",
       "      <td>61</td>\n",
       "      <td>49</td>\n",
       "      <td>77</td>\n",
       "      <td>1</td>\n",
       "    </tr>\n",
       "  </tbody>\n",
       "</table>\n",
       "</div>"
      ],
      "text/plain": [
       "           Monday  Tuesday  Wednesday  Thursday  Friday\n",
       "Morning        43       77         48        61      83\n",
       "Afternoon      88       76         32        18      24\n",
       "Evening        83       61         49        77       1"
      ]
     },
     "execution_count": 5,
     "metadata": {},
     "output_type": "execute_result"
    }
   ],
   "source": [
    "row_labels=[\"Morning\", \"Afternoon\", \"Evening\"]\n",
    "column_lables=(\"Monday\", \"Tuesday\",\"Wednesday\",\"Thursday\",\"Friday\")\n",
    "pd.DataFrame(data=random_data, index=row_labels,columns=column_lables,)"
   ]
  },
  {
   "cell_type": "code",
   "execution_count": null,
   "id": "7b87243e",
   "metadata": {},
   "outputs": [],
   "source": []
  }
 ],
 "metadata": {
  "kernelspec": {
   "display_name": "Python 3 (ipykernel)",
   "language": "python",
   "name": "python3"
  },
  "language_info": {
   "codemirror_mode": {
    "name": "ipython",
    "version": 3
   },
   "file_extension": ".py",
   "mimetype": "text/x-python",
   "name": "python",
   "nbconvert_exporter": "python",
   "pygments_lexer": "ipython3",
   "version": "3.8.18"
  }
 },
 "nbformat": 4,
 "nbformat_minor": 5
}
