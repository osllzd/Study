{
 "cells": [
  {
   "cell_type": "markdown",
   "id": "4e00b37f-4bbb-4c3a-985e-9286c4954615",
   "metadata": {},
   "source": [
    "<h1>시리즈(series)살펴보기/<h1>\n",
    "- 판다스에서 데이터를 저장하는 자료 구조 중 하나\n",
    "- 동일한 타입의 데이터를 연속된 메모리 공간에 저장 함\n",
    "- 구성 : 인덱스 + 데이터\n",
    "- 생성 : series()생성자 메서드"
   ]
  },
  {
   "cell_type": "markdown",
   "id": "2750d461-4c0d-45c6-93fa-290ef684e3d3",
   "metadata": {},
   "source": [
    "### (1) 모듈 로딩 --------------------------------------------------------"
   ]
  },
  {
   "cell_type": "code",
   "execution_count": 4,
   "id": "037fdc3f-7c0b-4368-8cb8-0834b0d68263",
   "metadata": {},
   "outputs": [],
   "source": [
    "import pandas as pd"
   ]
  },
  {
   "cell_type": "markdown",
   "id": "2f1b09d4-4d4b-4b36-a3b7-a61cb487f7cb",
   "metadata": {},
   "source": [
    "#### (2) 시리즈 객체 생성 ----------------------------------------------------------"
   ]
  },
  {
   "cell_type": "code",
   "execution_count": 14,
   "id": "9f789b89-16c2-4fe7-bf24-3c9ff162950e",
   "metadata": {},
   "outputs": [],
   "source": [
    "# 객체 생성에 사용되는 메서드 => 생성자(constructer)\n",
    "# 데이터 타입과 동일한 이름의 메서드 => Series()\n",
    "sr=pd.Series([11,22,33])"
   ]
  },
  {
   "cell_type": "code",
   "execution_count": 15,
   "id": "be577a28-f3d6-4151-9c2c-c3ba033078b6",
   "metadata": {},
   "outputs": [
    {
     "data": {
      "text/plain": [
       "0    11\n",
       "1    22\n",
       "2    33\n",
       "dtype: int64"
      ]
     },
     "execution_count": 15,
     "metadata": {},
     "output_type": "execute_result"
    }
   ],
   "source": [
    "sr"
   ]
  },
  {
   "cell_type": "code",
   "execution_count": 16,
   "id": "1cea71f6-eb9f-420c-b43d-10f301ce3e39",
   "metadata": {},
   "outputs": [
    {
     "data": {
      "text/plain": [
       "pandas.core.series.Series"
      ]
     },
     "execution_count": 16,
     "metadata": {},
     "output_type": "execute_result"
    }
   ],
   "source": [
    "type(sr)"
   ]
  },
  {
   "cell_type": "markdown",
   "id": "9af71a2e-5479-4b14-8454-e56142db6efa",
   "metadata": {},
   "source": [
    "Series 객체의 속성(attributes) / 필드(field) 살펴보기\n",
    "    * 기본 : data,index,dtype\n",
    "    * 읽기 :  객체변수명, 속성명\n",
    "    * 쓰기 : 객체변수명, 속성명 = 새로운 값 ( 모든 속성이 가능한 건 아님!!)"
   ]
  },
  {
   "cell_type": "code",
   "execution_count": 17,
   "id": "d192cebe-8db0-4de7-8b91-9f8dc66f49d6",
   "metadata": {},
   "outputs": [
    {
     "data": {
      "text/plain": [
       "RangeIndex(start=0, stop=3, step=1)"
      ]
     },
     "execution_count": 17,
     "metadata": {},
     "output_type": "execute_result"
    }
   ],
   "source": [
    "sr.index"
   ]
  },
  {
   "cell_type": "code",
   "execution_count": 18,
   "id": "f8e8eaa9-5107-490b-93d8-646e4b6c86a1",
   "metadata": {},
   "outputs": [
    {
     "data": {
      "text/plain": [
       "array([11, 22, 33], dtype=int64)"
      ]
     },
     "execution_count": 18,
     "metadata": {},
     "output_type": "execute_result"
    }
   ],
   "source": [
    "# 현재 시리즈 객체에 저장된 데이터 즉 값 확인\n",
    "sr.values"
   ]
  },
  {
   "cell_type": "code",
   "execution_count": 19,
   "id": "4e057b87-2ebc-4549-91fb-2338860b5c13",
   "metadata": {},
   "outputs": [],
   "source": [
    "# 시리즈 객체의 인덱스 변경\n",
    "sr.index = [100, 200, 300]"
   ]
  },
  {
   "cell_type": "code",
   "execution_count": 20,
   "id": "5487994e-9df6-4e23-b116-0095ed685c6a",
   "metadata": {},
   "outputs": [
    {
     "data": {
      "text/plain": [
       "100    11\n",
       "200    22\n",
       "300    33\n",
       "dtype: int64"
      ]
     },
     "execution_count": 20,
     "metadata": {},
     "output_type": "execute_result"
    }
   ],
   "source": [
    "sr"
   ]
  },
  {
   "cell_type": "code",
   "execution_count": 21,
   "id": "9f0a9815-3f4b-4869-bdca-de4c56e209f7",
   "metadata": {},
   "outputs": [],
   "source": [
    "sr.index = ['A','B','C']"
   ]
  },
  {
   "cell_type": "code",
   "execution_count": 23,
   "id": "2428aa74-453d-4cf2-afe9-d2297c086b65",
   "metadata": {},
   "outputs": [
    {
     "data": {
      "text/plain": [
       "A    11\n",
       "B    22\n",
       "C    33\n",
       "dtype: int64"
      ]
     },
     "execution_count": 23,
     "metadata": {},
     "output_type": "execute_result"
    }
   ],
   "source": [
    "sr"
   ]
  },
  {
   "cell_type": "markdown",
   "id": "4972f906-f60a-4d61-99e0-156182a506cc",
   "metadata": {},
   "source": [
    "# 속성은 속성방식으로 변경이 불가함\n",
    "sr.values = [777,888,999]"
   ]
  },
  {
   "cell_type": "markdown",
   "id": "e3ec218d-7c18-40a5-98b0-46ad77537395",
   "metadata": {},
   "source": [
    "- 시리즈 객체의 요소 데이터/값 제어\n",
    "      * 읽기: 객체변수명[인덱스]\n",
    "      * 쓰기: 객체변수명[인덱스] = 새로운 값"
   ]
  },
  {
   "cell_type": "code",
   "execution_count": 26,
   "id": "e01a6bd7-0423-4b24-b47f-37113d46674d",
   "metadata": {},
   "outputs": [
    {
     "data": {
      "text/plain": [
       "11"
      ]
     },
     "execution_count": 26,
     "metadata": {},
     "output_type": "execute_result"
    }
   ],
   "source": [
    "sr['A']"
   ]
  },
  {
   "cell_type": "code",
   "execution_count": 27,
   "id": "4c70cfdc-34c8-4741-a8fc-19fd346061cf",
   "metadata": {},
   "outputs": [],
   "source": [
    "sr['A'] = 2024"
   ]
  },
  {
   "cell_type": "code",
   "execution_count": 28,
   "id": "a6c08c14-cae4-4520-9280-3f9ed52c54b5",
   "metadata": {},
   "outputs": [
    {
     "data": {
      "text/plain": [
       "A    2024\n",
       "B      22\n",
       "C      33\n",
       "dtype: int64"
      ]
     },
     "execution_count": 28,
     "metadata": {},
     "output_type": "execute_result"
    }
   ],
   "source": [
    "sr"
   ]
  },
  {
   "cell_type": "code",
   "execution_count": 31,
   "id": "82866eca-d972-4d1c-9a7b-38d0b4375251",
   "metadata": {},
   "outputs": [
    {
     "data": {
      "text/plain": [
       "(2024, 2024)"
      ]
     },
     "execution_count": 31,
     "metadata": {},
     "output_type": "execute_result"
    }
   ],
   "source": [
    "sr[0],sr['A'] # 결과가 튜플로 나옴"
   ]
  },
  {
   "cell_type": "code",
   "execution_count": 32,
   "id": "e5051273-ec48-4d54-ba71-8e5524682f78",
   "metadata": {},
   "outputs": [],
   "source": [
    "sr.index=[11,22,33]"
   ]
  },
  {
   "cell_type": "code",
   "execution_count": 33,
   "id": "dd9fccb2-62d2-4f75-bbce-0da341ddf904",
   "metadata": {},
   "outputs": [
    {
     "data": {
      "text/plain": [
       "Index([11, 22, 33], dtype='int64')"
      ]
     },
     "execution_count": 33,
     "metadata": {},
     "output_type": "execute_result"
    }
   ],
   "source": [
    "sr.index"
   ]
  },
  {
   "cell_type": "code",
   "execution_count": 34,
   "id": "fcb644b1-4ad8-43df-9e47-4237ae6c8a83",
   "metadata": {},
   "outputs": [
    {
     "data": {
      "text/plain": [
       "2024"
      ]
     },
     "execution_count": 34,
     "metadata": {},
     "output_type": "execute_result"
    }
   ],
   "source": [
    "sr[11]"
   ]
  },
  {
   "cell_type": "code",
   "execution_count": 36,
   "id": "d24c535c-98df-44d0-8b0b-05d7430cb292",
   "metadata": {},
   "outputs": [
    {
     "name": "stdout",
     "output_type": "stream",
     "text": [
      "11 2024\n",
      "22 22\n",
      "33 33\n"
     ]
    }
   ],
   "source": [
    "for idx in sr.index:\n",
    "    print(idx, sr[idx])\n",
    "    sr[idx] = sr[idx]"
   ]
  },
  {
   "cell_type": "code",
   "execution_count": 38,
   "id": "93567ee7-7d91-4d9f-a080-ccc3f59eed40",
   "metadata": {},
   "outputs": [
    {
     "data": {
      "text/plain": [
       "1    2024\n",
       "2      22\n",
       "3      33\n",
       "dtype: int64"
      ]
     },
     "execution_count": 38,
     "metadata": {},
     "output_type": "execute_result"
    }
   ],
   "source": [
    "# 문자열 숫자로 인덱스를 변경\n",
    "sr.index=['1' , '2' , '3']\n",
    "sr\n"
   ]
  },
  {
   "cell_type": "code",
   "execution_count": 41,
   "id": "088a4484-57ce-491f-9bf3-f14af1ad6b6f",
   "metadata": {},
   "outputs": [
    {
     "data": {
      "text/plain": [
       "(2024, 2024)"
      ]
     },
     "execution_count": 41,
     "metadata": {},
     "output_type": "execute_result"
    }
   ],
   "source": [
    "sr['1'],sr[0]"
   ]
  },
  {
   "cell_type": "code",
   "execution_count": null,
   "id": "bd9beac0-d21e-4d4c-b675-ea0a0ad0a902",
   "metadata": {},
   "outputs": [],
   "source": [
    "# 숫자 라벨 인덱스 지정하면 정수 위치 인덱스 => 정수 위치 인덱스 사용 불가\n",
    "# sr[0]"
   ]
  }
 ],
 "metadata": {
  "kernelspec": {
   "display_name": "Python 3 (ipykernel)",
   "language": "python",
   "name": "python3"
  },
  "language_info": {
   "codemirror_mode": {
    "name": "ipython",
    "version": 3
   },
   "file_extension": ".py",
   "mimetype": "text/x-python",
   "name": "python",
   "nbconvert_exporter": "python",
   "pygments_lexer": "ipython3",
   "version": "3.8.18"
  }
 },
 "nbformat": 4,
 "nbformat_minor": 5
}
