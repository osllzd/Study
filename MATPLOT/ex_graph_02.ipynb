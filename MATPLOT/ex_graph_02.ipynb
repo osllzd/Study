{
 "cells": [
  {
   "cell_type": "markdown",
   "id": "c5daf60a-a820-4630-a45c-2dbb2b2d683c",
   "metadata": {},
   "source": [
    "## [ 데이터 시각화 다듬기 ]\n",
    "- x,y축 레이블 지정\n",
    "- x,y축 눈금 설정\n",
    "- 한글 폰트 설정\n",
    "- 범례 설정"
   ]
  },
  {
   "cell_type": "code",
   "execution_count": 1,
   "id": "4b18afba-c5fd-4e86-a7a1-22c4f65ee380",
   "metadata": {},
   "outputs": [],
   "source": [
    "import matplotlib as plt               # 그래프 관련 모듈\n",
    "import matplotlib as mpl               # 패키지 관련\n",
    "import matplotlib.font_manager as fm   # 패키지 리소스 즉 자원 중 폰트 관련 모듈\n",
    "\n",
    "import pandas as pd"
   ]
  },
  {
   "cell_type": "code",
   "execution_count": null,
   "id": "ad4e6f45-94e9-4482-80f5-be53417013d9",
   "metadata": {},
   "outputs": [],
   "source": []
  }
 ],
 "metadata": {
  "kernelspec": {
   "display_name": "Python 3 (ipykernel)",
   "language": "python",
   "name": "python3"
  },
  "language_info": {
   "codemirror_mode": {
    "name": "ipython",
    "version": 3
   },
   "file_extension": ".py",
   "mimetype": "text/x-python",
   "name": "python",
   "nbconvert_exporter": "python",
   "pygments_lexer": "ipython3",
   "version": "3.8.18"
  }
 },
 "nbformat": 4,
 "nbformat_minor": 5
}
