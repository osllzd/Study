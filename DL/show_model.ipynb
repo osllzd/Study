{
 "cells": [
  {
   "cell_type": "markdown",
   "source": [
    "# 모델 시연"
   ],
   "metadata": {
    "collapsed": false
   },
   "id": "d4bc2b825404282a"
  },
  {
   "cell_type": "code",
   "outputs": [],
   "source": [
    "from PIL import Image\n",
    "import torchvision.transforms as transforms\n",
    "import torch\n",
    "import torch.nn.functional as F\n",
    "from cnn import CNN  "
   ],
   "metadata": {
    "collapsed": false,
    "ExecuteTime": {
     "end_time": "2024-03-27T07:21:50.016261Z",
     "start_time": "2024-03-27T07:21:50.005854Z"
    }
   },
   "id": "a2ca53ed77e26243",
   "execution_count": 14
  },
  {
   "cell_type": "code",
   "outputs": [],
   "source": [
    "text1 ='''\n",
    "It's muffin ! Enjoy🍗\n",
    "＼😆へ　 へ😁ヘ　 く😎/\n",
    "ヘ / 　　　 ( ヘ　　 　( ヘ\n",
    "　 >　 　 <　　　　く\n",
    "'''\n",
    "text2='''\n",
    "WaTcH OuT ! It's chihuahua 🐶\n",
    "  ．．．．．/)─―ヘ\n",
    "  　　　━／　　　　＼\n",
    "  　 ／　　　　●　　●丶\n",
    "  　｜　　　　　　　▼　| (침묵)\n",
    "  　｜　　　　　　　亠ノ 　\n",
    "  　 U￣U￣￣￣U￣￣U\n",
    "'''"
   ],
   "metadata": {
    "collapsed": false,
    "ExecuteTime": {
     "end_time": "2024-03-27T07:21:51.581976Z",
     "start_time": "2024-03-27T07:21:51.562788Z"
    }
   },
   "id": "51b08dde6d01e37",
   "execution_count": 15
  },
  {
   "cell_type": "code",
   "outputs": [],
   "source": [
    "# 모델 정의\n",
    "model = CNN()\n",
    "model.load_state_dict(torch.load('best_cnn.pth'))  # 저장된 모델을 불러옴\n",
    "model.eval()"
   ],
   "metadata": {
    "collapsed": false,
    "ExecuteTime": {
     "end_time": "2024-03-27T07:28:27.140072Z",
     "start_time": "2024-03-27T07:28:26.931628Z"
    }
   },
   "id": "989df165f1b0c64e",
   "execution_count": 23
  },
  {
   "cell_type": "code",
   "outputs": [
    {
     "data": {
      "text/plain": "<PIL.JpegImagePlugin.JpegImageFile image mode=RGB size=114x83>",
      "image/png": "[encoded data removed]",
      "image/jpeg": "[encoded data removed]"
     },
     "execution_count": 24,
     "metadata": {},
     "output_type": "execute_result"
    }
   ],
   "source": [
    "# 시연할 새로운 이미지 준비\n",
    "# sample_image = \"./image/test_dog.jpg\"\n",
    "sample_image =  './data/img/train/chihuahua/img_0_304.jpg' \n",
    "img = Image.open(sample_image)\n",
    "img"
   ],
   "metadata": {
    "collapsed": false,
    "ExecuteTime": {
     "end_time": "2024-03-27T07:28:27.295853Z",
     "start_time": "2024-03-27T07:28:27.270708Z"
    }
   },
   "id": "4420d3a78a2c7bc2",
   "execution_count": 24
  },
  {
   "cell_type": "code",
   "outputs": [
    {
     "name": "stdout",
     "output_type": "stream",
     "text": [
      "torch.Size([3, 150, 150])\n"
     ]
    }
   ],
   "source": [
    "# 모델이 학습된 형태의 이미지로 변환\n",
    "preprocessing = transforms.Compose([\n",
    "    transforms.Resize(size = (150, 150)),\n",
    "    transforms.ToTensor(),\n",
    "    transforms.Normalize((0.5, 0.5, 0.5), (0.5, 0.5, 0.5))\n",
    "])\n",
    "p_img = preprocessing(img)\n",
    "print(p_img.shape)"
   ],
   "metadata": {
    "collapsed": false,
    "ExecuteTime": {
     "end_time": "2024-03-27T07:28:27.955126Z",
     "start_time": "2024-03-27T07:28:27.944025Z"
    }
   },
   "id": "8580b90793e7041",
   "execution_count": 25
  },
  {
   "cell_type": "code",
   "outputs": [
    {
     "ename": "AttributeError",
     "evalue": "'collections.OrderedDict' object has no attribute 'eval'",
     "output_type": "error",
     "traceback": [
      "\u001B[1;31m---------------------------------------------------------------------------\u001B[0m",
      "\u001B[1;31mAttributeError\u001B[0m                            Traceback (most recent call last)",
      "Cell \u001B[1;32mIn[26], line 2\u001B[0m\n\u001B[0;32m      1\u001B[0m \u001B[38;5;66;03m# 모델 시연 라쓰고\u001B[39;00m\n\u001B[1;32m----> 2\u001B[0m \u001B[43msaved_model\u001B[49m\u001B[38;5;241;43m.\u001B[39;49m\u001B[43meval\u001B[49m()\n\u001B[0;32m      4\u001B[0m \u001B[38;5;28;01mwith\u001B[39;00m torch\u001B[38;5;241m.\u001B[39mno_grad():\n\u001B[0;32m      5\u001B[0m     p_img \u001B[38;5;241m=\u001B[39m p_img\u001B[38;5;241m.\u001B[39munsqueeze(dim \u001B[38;5;241m=\u001B[39m \u001B[38;5;241m0\u001B[39m)\n",
      "\u001B[1;31mAttributeError\u001B[0m: 'collections.OrderedDict' object has no attribute 'eval'"
     ]
    }
   ],
   "source": [
    "# 모델 시연 라쓰고\n",
    "saved_model.eval()\n",
    "\n",
    "with torch.no_grad():\n",
    "    p_img = p_img.unsqueeze(dim = 0)\n",
    "    output = saved_model(p_img)\n",
    "    output = F.sigmoid(output).item()\n",
    "print(output)"
   ],
   "metadata": {
    "collapsed": false,
    "ExecuteTime": {
     "end_time": "2024-03-27T07:28:28.452385Z",
     "start_time": "2024-03-27T07:28:28.406085Z"
    }
   },
   "id": "379d5a624807d1b5",
   "execution_count": 26
  },
  {
   "cell_type": "code",
   "outputs": [
    {
     "ename": "NameError",
     "evalue": "name 'output' is not defined",
     "output_type": "error",
     "traceback": [
      "\u001B[1;31m---------------------------------------------------------------------------\u001B[0m",
      "\u001B[1;31mNameError\u001B[0m                                 Traceback (most recent call last)",
      "Cell \u001B[1;32mIn[27], line 1\u001B[0m\n\u001B[1;32m----> 1\u001B[0m \u001B[38;5;28;01mif\u001B[39;00m output \u001B[38;5;241m<\u001B[39m \u001B[38;5;241m0.5\u001B[39m: \u001B[38;5;28mprint\u001B[39m(text1)\n\u001B[0;32m      2\u001B[0m \u001B[38;5;28;01melse\u001B[39;00m: \u001B[38;5;28mprint\u001B[39m(text2)\n",
      "\u001B[1;31mNameError\u001B[0m: name 'output' is not defined"
     ]
    }
   ],
   "source": [
    "if output < 0.5: print(text1)\n",
    "else: print(text2)"
   ],
   "metadata": {
    "collapsed": false,
    "ExecuteTime": {
     "end_time": "2024-03-27T07:28:29.649802Z",
     "start_time": "2024-03-27T07:28:29.603387Z"
    }
   },
   "id": "cf3b821210bb9308",
   "execution_count": 27
  },
  {
   "cell_type": "code",
   "outputs": [],
   "source": [],
   "metadata": {
    "collapsed": false,
    "ExecuteTime": {
     "end_time": "2024-03-27T03:46:34.047301Z",
     "start_time": "2024-03-27T03:46:34.032660Z"
    }
   },
   "id": "da0ad8eeb7b1a279",
   "execution_count": 62
  }
 ],
 "metadata": {
  "kernelspec": {
   "display_name": "Python 3",
   "language": "python",
   "name": "python3"
  },
  "language_info": {
   "codemirror_mode": {
    "name": "ipython",
    "version": 2
   },
   "file_extension": ".py",
   "mimetype": "text/x-python",
   "name": "python",
   "nbconvert_exporter": "python",
   "pygments_lexer": "ipython2",
   "version": "2.7.6"
  }
 },
 "nbformat": 4,
 "nbformat_minor": 5
}
