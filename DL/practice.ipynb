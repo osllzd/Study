{
 "cells": [
  {
   "cell_type": "code",
   "execution_count": 1,
   "id": "initial_id",
   "metadata": {
    "collapsed": true,
    "ExecuteTime": {
     "end_time": "2024-03-25T05:20:48.556326Z",
     "start_time": "2024-03-25T05:20:46.464828Z"
    }
   },
   "outputs": [],
   "source": [
    "import torch"
   ]
  },
  {
   "cell_type": "code",
   "outputs": [],
   "source": [
    "t1 = torch.tensor([[1,2,3],[4,5,6]])"
   ],
   "metadata": {
    "collapsed": false,
    "ExecuteTime": {
     "end_time": "2024-03-25T05:21:00.768788Z",
     "start_time": "2024-03-25T05:21:00.752189Z"
    }
   },
   "id": "311ccbc3485f4f25",
   "execution_count": 2
  },
  {
   "cell_type": "code",
   "outputs": [
    {
     "data": {
      "text/plain": "tensor([[1, 2],\n        [3, 4],\n        [5, 6]])"
     },
     "execution_count": 3,
     "metadata": {},
     "output_type": "execute_result"
    }
   ],
   "source": [
    "t1.view(-1,2)"
   ],
   "metadata": {
    "collapsed": false,
    "ExecuteTime": {
     "end_time": "2024-03-25T05:21:06.591365Z",
     "start_time": "2024-03-25T05:21:06.578498Z"
    }
   },
   "id": "19292d9bb02bdc07",
   "execution_count": 3
  },
  {
   "cell_type": "code",
   "outputs": [
    {
     "data": {
      "text/plain": "tensor([[1, 2, 3, 4, 5, 6]])"
     },
     "execution_count": 4,
     "metadata": {},
     "output_type": "execute_result"
    }
   ],
   "source": [
    "t1.reshape(1,6)"
   ],
   "metadata": {
    "collapsed": false,
    "ExecuteTime": {
     "end_time": "2024-03-25T05:22:14.098634Z",
     "start_time": "2024-03-25T05:22:14.079878Z"
    }
   },
   "id": "91539b8e4fcd7b4c",
   "execution_count": 4
  },
  {
   "cell_type": "code",
   "outputs": [
    {
     "data": {
      "text/plain": "tensor([[1, 2, 3],\n        [4, 5, 6]])"
     },
     "execution_count": 5,
     "metadata": {},
     "output_type": "execute_result"
    }
   ],
   "source": [
    "t1.reshape(-1,3)"
   ],
   "metadata": {
    "collapsed": false,
    "ExecuteTime": {
     "end_time": "2024-03-25T05:22:52.720773Z",
     "start_time": "2024-03-25T05:22:52.707761Z"
    }
   },
   "id": "6569d914517b32bc",
   "execution_count": 5
  },
  {
   "cell_type": "code",
   "outputs": [
    {
     "data": {
      "text/plain": "tensor([[1, 4],\n        [2, 5],\n        [3, 6]])"
     },
     "execution_count": 6,
     "metadata": {},
     "output_type": "execute_result"
    }
   ],
   "source": [
    "t1.T"
   ],
   "metadata": {
    "collapsed": false,
    "ExecuteTime": {
     "end_time": "2024-03-25T05:22:55.265155Z",
     "start_time": "2024-03-25T05:22:55.241101Z"
    }
   },
   "id": "983a20dcfa9d17ef",
   "execution_count": 6
  },
  {
   "cell_type": "code",
   "outputs": [
    {
     "data": {
      "text/plain": "True"
     },
     "execution_count": 7,
     "metadata": {},
     "output_type": "execute_result"
    }
   ],
   "source": [
    "t1.is_contiguous()"
   ],
   "metadata": {
    "collapsed": false,
    "ExecuteTime": {
     "end_time": "2024-03-25T05:23:04.174576Z",
     "start_time": "2024-03-25T05:23:04.170369Z"
    }
   },
   "id": "b25e800cfc625075",
   "execution_count": 7
  },
  {
   "cell_type": "code",
   "outputs": [
    {
     "data": {
      "text/plain": "tensor([[1, 2, 3],\n        [4, 5, 6]])"
     },
     "execution_count": 8,
     "metadata": {},
     "output_type": "execute_result"
    }
   ],
   "source": [
    "t1.contiguous()"
   ],
   "metadata": {
    "collapsed": false,
    "ExecuteTime": {
     "end_time": "2024-03-25T05:23:13.509781Z",
     "start_time": "2024-03-25T05:23:13.491013Z"
    }
   },
   "id": "ae378693128b85ad",
   "execution_count": 8
  },
  {
   "cell_type": "code",
   "outputs": [
    {
     "name": "stderr",
     "output_type": "stream",
     "text": [
      "C:\\Users\\User\\AppData\\Local\\Temp\\ipykernel_16444\\2472056026.py:1: UserWarning: TypedStorage is deprecated. It will be removed in the future and UntypedStorage will be the only storage class. This should only matter to you if you are using storages directly.  To access UntypedStorage directly, use tensor.untyped_storage() instead of tensor.storage()\n",
      "  t1.storage()\n"
     ]
    },
    {
     "data": {
      "text/plain": " 1\n 2\n 3\n 4\n 5\n 6\n[torch.storage.TypedStorage(dtype=torch.int64, device=cpu) of size 6]"
     },
     "execution_count": 9,
     "metadata": {},
     "output_type": "execute_result"
    }
   ],
   "source": [
    "t1.storage()"
   ],
   "metadata": {
    "collapsed": false,
    "ExecuteTime": {
     "end_time": "2024-03-25T05:23:18.570959Z",
     "start_time": "2024-03-25T05:23:18.559949Z"
    }
   },
   "id": "cf5b3afa706c1310",
   "execution_count": 9
  },
  {
   "cell_type": "code",
   "outputs": [
    {
     "data": {
      "text/plain": "0"
     },
     "execution_count": 11,
     "metadata": {},
     "output_type": "execute_result"
    }
   ],
   "source": [
    "t1.storage_offset()"
   ],
   "metadata": {
    "collapsed": false,
    "ExecuteTime": {
     "end_time": "2024-03-25T05:24:00.881315Z",
     "start_time": "2024-03-25T05:24:00.862646Z"
    }
   },
   "id": "747063fad61dbeee",
   "execution_count": 11
  },
  {
   "cell_type": "code",
   "outputs": [
    {
     "data": {
      "text/plain": "(3, 1)"
     },
     "execution_count": 12,
     "metadata": {},
     "output_type": "execute_result"
    }
   ],
   "source": [
    "t1.stride()"
   ],
   "metadata": {
    "collapsed": false,
    "ExecuteTime": {
     "end_time": "2024-03-25T05:24:05.644375Z",
     "start_time": "2024-03-25T05:24:05.631123Z"
    }
   },
   "id": "a758959889378976",
   "execution_count": 12
  },
  {
   "cell_type": "code",
   "outputs": [
    {
     "data": {
      "text/plain": "5463429091712"
     },
     "execution_count": 13,
     "metadata": {},
     "output_type": "execute_result"
    }
   ],
   "source": [
    "t1.data_ptr()"
   ],
   "metadata": {
    "collapsed": false,
    "ExecuteTime": {
     "end_time": "2024-03-25T05:24:12.167084Z",
     "start_time": "2024-03-25T05:24:12.157307Z"
    }
   },
   "id": "e1b5f908fbfdcfd5",
   "execution_count": 13
  },
  {
   "cell_type": "code",
   "outputs": [
    {
     "data": {
      "text/plain": "tensor([[1, 2, 3],\n        [4, 5, 6]])"
     },
     "execution_count": 15,
     "metadata": {},
     "output_type": "execute_result"
    }
   ],
   "source": [
    "t1.squeeze()"
   ],
   "metadata": {
    "collapsed": false,
    "ExecuteTime": {
     "end_time": "2024-03-25T05:24:31.949650Z",
     "start_time": "2024-03-25T05:24:31.933420Z"
    }
   },
   "id": "a736da8ced9e129d",
   "execution_count": 15
  },
  {
   "cell_type": "code",
   "outputs": [
    {
     "data": {
      "text/plain": "tensor([[[1, 2, 3],\n         [4, 5, 6]]])"
     },
     "execution_count": 17,
     "metadata": {},
     "output_type": "execute_result"
    }
   ],
   "source": [
    "t1.unsqueeze(0)"
   ],
   "metadata": {
    "collapsed": false,
    "ExecuteTime": {
     "end_time": "2024-03-25T05:24:53.430436Z",
     "start_time": "2024-03-25T05:24:53.418779Z"
    }
   },
   "id": "924ef52c28b42873",
   "execution_count": 17
  },
  {
   "cell_type": "code",
   "outputs": [
    {
     "data": {
      "text/plain": "tensor([[[1],\n         [2],\n         [3]],\n\n        [[4],\n         [5],\n         [6]]])"
     },
     "execution_count": 18,
     "metadata": {},
     "output_type": "execute_result"
    }
   ],
   "source": [
    "t1.unsqueeze(-1)"
   ],
   "metadata": {
    "collapsed": false,
    "ExecuteTime": {
     "end_time": "2024-03-25T05:25:00.088097Z",
     "start_time": "2024-03-25T05:25:00.068742Z"
    }
   },
   "id": "13df29f0d7b7fa4f",
   "execution_count": 18
  },
  {
   "cell_type": "code",
   "outputs": [
    {
     "data": {
      "text/plain": "<torch._C.Generator at 0x24fcdc26530>"
     },
     "execution_count": 19,
     "metadata": {},
     "output_type": "execute_result"
    }
   ],
   "source": [
    "torch.manual_seed(12)"
   ],
   "metadata": {
    "collapsed": false,
    "ExecuteTime": {
     "end_time": "2024-03-25T05:59:44.581297Z",
     "start_time": "2024-03-25T05:59:44.561211Z"
    }
   },
   "id": "2a1bb4308e366f2b",
   "execution_count": 19
  },
  {
   "cell_type": "code",
   "outputs": [],
   "source": [
    "x=torch.rand(2,10) # 2행 10열의 데이터 생성\n",
    "y = torch.randint(0,2,(10,)) # 0<=x<2 범위의 정수 10개 생성\n",
    "y2 = torch.randint(0,2,(2,10)) # 범위의 정수 2행 10열 생성"
   ],
   "metadata": {
    "collapsed": false,
    "ExecuteTime": {
     "end_time": "2024-03-25T06:02:26.782346Z",
     "start_time": "2024-03-25T06:02:26.770548Z"
    }
   },
   "id": "87b1009b891cba82",
   "execution_count": 23
  },
  {
   "cell_type": "code",
   "outputs": [
    {
     "name": "stdout",
     "output_type": "stream",
     "text": [
      "X=>torch.Size([2, 10]),2D\n",
      "y=>torch.Size([10]),1D\n"
     ]
    }
   ],
   "source": [
    "print(f\"X=>{x.shape},{x.ndim}D\")\n",
    "print(f\"y=>{y.shape},{y.ndim}D\")"
   ],
   "metadata": {
    "collapsed": false,
    "ExecuteTime": {
     "end_time": "2024-03-25T06:02:27.644190Z",
     "start_time": "2024-03-25T06:02:27.634609Z"
    }
   },
   "id": "f74b6d32c9dfa9e5",
   "execution_count": 24
  },
  {
   "cell_type": "code",
   "outputs": [
    {
     "data": {
      "text/plain": "tensor([[0.6601, 0.0554, 0.1573, 0.8137, 0.7216, 0.2717, 0.3003, 0.6099, 0.5784,\n         0.6083, 1.0000, 1.0000, 1.0000, 1.0000, 0.0000, 1.0000, 1.0000, 0.0000,\n         1.0000, 0.0000],\n        [0.4339, 0.8813, 0.3216, 0.2604, 0.2566, 0.1872, 0.6423, 0.1786, 0.1435,\n         0.7490, 0.0000, 0.0000, 0.0000, 1.0000, 1.0000, 0.0000, 1.0000, 1.0000,\n         1.0000, 1.0000]])"
     },
     "execution_count": 25,
     "metadata": {},
     "output_type": "execute_result"
    }
   ],
   "source": [
    "torch.cat([x,y2], dim=1) # dim=1(열) 방향으로 연결"
   ],
   "metadata": {
    "collapsed": false,
    "ExecuteTime": {
     "end_time": "2024-03-25T06:03:14.807180Z",
     "start_time": "2024-03-25T06:03:14.787889Z"
    }
   },
   "id": "f960414c9bacb5d8",
   "execution_count": 25
  },
  {
   "cell_type": "code",
   "outputs": [
    {
     "data": {
      "text/plain": "tensor([[0.6601, 0.0554, 0.1573, 0.8137, 0.7216, 0.2717, 0.3003, 0.6099, 0.5784,\n         0.6083],\n        [0.4339, 0.8813, 0.3216, 0.2604, 0.2566, 0.1872, 0.6423, 0.1786, 0.1435,\n         0.7490],\n        [1.0000, 1.0000, 1.0000, 1.0000, 0.0000, 1.0000, 1.0000, 0.0000, 1.0000,\n         0.0000],\n        [0.0000, 0.0000, 0.0000, 1.0000, 1.0000, 0.0000, 1.0000, 1.0000, 1.0000,\n         1.0000]])"
     },
     "execution_count": 26,
     "metadata": {},
     "output_type": "execute_result"
    }
   ],
   "source": [
    "torch.cat([x,y2],dim=0) # dim=0(행) 방향으로 연결"
   ],
   "metadata": {
    "collapsed": false,
    "ExecuteTime": {
     "end_time": "2024-03-25T06:03:37.613734Z",
     "start_time": "2024-03-25T06:03:37.599973Z"
    }
   },
   "id": "356ac90814ca5029",
   "execution_count": 26
  },
  {
   "cell_type": "code",
   "outputs": [
    {
     "data": {
      "text/plain": "tensor([[1., 4.],\n        [2., 5.],\n        [3., 6.]])"
     },
     "execution_count": 27,
     "metadata": {},
     "output_type": "execute_result"
    }
   ],
   "source": [
    "x = torch.FloatTensor([1, 4])\n",
    "y = torch.FloatTensor([2, 5])\n",
    "z = torch.FloatTensor([3, 6])\n",
    "torch.stack([x, y, z])"
   ],
   "metadata": {
    "collapsed": false,
    "ExecuteTime": {
     "end_time": "2024-03-25T06:05:39.341641Z",
     "start_time": "2024-03-25T06:05:39.330894Z"
    }
   },
   "id": "b869a41ee0f40383",
   "execution_count": 27
  },
  {
   "cell_type": "code",
   "outputs": [
    {
     "name": "stdout",
     "output_type": "stream",
     "text": [
      "tensor(2.5000)\n",
      "tensor([2., 3.])\n",
      "tensor([1.5000, 3.5000])\n"
     ]
    }
   ],
   "source": [
    "t = torch.FloatTensor([[1, 2], [3, 4]])\n",
    "print(t.mean()) # 전체 평균\n",
    "print(t.mean(dim=0)) # 행 별 평균\n",
    "print(t.mean(dim=1)) # 열 별 평균 "
   ],
   "metadata": {
    "collapsed": false,
    "ExecuteTime": {
     "end_time": "2024-03-25T06:08:31.677604Z",
     "start_time": "2024-03-25T06:08:31.669173Z"
    }
   },
   "id": "bd977f39f92dd9d0",
   "execution_count": 28
  },
  {
   "cell_type": "markdown",
   "source": [
    "## 퍼셉트론의 연산방식"
   ],
   "metadata": {
    "collapsed": false
   },
   "id": "896be21c390c48cf"
  },
  {
   "cell_type": "code",
   "outputs": [
    {
     "name": "stdout",
     "output_type": "stream",
     "text": [
      "입력값: 00 / 결과 : 0\n",
      "입력값: 01 / 결과 : 1\n",
      "입력값: 10 / 결과 : 1\n",
      "입력값: 11 / 결과 : 1\n"
     ]
    }
   ],
   "source": [
    "# ---------------------------------------------------------\n",
    "# 함수명 : or_gate\n",
    "# 함수기능 : OR 연산 수행  => 즉 2개 입력시 1개 이상 1이면 1\n",
    "# 매개변수 : x1,x2\n",
    "# 반환값 : 정수 0 또는 1\n",
    "# -------------------------------------------------------\n",
    "def or_gate(x1,x2):\n",
    "    # 입력값 x1에 대한 가중치 w1, x2에 대한 가중치 w2\n",
    "    w1, w2 = 0.6, 0.6\n",
    "    \n",
    "    # bias 편향값\n",
    "    b = -0.5\n",
    "    \n",
    "    # 연산결과\n",
    "    result = x1 * w1 + x2 * w2 + b\n",
    "    \n",
    "    # 결과가 0보다 작거나 같으면 0, 0보다 크면 1을 반환\n",
    "    return 0 if result <=0 else 1\n",
    "\n",
    "# 입력값 데이터 생성\n",
    "input_list = [(0,0),(0,1),(1,0),(1,1)]\n",
    "# 입력에 대한 결과 출력\n",
    "for x1, x2 in input_list:\n",
    "    # or_gate의 결과 저장\n",
    "    or_result = or_gate(x1,x2)\n",
    "    # 결과 출력\n",
    "    print(f'입력값: {x1}{x2} / 결과 : {or_result}')"
   ],
   "metadata": {
    "collapsed": false,
    "ExecuteTime": {
     "end_time": "2024-03-25T06:18:35.617588Z",
     "start_time": "2024-03-25T06:18:35.609164Z"
    }
   },
   "id": "30f552ac85abf442",
   "execution_count": 29
  },
  {
   "cell_type": "code",
   "outputs": [
    {
     "name": "stdout",
     "output_type": "stream",
     "text": [
      "입력값: 00 / 결과: 0\n",
      "입력값: 01 / 결과: 0\n",
      "입력값: 10 / 결과: 0\n",
      "입력값: 11 / 결과: 1\n"
     ]
    }
   ],
   "source": [
    "# ------------------------------------------------------\n",
    "# 함수명 : and_Gate\n",
    "# 함수기능 : AND 연산 수행 즉 2개 입력시 2개 모두 1인 경우만 1\n",
    "# 매개변수 : x1,x2\n",
    "# 반환값 : 정수 0 또는 1\n",
    "# ------------------------------------------------------\n",
    "def and_gate(x1,x2):\n",
    "    # 입력값 x1에 대한 가중치 w1, x2에 대한 가중치 w2\n",
    "    w1, w2 = 0.6, 0.6\n",
    "    \n",
    "    # bias 편향값\n",
    "    b = -0.7\n",
    "    \n",
    "    # 연산결과\n",
    "    result = x1 * w1 + x2 * w2 + b\n",
    "    \n",
    "    # 결과가 0보다 작거나 같으면 0, 0보다 크면 1을 반환\n",
    "    return 0 if result <=0 else 1\n",
    "\n",
    "# 입력값 데이터 생성\n",
    "input_list = [(0, 0), (0, 1), (1, 0), (1, 1)]\n",
    "\n",
    "# 입력에 대한 결과 출력\n",
    "for x1, x2 in input_list:\n",
    "    # and gate의 결과 저장\n",
    "    and_result = and_gate(x1,x2)\n",
    "\n",
    "    # 결과 출력\n",
    "    print(f'입력값: {x1}{x2} / 결과: {and_result}')\n",
    "\n",
    "\n"
   ],
   "metadata": {
    "collapsed": false,
    "ExecuteTime": {
     "end_time": "2024-03-25T06:30:13.209464Z",
     "start_time": "2024-03-25T06:30:13.191713Z"
    }
   },
   "id": "8259bfc491d83784",
   "execution_count": 30
  },
  {
   "cell_type": "code",
   "outputs": [
    {
     "name": "stdout",
     "output_type": "stream",
     "text": [
      "입력값: 0 0 / 결과: 1\n",
      "입력값: 0 1 / 결과: 1\n",
      "입력값: 1 0 / 결과: 1\n",
      "입력값: 1 1 / 결과: 0\n"
     ]
    }
   ],
   "source": [
    "# --------------------------------------------------------------------\n",
    "# 함  수  명 : nand_gate\n",
    "# 함수  기능 : NAND 연산 수행  즉, 2개 입력 시 2개 모두 1인 경우 만 1\n",
    "# 매개  변수 : x1, x2\n",
    "# 반  환  값 : 정수 0 또는 1\n",
    "# --------------------------------------------------------------------\n",
    "def nand_gate(x1, x2):\n",
    "    # 입력값 x1에 대한 가중치 w1, x2에 대한 가중치 w2\n",
    "    w1, w2 = 0.6, 0.6\n",
    "\n",
    "    # bias 편향값\n",
    "    b = -0.7\n",
    "    # 연산 결과\n",
    "    result = x1*w1 + x2*w2 + b\n",
    "\n",
    "    # 결과가 0보다 작거나 같으면 1, 0보다 크면 0을 반환\n",
    "    return 1 if result <= 0 else 0\n",
    "# 입력값 데이터 생성\n",
    "input_list = [(0, 0), (0, 1), (1, 0), (1, 1)]\n",
    "\n",
    "\n",
    "\n",
    "# 입력에 대한 결과 출력\n",
    "for x1, x2 in input_list:\n",
    "    # and gate의 결과 저장\n",
    "    nand_result = nand_gate(x1, x2)\n",
    "\n",
    "    # 결과 출력\n",
    "    print(f\"입력값: {x1} {x2} / 결과: {nand_result}\")"
   ],
   "metadata": {
    "collapsed": false,
    "ExecuteTime": {
     "end_time": "2024-03-25T06:35:29.098831Z",
     "start_time": "2024-03-25T06:35:29.088221Z"
    }
   },
   "id": "e0f0b1827b069347",
   "execution_count": 31
  },
  {
   "cell_type": "code",
   "outputs": [],
   "source": [],
   "metadata": {
    "collapsed": false
   },
   "id": "8ea3aac9fdf18a82"
  }
 ],
 "metadata": {
  "kernelspec": {
   "display_name": "Python 3",
   "language": "python",
   "name": "python3"
  },
  "language_info": {
   "codemirror_mode": {
    "name": "ipython",
    "version": 2
   },
   "file_extension": ".py",
   "mimetype": "text/x-python",
   "name": "python",
   "nbconvert_exporter": "python",
   "pygments_lexer": "ipython2",
   "version": "2.7.6"
  }
 },
 "nbformat": 4,
 "nbformat_minor": 5
}
