{
 "cells": [
  {
   "cell_type": "code",
   "execution_count": 1,
   "id": "initial_id",
   "metadata": {
    "collapsed": true,
    "ExecuteTime": {
     "end_time": "2024-03-25T07:24:18.786986Z",
     "start_time": "2024-03-25T07:24:15.356635Z"
    }
   },
   "outputs": [],
   "source": [
    "## 모듈 로딩\n",
    "import torch\n",
    "import torch.nn as nn\n",
    "import torch.nn.functional as F\n",
    "import torch.optim as optim\n"
   ]
  },
  {
   "cell_type": "code",
   "outputs": [
    {
     "data": {
      "text/plain": "<torch._C.Generator at 0x14af282f1b0>"
     },
     "execution_count": 3,
     "metadata": {},
     "output_type": "execute_result"
    }
   ],
   "source": [
    "## 랜덤 시드(random_seed) 설정\n",
    "torch.manual_seed(1)"
   ],
   "metadata": {
    "collapsed": false,
    "ExecuteTime": {
     "end_time": "2024-03-25T07:24:43.945706Z",
     "start_time": "2024-03-25T07:24:43.933853Z"
    }
   },
   "id": "1b2ecbe50d09799f",
   "execution_count": 3
  },
  {
   "cell_type": "code",
   "outputs": [
    {
     "name": "stdout",
     "output_type": "stream",
     "text": [
      "x_train : torch.Size([3, 1]), 2 \n",
      "tensor([[1.],\n",
      "        [2.],\n",
      "        [3.]])\n",
      "y_train : torch.Size([3, 1]), 2 \n",
      "tensor([[2.],\n",
      "        [4.],\n",
      "        [6.]])\n"
     ]
    }
   ],
   "source": [
    "## 데이터 준비\n",
    "x_train = torch.FloatTensor([[1],[2],[3]])\n",
    "y_train = torch.FloatTensor([[2],[4],[6]])\n",
    "\n",
    "print(f'x_train : {x_train.shape}, {x_train.ndim} \\n{x_train}')\n",
    "print(f'y_train : {y_train.shape}, {y_train.ndim} \\n{y_train}')"
   ],
   "metadata": {
    "collapsed": false,
    "ExecuteTime": {
     "end_time": "2024-03-25T07:26:22.382994Z",
     "start_time": "2024-03-25T07:26:22.363906Z"
    }
   },
   "id": "cd1283560f8c5c3d",
   "execution_count": 4
  },
  {
   "cell_type": "markdown",
   "source": [
    "# 학습 준비\n",
    "-requires_grad = True => 값이 계속 변경될 것\n",
    "-행이 3개 열이 1개인 데이터이므로 feature은 1개!\n",
    "-torch.zeros 값에 1을 줌"
   ],
   "metadata": {
    "collapsed": false
   },
   "id": "8d8bf7d5a7bf7a91"
  },
  {
   "cell_type": "code",
   "outputs": [
    {
     "name": "stdout",
     "output_type": "stream",
     "text": [
      "w : tensor([0.], requires_grad=True), b : tensor([0.], requires_grad=True)\n"
     ]
    }
   ],
   "source": [
    "### 가중치 및 절변 데이터 생성 및 초기화\n",
    "# - 가중치 W ==> 0으로 초기화하고 학습을 통해 값이 변경되는 변수 명시\n",
    "# requires_grad = True => 학습을 통해 계속 값이 변경되는 변수의 의미\n",
    "# torch.zeros(텐서 원소 갯수)\n",
    "w = torch.zeros(1,requires_grad=True) # 1은 피쳐 개수를 의미(3,1)이므로 피쳐1개\n",
    "b = torch.zeros(1,requires_grad=True)\n",
    "print(f'w : {w}, b : {b}')"
   ],
   "metadata": {
    "collapsed": false,
    "ExecuteTime": {
     "end_time": "2024-03-25T07:29:34.064514Z",
     "start_time": "2024-03-25T07:29:34.051679Z"
    }
   },
   "id": "7693d6720f389e7d",
   "execution_count": 5
  },
  {
   "cell_type": "code",
   "outputs": [],
   "source": [
    "## 경사하강법 설정 :w,b 업데이트\n",
    "# w,b 변수, 학습률 지정\n",
    "optimizer = optim.SGD([w,b], lr=0.01)"
   ],
   "metadata": {
    "collapsed": false,
    "ExecuteTime": {
     "end_time": "2024-03-25T07:30:09.500474Z",
     "start_time": "2024-03-25T07:30:08.529256Z"
    }
   },
   "id": "85d0c0439c0741af",
   "execution_count": 6
  },
  {
   "cell_type": "markdown",
   "source": [
    "# 학습 진행"
   ],
   "metadata": {
    "collapsed": false
   },
   "id": "55f4f5ba3cf2b26b"
  },
  {
   "cell_type": "code",
   "outputs": [
    {
     "name": "stdout",
     "output_type": "stream",
     "text": [
      "수식을 w로 미분한 값 : tensor([-18.6667])\n",
      "업데이트된 w : tensor([-18.6667]), b : tensor([-8.])\n",
      "Epoch    0/100 W: 0.187, b: 0.080 Cost: 18.666666\n",
      "수식을 w로 미분한 값 : tensor([-16.6044])\n",
      "업데이트된 w : tensor([-16.6044]), b : tensor([-7.0933])\n",
      "수식을 w로 미분한 값 : tensor([-14.7710])\n",
      "업데이트된 w : tensor([-14.7710]), b : tensor([-6.2873])\n",
      "수식을 w로 미분한 값 : tensor([-13.1408])\n",
      "업데이트된 w : tensor([-13.1408]), b : tensor([-5.5707])\n",
      "수식을 w로 미분한 값 : tensor([-11.6915])\n",
      "업데이트된 w : tensor([-11.6915]), b : tensor([-4.9337])\n",
      "수식을 w로 미분한 값 : tensor([-10.4030])\n",
      "업데이트된 w : tensor([-10.4030]), b : tensor([-4.3673])\n",
      "수식을 w로 미분한 값 : tensor([-9.2573])\n",
      "업데이트된 w : tensor([-9.2573]), b : tensor([-3.8639])\n",
      "수식을 w로 미분한 값 : tensor([-8.2388])\n",
      "업데이트된 w : tensor([-8.2388]), b : tensor([-3.4163])\n",
      "수식을 w로 미분한 값 : tensor([-7.3332])\n",
      "업데이트된 w : tensor([-7.3332]), b : tensor([-3.0184])\n",
      "수식을 w로 미분한 값 : tensor([-6.5280])\n",
      "업데이트된 w : tensor([-6.5280]), b : tensor([-2.6647])\n",
      "수식을 w로 미분한 값 : tensor([-5.8121])\n",
      "업데이트된 w : tensor([-5.8121]), b : tensor([-2.3503])\n",
      "수식을 w로 미분한 값 : tensor([-5.1757])\n",
      "업데이트된 w : tensor([-5.1757]), b : tensor([-2.0708])\n",
      "수식을 w로 미분한 값 : tensor([-4.6098])\n",
      "업데이트된 w : tensor([-4.6098]), b : tensor([-1.8224])\n",
      "수식을 w로 미분한 값 : tensor([-4.1066])\n",
      "업데이트된 w : tensor([-4.1066]), b : tensor([-1.6015])\n",
      "수식을 w로 미분한 값 : tensor([-3.6593])\n",
      "업데이트된 w : tensor([-3.6593]), b : tensor([-1.4052])\n",
      "수식을 w로 미분한 값 : tensor([-3.2615])\n",
      "업데이트된 w : tensor([-3.2615]), b : tensor([-1.2308])\n",
      "수식을 w로 미분한 값 : tensor([-2.9079])\n",
      "업데이트된 w : tensor([-2.9079]), b : tensor([-1.0757])\n",
      "수식을 w로 미분한 값 : tensor([-2.5935])\n",
      "업데이트된 w : tensor([-2.5935]), b : tensor([-0.9379])\n",
      "수식을 w로 미분한 값 : tensor([-2.3139])\n",
      "업데이트된 w : tensor([-2.3139]), b : tensor([-0.8154])\n",
      "수식을 w로 미분한 값 : tensor([-2.0653])\n",
      "업데이트된 w : tensor([-2.0653]), b : tensor([-0.7065])\n",
      "수식을 w로 미분한 값 : tensor([-1.8443])\n",
      "업데이트된 w : tensor([-1.8443]), b : tensor([-0.6097])\n",
      "수식을 w로 미분한 값 : tensor([-1.6478])\n",
      "업데이트된 w : tensor([-1.6478]), b : tensor([-0.5238])\n",
      "수식을 w로 미분한 값 : tensor([-1.4730])\n",
      "업데이트된 w : tensor([-1.4730]), b : tensor([-0.4474])\n",
      "수식을 w로 미분한 값 : tensor([-1.3176])\n",
      "업데이트된 w : tensor([-1.3176]), b : tensor([-0.3795])\n",
      "수식을 w로 미분한 값 : tensor([-1.1795])\n",
      "업데이트된 w : tensor([-1.1795]), b : tensor([-0.3192])\n",
      "수식을 w로 미분한 값 : tensor([-1.0566])\n",
      "업데이트된 w : tensor([-1.0566]), b : tensor([-0.2657])\n",
      "수식을 w로 미분한 값 : tensor([-0.9474])\n",
      "업데이트된 w : tensor([-0.9474]), b : tensor([-0.2181])\n",
      "수식을 w로 미분한 값 : tensor([-0.8502])\n",
      "업데이트된 w : tensor([-0.8502]), b : tensor([-0.1758])\n",
      "수식을 w로 미분한 값 : tensor([-0.7639])\n",
      "업데이트된 w : tensor([-0.7639]), b : tensor([-0.1383])\n",
      "수식을 w로 미분한 값 : tensor([-0.6870])\n",
      "업데이트된 w : tensor([-0.6870]), b : tensor([-0.1050])\n",
      "수식을 w로 미분한 값 : tensor([-0.6187])\n",
      "업데이트된 w : tensor([-0.6187]), b : tensor([-0.0754])\n",
      "수식을 w로 미분한 값 : tensor([-0.5579])\n",
      "업데이트된 w : tensor([-0.5579]), b : tensor([-0.0491])\n",
      "수식을 w로 미분한 값 : tensor([-0.5039])\n",
      "업데이트된 w : tensor([-0.5039]), b : tensor([-0.0258])\n",
      "수식을 w로 미분한 값 : tensor([-0.4558])\n",
      "업데이트된 w : tensor([-0.4558]), b : tensor([-0.0052])\n",
      "수식을 w로 미분한 값 : tensor([-0.4131])\n",
      "업데이트된 w : tensor([-0.4131]), b : tensor([0.0132])\n",
      "수식을 w로 미분한 값 : tensor([-0.3751])\n",
      "업데이트된 w : tensor([-0.3751]), b : tensor([0.0294])\n",
      "수식을 w로 미분한 값 : tensor([-0.3412])\n",
      "업데이트된 w : tensor([-0.3412]), b : tensor([0.0438])\n",
      "수식을 w로 미분한 값 : tensor([-0.3111])\n",
      "업데이트된 w : tensor([-0.3111]), b : tensor([0.0566])\n",
      "수식을 w로 미분한 값 : tensor([-0.2844])\n",
      "업데이트된 w : tensor([-0.2844]), b : tensor([0.0679])\n",
      "수식을 w로 미분한 값 : tensor([-0.2605])\n",
      "업데이트된 w : tensor([-0.2605]), b : tensor([0.0779])\n",
      "수식을 w로 미분한 값 : tensor([-0.2393])\n",
      "업데이트된 w : tensor([-0.2393]), b : tensor([0.0868])\n",
      "수식을 w로 미분한 값 : tensor([-0.2205])\n",
      "업데이트된 w : tensor([-0.2205]), b : tensor([0.0946])\n",
      "수식을 w로 미분한 값 : tensor([-0.2037])\n",
      "업데이트된 w : tensor([-0.2037]), b : tensor([0.1016])\n",
      "수식을 w로 미분한 값 : tensor([-0.1887])\n",
      "업데이트된 w : tensor([-0.1887]), b : tensor([0.1077])\n",
      "수식을 w로 미분한 값 : tensor([-0.1754])\n",
      "업데이트된 w : tensor([-0.1754]), b : tensor([0.1131])\n",
      "수식을 w로 미분한 값 : tensor([-0.1636])\n",
      "업데이트된 w : tensor([-0.1636]), b : tensor([0.1178])\n",
      "수식을 w로 미분한 값 : tensor([-0.1530])\n",
      "업데이트된 w : tensor([-0.1530]), b : tensor([0.1220])\n",
      "수식을 w로 미분한 값 : tensor([-0.1436])\n",
      "업데이트된 w : tensor([-0.1436]), b : tensor([0.1257])\n",
      "수식을 w로 미분한 값 : tensor([-0.1352])\n",
      "업데이트된 w : tensor([-0.1352]), b : tensor([0.1289])\n",
      "수식을 w로 미분한 값 : tensor([-0.1278])\n",
      "업데이트된 w : tensor([-0.1278]), b : tensor([0.1318])\n",
      "수식을 w로 미분한 값 : tensor([-0.1211])\n",
      "업데이트된 w : tensor([-0.1211]), b : tensor([0.1342])\n",
      "수식을 w로 미분한 값 : tensor([-0.1152])\n",
      "업데이트된 w : tensor([-0.1152]), b : tensor([0.1364])\n",
      "수식을 w로 미분한 값 : tensor([-0.1099])\n",
      "업데이트된 w : tensor([-0.1099]), b : tensor([0.1383])\n",
      "수식을 w로 미분한 값 : tensor([-0.1052])\n",
      "업데이트된 w : tensor([-0.1052]), b : tensor([0.1399])\n",
      "수식을 w로 미분한 값 : tensor([-0.1009])\n",
      "업데이트된 w : tensor([-0.1009]), b : tensor([0.1413])\n",
      "수식을 w로 미분한 값 : tensor([-0.0972])\n",
      "업데이트된 w : tensor([-0.0972]), b : tensor([0.1425])\n",
      "수식을 w로 미분한 값 : tensor([-0.0938])\n",
      "업데이트된 w : tensor([-0.0938]), b : tensor([0.1436])\n",
      "수식을 w로 미분한 값 : tensor([-0.0908])\n",
      "업데이트된 w : tensor([-0.0908]), b : tensor([0.1444])\n",
      "수식을 w로 미분한 값 : tensor([-0.0881])\n",
      "업데이트된 w : tensor([-0.0881]), b : tensor([0.1452])\n",
      "수식을 w로 미분한 값 : tensor([-0.0857])\n",
      "업데이트된 w : tensor([-0.0857]), b : tensor([0.1458])\n",
      "수식을 w로 미분한 값 : tensor([-0.0835])\n",
      "업데이트된 w : tensor([-0.0835]), b : tensor([0.1463])\n",
      "수식을 w로 미분한 값 : tensor([-0.0816])\n",
      "업데이트된 w : tensor([-0.0816]), b : tensor([0.1467])\n",
      "수식을 w로 미분한 값 : tensor([-0.0798])\n",
      "업데이트된 w : tensor([-0.0798]), b : tensor([0.1471])\n",
      "수식을 w로 미분한 값 : tensor([-0.0783])\n",
      "업데이트된 w : tensor([-0.0783]), b : tensor([0.1473])\n",
      "수식을 w로 미분한 값 : tensor([-0.0769])\n",
      "업데이트된 w : tensor([-0.0769]), b : tensor([0.1475])\n",
      "수식을 w로 미분한 값 : tensor([-0.0756])\n",
      "업데이트된 w : tensor([-0.0756]), b : tensor([0.1476])\n",
      "수식을 w로 미분한 값 : tensor([-0.0744])\n",
      "업데이트된 w : tensor([-0.0744]), b : tensor([0.1477])\n",
      "수식을 w로 미분한 값 : tensor([-0.0734])\n",
      "업데이트된 w : tensor([-0.0734]), b : tensor([0.1477])\n",
      "수식을 w로 미분한 값 : tensor([-0.0725])\n",
      "업데이트된 w : tensor([-0.0725]), b : tensor([0.1477])\n",
      "수식을 w로 미분한 값 : tensor([-0.0716])\n",
      "업데이트된 w : tensor([-0.0716]), b : tensor([0.1476])\n",
      "수식을 w로 미분한 값 : tensor([-0.0708])\n",
      "업데이트된 w : tensor([-0.0708]), b : tensor([0.1476])\n",
      "수식을 w로 미분한 값 : tensor([-0.0701])\n",
      "업데이트된 w : tensor([-0.0701]), b : tensor([0.1474])\n",
      "수식을 w로 미분한 값 : tensor([-0.0695])\n",
      "업데이트된 w : tensor([-0.0695]), b : tensor([0.1473])\n",
      "수식을 w로 미분한 값 : tensor([-0.0689])\n",
      "업데이트된 w : tensor([-0.0689]), b : tensor([0.1471])\n",
      "수식을 w로 미분한 값 : tensor([-0.0683])\n",
      "업데이트된 w : tensor([-0.0683]), b : tensor([0.1469])\n",
      "수식을 w로 미분한 값 : tensor([-0.0678])\n",
      "업데이트된 w : tensor([-0.0678]), b : tensor([0.1467])\n",
      "수식을 w로 미분한 값 : tensor([-0.0674])\n",
      "업데이트된 w : tensor([-0.0674]), b : tensor([0.1465])\n",
      "수식을 w로 미분한 값 : tensor([-0.0669])\n",
      "업데이트된 w : tensor([-0.0669]), b : tensor([0.1463])\n",
      "수식을 w로 미분한 값 : tensor([-0.0665])\n",
      "업데이트된 w : tensor([-0.0665]), b : tensor([0.1460])\n",
      "수식을 w로 미분한 값 : tensor([-0.0662])\n",
      "업데이트된 w : tensor([-0.0662]), b : tensor([0.1458])\n",
      "수식을 w로 미분한 값 : tensor([-0.0658])\n",
      "업데이트된 w : tensor([-0.0658]), b : tensor([0.1455])\n",
      "수식을 w로 미분한 값 : tensor([-0.0655])\n",
      "업데이트된 w : tensor([-0.0655]), b : tensor([0.1452])\n",
      "수식을 w로 미분한 값 : tensor([-0.0652])\n",
      "업데이트된 w : tensor([-0.0652]), b : tensor([0.1449])\n",
      "수식을 w로 미분한 값 : tensor([-0.0649])\n",
      "업데이트된 w : tensor([-0.0649]), b : tensor([0.1446])\n",
      "수식을 w로 미분한 값 : tensor([-0.0646])\n",
      "업데이트된 w : tensor([-0.0646]), b : tensor([0.1443])\n",
      "수식을 w로 미분한 값 : tensor([-0.0644])\n",
      "업데이트된 w : tensor([-0.0644]), b : tensor([0.1440])\n",
      "수식을 w로 미분한 값 : tensor([-0.0641])\n",
      "업데이트된 w : tensor([-0.0641]), b : tensor([0.1437])\n",
      "수식을 w로 미분한 값 : tensor([-0.0639])\n",
      "업데이트된 w : tensor([-0.0639]), b : tensor([0.1434])\n",
      "수식을 w로 미분한 값 : tensor([-0.0637])\n",
      "업데이트된 w : tensor([-0.0637]), b : tensor([0.1431])\n",
      "수식을 w로 미분한 값 : tensor([-0.0635])\n",
      "업데이트된 w : tensor([-0.0635]), b : tensor([0.1428])\n",
      "수식을 w로 미분한 값 : tensor([-0.0632])\n",
      "업데이트된 w : tensor([-0.0632]), b : tensor([0.1425])\n",
      "수식을 w로 미분한 값 : tensor([-0.0630])\n",
      "업데이트된 w : tensor([-0.0630]), b : tensor([0.1422])\n",
      "수식을 w로 미분한 값 : tensor([-0.0628])\n",
      "업데이트된 w : tensor([-0.0628]), b : tensor([0.1418])\n",
      "수식을 w로 미분한 값 : tensor([-0.0627])\n",
      "업데이트된 w : tensor([-0.0627]), b : tensor([0.1415])\n",
      "수식을 w로 미분한 값 : tensor([-0.0625])\n",
      "업데이트된 w : tensor([-0.0625]), b : tensor([0.1412])\n",
      "수식을 w로 미분한 값 : tensor([-0.0623])\n",
      "업데이트된 w : tensor([-0.0623]), b : tensor([0.1409])\n",
      "수식을 w로 미분한 값 : tensor([-0.0621])\n",
      "업데이트된 w : tensor([-0.0621]), b : tensor([0.1405])\n",
      "수식을 w로 미분한 값 : tensor([-0.0619])\n",
      "업데이트된 w : tensor([-0.0619]), b : tensor([0.1402])\n",
      "수식을 w로 미분한 값 : tensor([-0.0618])\n",
      "업데이트된 w : tensor([-0.0618]), b : tensor([0.1399])\n",
      "수식을 w로 미분한 값 : tensor([-0.0616])\n",
      "업데이트된 w : tensor([-0.0616]), b : tensor([0.1396])\n",
      "수식을 w로 미분한 값 : tensor([-0.0614])\n",
      "업데이트된 w : tensor([-0.0614]), b : tensor([0.1392])\n",
      "Epoch  100/100 W: 1.746, b: 0.578 Cost: 0.048171\n"
     ]
    }
   ],
   "source": [
    "### ==> 학습진행\n",
    "# 에포크 : 처음~끝 까지 학습하는 것을 의미함\n",
    "nb_epochs = 100\n",
    "for epoch in range(nb_epochs+1):\n",
    "    \n",
    "    # H(x) 계산 = xw + b => 예측값\n",
    "    y_pre = x_train * w + b\n",
    "    \n",
    "    # cost 계산 = 합((예측값 - 정답) **2)\n",
    "    cost = torch.mean((y_pre - y_train)**2)\n",
    "    \n",
    "    # cost로 H(x) 개선\n",
    "    optimizer.zero_grad()   # gradient 0으로 초기화\n",
    "    cost.backward()         # 비용 함수 미분하여 gradient 계산\n",
    "    print(f'수식을 w로 미분한 값 : {w.grad}')\n",
    "    \n",
    "    optimizer.step()        # w,b 업데이트\n",
    "    print(f'업데이트된 w : {w.grad}, b : {b.grad}')\n",
    "    \n",
    "    # 100번 마다 로그 출력\n",
    "    if epoch % 100 == 0:\n",
    "        print(f'Epoch {epoch:4d}/{nb_epochs} W: { w.item():.3f}, b: {b.item():.3f} Cost: {cost.item():.6f}')"
   ],
   "metadata": {
    "collapsed": false,
    "ExecuteTime": {
     "end_time": "2024-03-25T07:35:00.925457Z",
     "start_time": "2024-03-25T07:35:00.819911Z"
    }
   },
   "id": "170f1c52c3cb3650",
   "execution_count": 7
  },
  {
   "cell_type": "code",
   "outputs": [
    {
     "data": {
      "text/plain": "(1.7456912994384766, 0.5780722498893738)"
     },
     "execution_count": 8,
     "metadata": {},
     "output_type": "execute_result"
    }
   ],
   "source": [
    "# 학습 후 모델 파라미터 확인\n",
    "### ==> 학습 완료 후의 w,b 텐서 값 확인\n",
    "w.item(), b.item()"
   ],
   "metadata": {
    "collapsed": false,
    "ExecuteTime": {
     "end_time": "2024-03-25T07:35:46.233866Z",
     "start_time": "2024-03-25T07:35:46.224199Z"
    }
   },
   "id": "e8be2e231de00778",
   "execution_count": 8
  },
  {
   "cell_type": "code",
   "outputs": [
    {
     "data": {
      "text/plain": "5.815145969390869"
     },
     "execution_count": 9,
     "metadata": {},
     "output_type": "execute_result"
    }
   ],
   "source": [
    "# 예측\n",
    "### ==> x값 넣고 y값 확인\n",
    "pre_y = w*3 + b\n",
    "pre_y.item()"
   ],
   "metadata": {
    "collapsed": false,
    "ExecuteTime": {
     "end_time": "2024-03-25T07:36:47.144715Z",
     "start_time": "2024-03-25T07:36:47.130978Z"
    }
   },
   "id": "2991e87cc5bb196",
   "execution_count": 9
  },
  {
   "cell_type": "code",
   "outputs": [
    {
     "name": "stdout",
     "output_type": "stream",
     "text": [
      "수식을 w로 미분한 값 : 2.0\n",
      "수식을 w로 미분한 값 : 4.0\n",
      "수식을 w로 미분한 값 : 6.0\n",
      "수식을 w로 미분한 값 : 8.0\n",
      "수식을 w로 미분한 값 : 10.0\n",
      "수식을 w로 미분한 값 : 12.0\n",
      "수식을 w로 미분한 값 : 14.0\n",
      "수식을 w로 미분한 값 : 16.0\n",
      "수식을 w로 미분한 값 : 18.0\n",
      "수식을 w로 미분한 값 : 20.0\n",
      "수식을 w로 미분한 값 : 22.0\n",
      "수식을 w로 미분한 값 : 24.0\n",
      "수식을 w로 미분한 값 : 26.0\n",
      "수식을 w로 미분한 값 : 28.0\n",
      "수식을 w로 미분한 값 : 30.0\n",
      "수식을 w로 미분한 값 : 32.0\n",
      "수식을 w로 미분한 값 : 34.0\n",
      "수식을 w로 미분한 값 : 36.0\n",
      "수식을 w로 미분한 값 : 38.0\n",
      "수식을 w로 미분한 값 : 40.0\n",
      "수식을 w로 미분한 값 : 42.0\n"
     ]
    }
   ],
   "source": [
    "# optimzier.zero_grad()가 필요한 이유\n",
    "# 미분을 통해 얻은 기울기를 이전에 계산된 기울기값에 누적시키는 특징\n",
    "w = torch.tensor(2.0, requires_grad=True)\n",
    "nb_epochs = 20\n",
    "for epoch in range(nb_epochs + 1):\n",
    "    z = 2*w\n",
    "\n",
    "    z.backward()\n",
    "    print('수식을 w로 미분한 값 : {}'.format(w.grad))"
   ],
   "metadata": {
    "collapsed": false,
    "ExecuteTime": {
     "end_time": "2024-03-25T07:38:27.141510Z",
     "start_time": "2024-03-25T07:38:27.125862Z"
    }
   },
   "id": "b8e7dede9a8a004b",
   "execution_count": 10
  },
  {
   "cell_type": "code",
   "outputs": [],
   "source": [],
   "metadata": {
    "collapsed": false
   },
   "id": "2290f79cc86b60ea"
  }
 ],
 "metadata": {
  "kernelspec": {
   "display_name": "Python 3",
   "language": "python",
   "name": "python3"
  },
  "language_info": {
   "codemirror_mode": {
    "name": "ipython",
    "version": 2
   },
   "file_extension": ".py",
   "mimetype": "text/x-python",
   "name": "python",
   "nbconvert_exporter": "python",
   "pygments_lexer": "ipython2",
   "version": "2.7.6"
  }
 },
 "nbformat": 4,
 "nbformat_minor": 5
}
