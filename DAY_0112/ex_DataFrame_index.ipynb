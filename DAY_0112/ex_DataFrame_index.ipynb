{
 "cells": [
  {
   "cell_type": "markdown",
   "id": "b005c615-1679-42a2-8ea4-34a82761eb4d",
   "metadata": {},
   "source": [
    "### [DataFrame 인덱스 다루기]"
   ]
  },
  {
   "cell_type": "markdown",
   "id": "9e8a3fca-5837-41ca-8b90-e7906179bea3",
   "metadata": {},
   "source": [
    "-(1) 새로운 인덱스 설정 : 컬럼 ==> 인덱스 설정"
   ]
  },
  {
   "cell_type": "markdown",
   "id": "d4aa15cb-e69e-4a9b-a082-112e6fc959f9",
   "metadata": {},
   "source": [
    "1. 모듈 로딩 <hr>"
   ]
  },
  {
   "cell_type": "code",
   "execution_count": 39,
   "id": "999f2839-874e-4446-a787-0372f96d190b",
   "metadata": {},
   "outputs": [],
   "source": [
    "import pandas as pd"
   ]
  },
  {
   "cell_type": "markdown",
   "id": "2b5662cf-2fdc-4a57-8cde-a3ac6a767424",
   "metadata": {},
   "source": [
    "2. 데이터 준비 <hr>"
   ]
  },
  {
   "cell_type": "code",
   "execution_count": 40,
   "id": "f4834136-4276-45b4-ab30-8778f36f6def",
   "metadata": {},
   "outputs": [],
   "source": [
    "exam = { '이름':['손예림', '명노아', '변희진', '이윤서'], \n",
    "        '국어' : [98, 95, 96, 100],\n",
    "        '미술' : [100,82,98,79], \n",
    "        '수학':[82,76,94,97], \n",
    "        '영어':[97,84,76,100] }"
   ]
  },
  {
   "cell_type": "markdown",
   "id": "3640f8e7-fa69-47e0-bfc1-61ad1c69be4c",
   "metadata": {},
   "source": [
    "3. 데이터 저장<hr>"
   ]
  },
  {
   "cell_type": "code",
   "execution_count": 41,
   "id": "f17787a0-cbad-4d9b-a66c-a07b82668708",
   "metadata": {},
   "outputs": [],
   "source": [
    "examDF=pd.DataFrame(exam)"
   ]
  },
  {
   "cell_type": "markdown",
   "id": "d656614c-e79f-4ec5-a68a-17248bf214e5",
   "metadata": {},
   "source": [
    "4. 데이터 확인<hr>"
   ]
  },
  {
   "cell_type": "code",
   "execution_count": 42,
   "id": "b6fd2cd7-45b2-4bf5-97a0-b6b080df5947",
   "metadata": {},
   "outputs": [
    {
     "data": {
      "text/html": [
       "<div>\n",
       "<style scoped>\n",
       "    .dataframe tbody tr th:only-of-type {\n",
       "        vertical-align: middle;\n",
       "    }\n",
       "\n",
       "    .dataframe tbody tr th {\n",
       "        vertical-align: top;\n",
       "    }\n",
       "\n",
       "    .dataframe thead th {\n",
       "        text-align: right;\n",
       "    }\n",
       "</style>\n",
       "<table border=\"1\" class=\"dataframe\">\n",
       "  <thead>\n",
       "    <tr style=\"text-align: right;\">\n",
       "      <th></th>\n",
       "      <th>이름</th>\n",
       "      <th>국어</th>\n",
       "      <th>미술</th>\n",
       "      <th>수학</th>\n",
       "      <th>영어</th>\n",
       "    </tr>\n",
       "  </thead>\n",
       "  <tbody>\n",
       "    <tr>\n",
       "      <th>0</th>\n",
       "      <td>손예림</td>\n",
       "      <td>98</td>\n",
       "      <td>100</td>\n",
       "      <td>82</td>\n",
       "      <td>97</td>\n",
       "    </tr>\n",
       "    <tr>\n",
       "      <th>1</th>\n",
       "      <td>명노아</td>\n",
       "      <td>95</td>\n",
       "      <td>82</td>\n",
       "      <td>76</td>\n",
       "      <td>84</td>\n",
       "    </tr>\n",
       "    <tr>\n",
       "      <th>2</th>\n",
       "      <td>변희진</td>\n",
       "      <td>96</td>\n",
       "      <td>98</td>\n",
       "      <td>94</td>\n",
       "      <td>76</td>\n",
       "    </tr>\n",
       "    <tr>\n",
       "      <th>3</th>\n",
       "      <td>이윤서</td>\n",
       "      <td>100</td>\n",
       "      <td>79</td>\n",
       "      <td>97</td>\n",
       "      <td>100</td>\n",
       "    </tr>\n",
       "  </tbody>\n",
       "</table>\n",
       "</div>"
      ],
      "text/plain": [
       "    이름   국어   미술  수학   영어\n",
       "0  손예림   98  100  82   97\n",
       "1  명노아   95   82  76   84\n",
       "2  변희진   96   98  94   76\n",
       "3  이윤서  100   79  97  100"
      ]
     },
     "execution_count": 42,
     "metadata": {},
     "output_type": "execute_result"
    }
   ],
   "source": [
    "examDF"
   ]
  },
  {
   "cell_type": "markdown",
   "id": "73504993-6eee-4372-b301-b0356516aa37",
   "metadata": {},
   "source": [
    "5. 새로운 인덱스 설정 - 방법(1): 인덱스 일부 변경 DF.rename() <hr>"
   ]
  },
  {
   "cell_type": "code",
   "execution_count": 43,
   "id": "4dcc2289-e7c2-4782-98c8-30f611308146",
   "metadata": {},
   "outputs": [],
   "source": [
    "# 행 인덱스 일부 변경 => {기존인덱스: 새로운인덱스}\n",
    "# inplace 매개변수/파라미터 => 원본 DataFrame이 변경 여부 결정, 기본은 원본 변경 안함 False가 기본!!\n",
    "examDF.rename(index={0:'zero'} , inplace=True)"
   ]
  },
  {
   "cell_type": "code",
   "execution_count": 44,
   "id": "d1cfdeb1-857d-42aa-9f87-168628c1d372",
   "metadata": {},
   "outputs": [
    {
     "data": {
      "text/html": [
       "<div>\n",
       "<style scoped>\n",
       "    .dataframe tbody tr th:only-of-type {\n",
       "        vertical-align: middle;\n",
       "    }\n",
       "\n",
       "    .dataframe tbody tr th {\n",
       "        vertical-align: top;\n",
       "    }\n",
       "\n",
       "    .dataframe thead th {\n",
       "        text-align: right;\n",
       "    }\n",
       "</style>\n",
       "<table border=\"1\" class=\"dataframe\">\n",
       "  <thead>\n",
       "    <tr style=\"text-align: right;\">\n",
       "      <th></th>\n",
       "      <th>이름</th>\n",
       "      <th>국어</th>\n",
       "      <th>미술</th>\n",
       "      <th>수학</th>\n",
       "      <th>영어</th>\n",
       "    </tr>\n",
       "  </thead>\n",
       "  <tbody>\n",
       "    <tr>\n",
       "      <th>zero</th>\n",
       "      <td>손예림</td>\n",
       "      <td>98</td>\n",
       "      <td>100</td>\n",
       "      <td>82</td>\n",
       "      <td>97</td>\n",
       "    </tr>\n",
       "    <tr>\n",
       "      <th>1</th>\n",
       "      <td>명노아</td>\n",
       "      <td>95</td>\n",
       "      <td>82</td>\n",
       "      <td>76</td>\n",
       "      <td>84</td>\n",
       "    </tr>\n",
       "    <tr>\n",
       "      <th>2</th>\n",
       "      <td>변희진</td>\n",
       "      <td>96</td>\n",
       "      <td>98</td>\n",
       "      <td>94</td>\n",
       "      <td>76</td>\n",
       "    </tr>\n",
       "    <tr>\n",
       "      <th>3</th>\n",
       "      <td>이윤서</td>\n",
       "      <td>100</td>\n",
       "      <td>79</td>\n",
       "      <td>97</td>\n",
       "      <td>100</td>\n",
       "    </tr>\n",
       "  </tbody>\n",
       "</table>\n",
       "</div>"
      ],
      "text/plain": [
       "       이름   국어   미술  수학   영어\n",
       "zero  손예림   98  100  82   97\n",
       "1     명노아   95   82  76   84\n",
       "2     변희진   96   98  94   76\n",
       "3     이윤서  100   79  97  100"
      ]
     },
     "execution_count": 44,
     "metadata": {},
     "output_type": "execute_result"
    }
   ],
   "source": [
    "examDF"
   ]
  },
  {
   "cell_type": "code",
   "execution_count": 45,
   "id": "87c348a2-690b-4c2e-9a7e-af483b3f3d6a",
   "metadata": {},
   "outputs": [],
   "source": [
    "# 열 이름 인덱스 일부 변경 => column={기존인덱스:새로운인덱스}\n",
    "examDF.rename(columns={'영어':'음악'},inplace=True)"
   ]
  },
  {
   "cell_type": "code",
   "execution_count": 46,
   "id": "b57cbf9a-b8c2-4867-8052-dd794c7d3a72",
   "metadata": {},
   "outputs": [
    {
     "data": {
      "text/html": [
       "<div>\n",
       "<style scoped>\n",
       "    .dataframe tbody tr th:only-of-type {\n",
       "        vertical-align: middle;\n",
       "    }\n",
       "\n",
       "    .dataframe tbody tr th {\n",
       "        vertical-align: top;\n",
       "    }\n",
       "\n",
       "    .dataframe thead th {\n",
       "        text-align: right;\n",
       "    }\n",
       "</style>\n",
       "<table border=\"1\" class=\"dataframe\">\n",
       "  <thead>\n",
       "    <tr style=\"text-align: right;\">\n",
       "      <th></th>\n",
       "      <th>이름</th>\n",
       "      <th>국어</th>\n",
       "      <th>미술</th>\n",
       "      <th>수학</th>\n",
       "      <th>음악</th>\n",
       "    </tr>\n",
       "  </thead>\n",
       "  <tbody>\n",
       "    <tr>\n",
       "      <th>zero</th>\n",
       "      <td>손예림</td>\n",
       "      <td>98</td>\n",
       "      <td>100</td>\n",
       "      <td>82</td>\n",
       "      <td>97</td>\n",
       "    </tr>\n",
       "    <tr>\n",
       "      <th>1</th>\n",
       "      <td>명노아</td>\n",
       "      <td>95</td>\n",
       "      <td>82</td>\n",
       "      <td>76</td>\n",
       "      <td>84</td>\n",
       "    </tr>\n",
       "    <tr>\n",
       "      <th>2</th>\n",
       "      <td>변희진</td>\n",
       "      <td>96</td>\n",
       "      <td>98</td>\n",
       "      <td>94</td>\n",
       "      <td>76</td>\n",
       "    </tr>\n",
       "    <tr>\n",
       "      <th>3</th>\n",
       "      <td>이윤서</td>\n",
       "      <td>100</td>\n",
       "      <td>79</td>\n",
       "      <td>97</td>\n",
       "      <td>100</td>\n",
       "    </tr>\n",
       "  </tbody>\n",
       "</table>\n",
       "</div>"
      ],
      "text/plain": [
       "       이름   국어   미술  수학   음악\n",
       "zero  손예림   98  100  82   97\n",
       "1     명노아   95   82  76   84\n",
       "2     변희진   96   98  94   76\n",
       "3     이윤서  100   79  97  100"
      ]
     },
     "execution_count": 46,
     "metadata": {},
     "output_type": "execute_result"
    }
   ],
   "source": [
    "examDF"
   ]
  },
  {
   "cell_type": "markdown",
   "id": "702b528e-dfeb-469c-94b6-5a8e7682a88a",
   "metadata": {},
   "source": [
    "5. 새로운 인덱스 설정 - 방법(2): 특정 컬럼 => 인덱스 : DF.set_index()"
   ]
  },
  {
   "cell_type": "code",
   "execution_count": 47,
   "id": "5a0aa9d3-e296-4465-95e0-883f2b21c52f",
   "metadata": {},
   "outputs": [
    {
     "data": {
      "text/plain": [
       "Index(['zero', 1, 2, 3], dtype='object')"
      ]
     },
     "execution_count": 47,
     "metadata": {},
     "output_type": "execute_result"
    }
   ],
   "source": [
    "# 현재 기본 0~ ==> 이름 컬럼 인덱스로 설정\n",
    "examDF.index"
   ]
  },
  {
   "cell_type": "code",
   "execution_count": 48,
   "id": "a908dfda-4bda-409c-86ad-032ae17135d8",
   "metadata": {},
   "outputs": [
    {
     "data": {
      "text/html": [
       "<div>\n",
       "<style scoped>\n",
       "    .dataframe tbody tr th:only-of-type {\n",
       "        vertical-align: middle;\n",
       "    }\n",
       "\n",
       "    .dataframe tbody tr th {\n",
       "        vertical-align: top;\n",
       "    }\n",
       "\n",
       "    .dataframe thead th {\n",
       "        text-align: right;\n",
       "    }\n",
       "</style>\n",
       "<table border=\"1\" class=\"dataframe\">\n",
       "  <thead>\n",
       "    <tr style=\"text-align: right;\">\n",
       "      <th></th>\n",
       "      <th>국어</th>\n",
       "      <th>미술</th>\n",
       "      <th>수학</th>\n",
       "      <th>음악</th>\n",
       "    </tr>\n",
       "    <tr>\n",
       "      <th>이름</th>\n",
       "      <th></th>\n",
       "      <th></th>\n",
       "      <th></th>\n",
       "      <th></th>\n",
       "    </tr>\n",
       "  </thead>\n",
       "  <tbody>\n",
       "    <tr>\n",
       "      <th>손예림</th>\n",
       "      <td>98</td>\n",
       "      <td>100</td>\n",
       "      <td>82</td>\n",
       "      <td>97</td>\n",
       "    </tr>\n",
       "    <tr>\n",
       "      <th>명노아</th>\n",
       "      <td>95</td>\n",
       "      <td>82</td>\n",
       "      <td>76</td>\n",
       "      <td>84</td>\n",
       "    </tr>\n",
       "    <tr>\n",
       "      <th>변희진</th>\n",
       "      <td>96</td>\n",
       "      <td>98</td>\n",
       "      <td>94</td>\n",
       "      <td>76</td>\n",
       "    </tr>\n",
       "    <tr>\n",
       "      <th>이윤서</th>\n",
       "      <td>100</td>\n",
       "      <td>79</td>\n",
       "      <td>97</td>\n",
       "      <td>100</td>\n",
       "    </tr>\n",
       "  </tbody>\n",
       "</table>\n",
       "</div>"
      ],
      "text/plain": [
       "      국어   미술  수학   음악\n",
       "이름                    \n",
       "손예림   98  100  82   97\n",
       "명노아   95   82  76   84\n",
       "변희진   96   98  94   76\n",
       "이윤서  100   79  97  100"
      ]
     },
     "execution_count": 48,
     "metadata": {},
     "output_type": "execute_result"
    }
   ],
   "source": [
    "# 1개 컬럼을 인덱스로 설정 단, inplace 파라미터가 False로 원본 적용 안됨\n",
    "examDF.set_index('이름')"
   ]
  },
  {
   "cell_type": "code",
   "execution_count": 50,
   "id": "ef497929-d1cd-4a04-9f7f-0be7bce7decd",
   "metadata": {},
   "outputs": [
    {
     "data": {
      "text/plain": [
       "MultiIndex([('손예림',  98),\n",
       "            ('명노아',  95),\n",
       "            ('변희진',  96),\n",
       "            ('이윤서', 100)],\n",
       "           names=['이름', '국어'])"
      ]
     },
     "execution_count": 50,
     "metadata": {},
     "output_type": "execute_result"
    }
   ],
   "source": [
    "# 2개 컬럼을 인덱스로 설정 단, inplace 파라미터가 False로 원본 적용 안됨\n",
    "examDF2=examDF.set_index(['이름', '국어'])\n",
    "examDF2.index"
   ]
  },
  {
   "cell_type": "code",
   "execution_count": 51,
   "id": "1f648782-1a67-489e-b8a0-ae948aca443f",
   "metadata": {},
   "outputs": [
    {
     "data": {
      "text/html": [
       "<div>\n",
       "<style scoped>\n",
       "    .dataframe tbody tr th:only-of-type {\n",
       "        vertical-align: middle;\n",
       "    }\n",
       "\n",
       "    .dataframe tbody tr th {\n",
       "        vertical-align: top;\n",
       "    }\n",
       "\n",
       "    .dataframe thead th {\n",
       "        text-align: right;\n",
       "    }\n",
       "</style>\n",
       "<table border=\"1\" class=\"dataframe\">\n",
       "  <thead>\n",
       "    <tr style=\"text-align: right;\">\n",
       "      <th></th>\n",
       "      <th>미술</th>\n",
       "      <th>수학</th>\n",
       "      <th>음악</th>\n",
       "    </tr>\n",
       "    <tr>\n",
       "      <th>국어</th>\n",
       "      <th></th>\n",
       "      <th></th>\n",
       "      <th></th>\n",
       "    </tr>\n",
       "  </thead>\n",
       "  <tbody>\n",
       "    <tr>\n",
       "      <th>100</th>\n",
       "      <td>79</td>\n",
       "      <td>97</td>\n",
       "      <td>100</td>\n",
       "    </tr>\n",
       "  </tbody>\n",
       "</table>\n",
       "</div>"
      ],
      "text/plain": [
       "     미술  수학   음악\n",
       "국어              \n",
       "100  79  97  100"
      ]
     },
     "execution_count": 51,
     "metadata": {},
     "output_type": "execute_result"
    }
   ],
   "source": [
    "examDF2.loc['이윤서']"
   ]
  },
  {
   "cell_type": "markdown",
   "id": "03c3cf53-0057-4c63-b604-cba4825a4711",
   "metadata": {},
   "source": [
    "5. 새로운 인덱스 설정 - 방법(3): 특정 컬럼 => 인덱스 : DF.set_index()"
   ]
  },
  {
   "cell_type": "code",
   "execution_count": 56,
   "id": "7c59c5c5-2877-4fd6-9084-086b506ea958",
   "metadata": {},
   "outputs": [],
   "source": [
    "examDF.set_index('이름',inplace=True)"
   ]
  },
  {
   "cell_type": "code",
   "execution_count": 57,
   "id": "4be08027-0545-46bf-945d-98d467dff1aa",
   "metadata": {},
   "outputs": [
    {
     "data": {
      "text/html": [
       "<div>\n",
       "<style scoped>\n",
       "    .dataframe tbody tr th:only-of-type {\n",
       "        vertical-align: middle;\n",
       "    }\n",
       "\n",
       "    .dataframe tbody tr th {\n",
       "        vertical-align: top;\n",
       "    }\n",
       "\n",
       "    .dataframe thead th {\n",
       "        text-align: right;\n",
       "    }\n",
       "</style>\n",
       "<table border=\"1\" class=\"dataframe\">\n",
       "  <thead>\n",
       "    <tr style=\"text-align: right;\">\n",
       "      <th></th>\n",
       "      <th>국어</th>\n",
       "      <th>미술</th>\n",
       "      <th>수학</th>\n",
       "      <th>음악</th>\n",
       "    </tr>\n",
       "    <tr>\n",
       "      <th>이름</th>\n",
       "      <th></th>\n",
       "      <th></th>\n",
       "      <th></th>\n",
       "      <th></th>\n",
       "    </tr>\n",
       "  </thead>\n",
       "  <tbody>\n",
       "    <tr>\n",
       "      <th>손예림</th>\n",
       "      <td>98</td>\n",
       "      <td>100</td>\n",
       "      <td>82</td>\n",
       "      <td>97</td>\n",
       "    </tr>\n",
       "    <tr>\n",
       "      <th>명노아</th>\n",
       "      <td>95</td>\n",
       "      <td>82</td>\n",
       "      <td>76</td>\n",
       "      <td>84</td>\n",
       "    </tr>\n",
       "    <tr>\n",
       "      <th>변희진</th>\n",
       "      <td>96</td>\n",
       "      <td>98</td>\n",
       "      <td>94</td>\n",
       "      <td>76</td>\n",
       "    </tr>\n",
       "    <tr>\n",
       "      <th>이윤서</th>\n",
       "      <td>100</td>\n",
       "      <td>79</td>\n",
       "      <td>97</td>\n",
       "      <td>100</td>\n",
       "    </tr>\n",
       "  </tbody>\n",
       "</table>\n",
       "</div>"
      ],
      "text/plain": [
       "      국어   미술  수학   음악\n",
       "이름                    \n",
       "손예림   98  100  82   97\n",
       "명노아   95   82  76   84\n",
       "변희진   96   98  94   76\n",
       "이윤서  100   79  97  100"
      ]
     },
     "execution_count": 57,
     "metadata": {},
     "output_type": "execute_result"
    }
   ],
   "source": [
    "examDF"
   ]
  },
  {
   "cell_type": "code",
   "execution_count": 58,
   "id": "d8b2d743-9a96-4101-8035-b9e9b13e2959",
   "metadata": {},
   "outputs": [
    {
     "data": {
      "text/html": [
       "<div>\n",
       "<style scoped>\n",
       "    .dataframe tbody tr th:only-of-type {\n",
       "        vertical-align: middle;\n",
       "    }\n",
       "\n",
       "    .dataframe tbody tr th {\n",
       "        vertical-align: top;\n",
       "    }\n",
       "\n",
       "    .dataframe thead th {\n",
       "        text-align: right;\n",
       "    }\n",
       "</style>\n",
       "<table border=\"1\" class=\"dataframe\">\n",
       "  <thead>\n",
       "    <tr style=\"text-align: right;\">\n",
       "      <th></th>\n",
       "      <th>이름</th>\n",
       "      <th>국어</th>\n",
       "      <th>미술</th>\n",
       "      <th>수학</th>\n",
       "      <th>음악</th>\n",
       "    </tr>\n",
       "  </thead>\n",
       "  <tbody>\n",
       "    <tr>\n",
       "      <th>0</th>\n",
       "      <td>손예림</td>\n",
       "      <td>98</td>\n",
       "      <td>100</td>\n",
       "      <td>82</td>\n",
       "      <td>97</td>\n",
       "    </tr>\n",
       "    <tr>\n",
       "      <th>1</th>\n",
       "      <td>명노아</td>\n",
       "      <td>95</td>\n",
       "      <td>82</td>\n",
       "      <td>76</td>\n",
       "      <td>84</td>\n",
       "    </tr>\n",
       "    <tr>\n",
       "      <th>2</th>\n",
       "      <td>변희진</td>\n",
       "      <td>96</td>\n",
       "      <td>98</td>\n",
       "      <td>94</td>\n",
       "      <td>76</td>\n",
       "    </tr>\n",
       "    <tr>\n",
       "      <th>3</th>\n",
       "      <td>이윤서</td>\n",
       "      <td>100</td>\n",
       "      <td>79</td>\n",
       "      <td>97</td>\n",
       "      <td>100</td>\n",
       "    </tr>\n",
       "  </tbody>\n",
       "</table>\n",
       "</div>"
      ],
      "text/plain": [
       "    이름   국어   미술  수학   음악\n",
       "0  손예림   98  100  82   97\n",
       "1  명노아   95   82  76   84\n",
       "2  변희진   96   98  94   76\n",
       "3  이윤서  100   79  97  100"
      ]
     },
     "execution_count": 58,
     "metadata": {},
     "output_type": "execute_result"
    }
   ],
   "source": [
    "# 현재 행 인덱스 ==> 컬럼으로 추가\n",
    "examDF.reset_index()"
   ]
  },
  {
   "cell_type": "code",
   "execution_count": 60,
   "id": "d37fb7cd-63e5-4f03-ae54-bb4961573464",
   "metadata": {},
   "outputs": [
    {
     "data": {
      "text/html": [
       "<div>\n",
       "<style scoped>\n",
       "    .dataframe tbody tr th:only-of-type {\n",
       "        vertical-align: middle;\n",
       "    }\n",
       "\n",
       "    .dataframe tbody tr th {\n",
       "        vertical-align: top;\n",
       "    }\n",
       "\n",
       "    .dataframe thead th {\n",
       "        text-align: right;\n",
       "    }\n",
       "</style>\n",
       "<table border=\"1\" class=\"dataframe\">\n",
       "  <thead>\n",
       "    <tr style=\"text-align: right;\">\n",
       "      <th></th>\n",
       "      <th>국어</th>\n",
       "      <th>미술</th>\n",
       "      <th>수학</th>\n",
       "      <th>음악</th>\n",
       "    </tr>\n",
       "  </thead>\n",
       "  <tbody>\n",
       "    <tr>\n",
       "      <th>0</th>\n",
       "      <td>98</td>\n",
       "      <td>100</td>\n",
       "      <td>82</td>\n",
       "      <td>97</td>\n",
       "    </tr>\n",
       "    <tr>\n",
       "      <th>1</th>\n",
       "      <td>95</td>\n",
       "      <td>82</td>\n",
       "      <td>76</td>\n",
       "      <td>84</td>\n",
       "    </tr>\n",
       "    <tr>\n",
       "      <th>2</th>\n",
       "      <td>96</td>\n",
       "      <td>98</td>\n",
       "      <td>94</td>\n",
       "      <td>76</td>\n",
       "    </tr>\n",
       "    <tr>\n",
       "      <th>3</th>\n",
       "      <td>100</td>\n",
       "      <td>79</td>\n",
       "      <td>97</td>\n",
       "      <td>100</td>\n",
       "    </tr>\n",
       "  </tbody>\n",
       "</table>\n",
       "</div>"
      ],
      "text/plain": [
       "    국어   미술  수학   음악\n",
       "0   98  100  82   97\n",
       "1   95   82  76   84\n",
       "2   96   98  94   76\n",
       "3  100   79  97  100"
      ]
     },
     "execution_count": 60,
     "metadata": {},
     "output_type": "execute_result"
    }
   ],
   "source": [
    "# 현재 행 인덱스를 컬럼에 추가하지 않고 삭제 => drop 파라미터를 True로 설정\n",
    "df2=examDF.reset_index(drop=True)\n",
    "df2"
   ]
  },
  {
   "cell_type": "code",
   "execution_count": null,
   "id": "b268bc6a-96ed-49eb-bbe2-1e2bbd68c033",
   "metadata": {},
   "outputs": [],
   "source": []
  }
 ],
 "metadata": {
  "kernelspec": {
   "display_name": "Python 3 (ipykernel)",
   "language": "python",
   "name": "python3"
  },
  "language_info": {
   "codemirror_mode": {
    "name": "ipython",
    "version": 3
   },
   "file_extension": ".py",
   "mimetype": "text/x-python",
   "name": "python",
   "nbconvert_exporter": "python",
   "pygments_lexer": "ipython3",
   "version": "3.8.18"
  }
 },
 "nbformat": 4,
 "nbformat_minor": 5
}
