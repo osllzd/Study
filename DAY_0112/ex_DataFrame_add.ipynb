{
 "cells": [
  {
   "cell_type": "markdown",
   "id": "4dd2e2b3-b433-4d05-a9fa-51b556342dd1",
   "metadata": {},
   "source": [
    "[DataFrame 행/열 추가]"
   ]
  },
  {
   "cell_type": "markdown",
   "id": "7e089b40-7a16-4f47-a079-ef177d528f1f",
   "metadata": {},
   "source": [
    "(1) 모듈 로딩"
   ]
  },
  {
   "cell_type": "code",
   "execution_count": 1,
   "id": "1c14d561-049e-4fe2-a7ba-09b84583c8e5",
   "metadata": {},
   "outputs": [],
   "source": [
    "import pandas as pd"
   ]
  },
  {
   "cell_type": "markdown",
   "id": "cd61318a-adcf-4932-9db3-0e442beedb7a",
   "metadata": {},
   "source": [
    "(2) 데이터 준비"
   ]
  },
  {
   "cell_type": "code",
   "execution_count": 2,
   "id": "e019ba50-bbc8-414e-b3a4-4af5255c5492",
   "metadata": {},
   "outputs": [],
   "source": [
    "# dict 타입의 데이터 생성\n",
    "exam = { ' 이름 ':['손예림', '명노아', '변희진', '이윤서'], \n",
    "        '국어' : [98, 95, 96, 100],\n",
    "        '미술' : [100,82,98,79], \n",
    "        '수학':[82,76,94,97], \n",
    "        '영어':[97,84,76,100] }\n"
   ]
  },
  {
   "cell_type": "markdown",
   "id": "445483f6-0315-4a6c-bf72-d154015ab219",
   "metadata": {},
   "source": [
    "(3) DataFrame에 데이터 저장"
   ]
  },
  {
   "cell_type": "code",
   "execution_count": 8,
   "id": "30115f54-110c-4e3f-a2cb-c224b78a9735",
   "metadata": {},
   "outputs": [
    {
     "data": {
      "text/html": [
       "<div>\n",
       "<style scoped>\n",
       "    .dataframe tbody tr th:only-of-type {\n",
       "        vertical-align: middle;\n",
       "    }\n",
       "\n",
       "    .dataframe tbody tr th {\n",
       "        vertical-align: top;\n",
       "    }\n",
       "\n",
       "    .dataframe thead th {\n",
       "        text-align: right;\n",
       "    }\n",
       "</style>\n",
       "<table border=\"1\" class=\"dataframe\">\n",
       "  <thead>\n",
       "    <tr style=\"text-align: right;\">\n",
       "      <th></th>\n",
       "      <th>이름</th>\n",
       "      <th>국어</th>\n",
       "      <th>미술</th>\n",
       "      <th>수학</th>\n",
       "      <th>영어</th>\n",
       "    </tr>\n",
       "  </thead>\n",
       "  <tbody>\n",
       "    <tr>\n",
       "      <th>0</th>\n",
       "      <td>손예림</td>\n",
       "      <td>98</td>\n",
       "      <td>100</td>\n",
       "      <td>82</td>\n",
       "      <td>97</td>\n",
       "    </tr>\n",
       "    <tr>\n",
       "      <th>1</th>\n",
       "      <td>명노아</td>\n",
       "      <td>95</td>\n",
       "      <td>82</td>\n",
       "      <td>76</td>\n",
       "      <td>84</td>\n",
       "    </tr>\n",
       "    <tr>\n",
       "      <th>2</th>\n",
       "      <td>변희진</td>\n",
       "      <td>96</td>\n",
       "      <td>98</td>\n",
       "      <td>94</td>\n",
       "      <td>76</td>\n",
       "    </tr>\n",
       "    <tr>\n",
       "      <th>3</th>\n",
       "      <td>이윤서</td>\n",
       "      <td>100</td>\n",
       "      <td>79</td>\n",
       "      <td>97</td>\n",
       "      <td>100</td>\n",
       "    </tr>\n",
       "  </tbody>\n",
       "</table>\n",
       "</div>"
      ],
      "text/plain": [
       "   이름    국어   미술  수학   영어\n",
       "0  손예림   98  100  82   97\n",
       "1  명노아   95   82  76   84\n",
       "2  변희진   96   98  94   76\n",
       "3  이윤서  100   79  97  100"
      ]
     },
     "execution_count": 8,
     "metadata": {},
     "output_type": "execute_result"
    }
   ],
   "source": [
    "examDF = pd.DataFrame(exam)\n",
    "examDF"
   ]
  },
  {
   "cell_type": "markdown",
   "id": "574e6069-a7e9-4a9c-b3c3-1e3a89b7a05c",
   "metadata": {},
   "source": [
    "(4) 저장된 데이터 속성 확인"
   ]
  },
  {
   "cell_type": "code",
   "execution_count": 13,
   "id": "4ed7ff45-81f8-47bb-8d57-795f67034346",
   "metadata": {},
   "outputs": [],
   "source": [
    "def printAttribute(df, dfname):\n",
    "    print(f'[{dfname}] Attributes')\n",
    "    print(f'index\\n=== =>{df.index}')\n",
    "    print(f'columns\\n=== =>{df.columns}')\n",
    "    print(f'shape\\n=== =>{df.shape}')\n",
    "    print(f'ndim\\n=== =>{df.ndim}')\n",
    "    print(f'dtypes\\n=== =>{df.dtypes}') # type : Series"
   ]
  },
  {
   "cell_type": "code",
   "execution_count": 12,
   "id": "524a4682-21e2-49ce-992b-151dc9c366cb",
   "metadata": {},
   "outputs": [
    {
     "name": "stdout",
     "output_type": "stream",
     "text": [
      "[examDF]\n",
      "index\n",
      "=== =>RangeIndex(start=0, stop=4, step=1)\n",
      "columns\n",
      "=== =>Index([' 이름 ', '국어', '미술', '수학', '영어'], dtype='object')\n",
      "shape\n",
      "=== =>(4, 5)\n",
      "ndim\n",
      "=== =>2\n",
      "dtypes\n",
      "=== => 이름     object\n",
      "국어       int64\n",
      "미술       int64\n",
      "수학       int64\n",
      "영어       int64\n",
      "dtype: object\n"
     ]
    }
   ],
   "source": [
    "printAttribute(examDF, 'examDF')"
   ]
  },
  {
   "cell_type": "markdown",
   "id": "c2f15d70-74f9-4d13-bf02-935ca2442a4f",
   "metadata": {},
   "source": [
    "(5) DataFrame에 컬럼(column) 추가 \n",
    "- 방법: DF객체변수명[새로운컬러명]=값"
   ]
  },
  {
   "cell_type": "code",
   "execution_count": 14,
   "id": "ac27066d-d986-4c90-aa5e-fbdc006cbca3",
   "metadata": {},
   "outputs": [
    {
     "data": {
      "text/plain": [
       "Index([' 이름 ', '국어', '미술', '수학', '영어'], dtype='object')"
      ]
     },
     "execution_count": 14,
     "metadata": {},
     "output_type": "execute_result"
    }
   ],
   "source": [
    "examDF.columns"
   ]
  },
  {
   "cell_type": "code",
   "execution_count": 15,
   "id": "5d5bcf9c-032b-4c33-aacc-563b1f912f85",
   "metadata": {},
   "outputs": [],
   "source": [
    "#행 갯수만큼 값 추가\n",
    "examDF['체육']=[90,80,95,94]"
   ]
  },
  {
   "cell_type": "code",
   "execution_count": 16,
   "id": "acfd2133-ee11-4d19-9bf0-0f6457fff8ce",
   "metadata": {},
   "outputs": [
    {
     "data": {
      "text/html": [
       "<div>\n",
       "<style scoped>\n",
       "    .dataframe tbody tr th:only-of-type {\n",
       "        vertical-align: middle;\n",
       "    }\n",
       "\n",
       "    .dataframe tbody tr th {\n",
       "        vertical-align: top;\n",
       "    }\n",
       "\n",
       "    .dataframe thead th {\n",
       "        text-align: right;\n",
       "    }\n",
       "</style>\n",
       "<table border=\"1\" class=\"dataframe\">\n",
       "  <thead>\n",
       "    <tr style=\"text-align: right;\">\n",
       "      <th></th>\n",
       "      <th>이름</th>\n",
       "      <th>국어</th>\n",
       "      <th>미술</th>\n",
       "      <th>수학</th>\n",
       "      <th>영어</th>\n",
       "      <th>체육</th>\n",
       "    </tr>\n",
       "  </thead>\n",
       "  <tbody>\n",
       "    <tr>\n",
       "      <th>0</th>\n",
       "      <td>손예림</td>\n",
       "      <td>98</td>\n",
       "      <td>100</td>\n",
       "      <td>82</td>\n",
       "      <td>97</td>\n",
       "      <td>90</td>\n",
       "    </tr>\n",
       "    <tr>\n",
       "      <th>1</th>\n",
       "      <td>명노아</td>\n",
       "      <td>95</td>\n",
       "      <td>82</td>\n",
       "      <td>76</td>\n",
       "      <td>84</td>\n",
       "      <td>80</td>\n",
       "    </tr>\n",
       "    <tr>\n",
       "      <th>2</th>\n",
       "      <td>변희진</td>\n",
       "      <td>96</td>\n",
       "      <td>98</td>\n",
       "      <td>94</td>\n",
       "      <td>76</td>\n",
       "      <td>95</td>\n",
       "    </tr>\n",
       "    <tr>\n",
       "      <th>3</th>\n",
       "      <td>이윤서</td>\n",
       "      <td>100</td>\n",
       "      <td>79</td>\n",
       "      <td>97</td>\n",
       "      <td>100</td>\n",
       "      <td>94</td>\n",
       "    </tr>\n",
       "  </tbody>\n",
       "</table>\n",
       "</div>"
      ],
      "text/plain": [
       "   이름    국어   미술  수학   영어  체육\n",
       "0  손예림   98  100  82   97  90\n",
       "1  명노아   95   82  76   84  80\n",
       "2  변희진   96   98  94   76  95\n",
       "3  이윤서  100   79  97  100  94"
      ]
     },
     "execution_count": 16,
     "metadata": {},
     "output_type": "execute_result"
    }
   ],
   "source": [
    "examDF"
   ]
  },
  {
   "cell_type": "code",
   "execution_count": 20,
   "id": "880a4bf5-4881-4c6b-a65f-69df0664764b",
   "metadata": {},
   "outputs": [],
   "source": [
    "# 1개의 데이터 즉 값 추가 시 모든 형태 동일 값으로 저장\n",
    "examDF['과학']= 10"
   ]
  },
  {
   "cell_type": "code",
   "execution_count": 21,
   "id": "d7fce56c-bfe8-4a4a-a665-b110d2187e08",
   "metadata": {},
   "outputs": [
    {
     "data": {
      "text/html": [
       "<div>\n",
       "<style scoped>\n",
       "    .dataframe tbody tr th:only-of-type {\n",
       "        vertical-align: middle;\n",
       "    }\n",
       "\n",
       "    .dataframe tbody tr th {\n",
       "        vertical-align: top;\n",
       "    }\n",
       "\n",
       "    .dataframe thead th {\n",
       "        text-align: right;\n",
       "    }\n",
       "</style>\n",
       "<table border=\"1\" class=\"dataframe\">\n",
       "  <thead>\n",
       "    <tr style=\"text-align: right;\">\n",
       "      <th></th>\n",
       "      <th>이름</th>\n",
       "      <th>국어</th>\n",
       "      <th>미술</th>\n",
       "      <th>수학</th>\n",
       "      <th>영어</th>\n",
       "      <th>체육</th>\n",
       "      <th>과학</th>\n",
       "    </tr>\n",
       "  </thead>\n",
       "  <tbody>\n",
       "    <tr>\n",
       "      <th>0</th>\n",
       "      <td>손예림</td>\n",
       "      <td>98</td>\n",
       "      <td>100</td>\n",
       "      <td>82</td>\n",
       "      <td>97</td>\n",
       "      <td>90</td>\n",
       "      <td>10</td>\n",
       "    </tr>\n",
       "    <tr>\n",
       "      <th>1</th>\n",
       "      <td>명노아</td>\n",
       "      <td>95</td>\n",
       "      <td>82</td>\n",
       "      <td>76</td>\n",
       "      <td>84</td>\n",
       "      <td>80</td>\n",
       "      <td>10</td>\n",
       "    </tr>\n",
       "    <tr>\n",
       "      <th>2</th>\n",
       "      <td>변희진</td>\n",
       "      <td>96</td>\n",
       "      <td>98</td>\n",
       "      <td>94</td>\n",
       "      <td>76</td>\n",
       "      <td>95</td>\n",
       "      <td>10</td>\n",
       "    </tr>\n",
       "    <tr>\n",
       "      <th>3</th>\n",
       "      <td>이윤서</td>\n",
       "      <td>100</td>\n",
       "      <td>79</td>\n",
       "      <td>97</td>\n",
       "      <td>100</td>\n",
       "      <td>94</td>\n",
       "      <td>10</td>\n",
       "    </tr>\n",
       "  </tbody>\n",
       "</table>\n",
       "</div>"
      ],
      "text/plain": [
       "   이름    국어   미술  수학   영어  체육  과학\n",
       "0  손예림   98  100  82   97  90  10\n",
       "1  명노아   95   82  76   84  80  10\n",
       "2  변희진   96   98  94   76  95  10\n",
       "3  이윤서  100   79  97  100  94  10"
      ]
     },
     "execution_count": 21,
     "metadata": {},
     "output_type": "execute_result"
    }
   ],
   "source": [
    "examDF"
   ]
  },
  {
   "cell_type": "code",
   "execution_count": 22,
   "id": "d7f62755-dba3-4b8c-bf1e-87332e2c0965",
   "metadata": {},
   "outputs": [
    {
     "data": {
      "text/plain": [
       "Index([' 이름 ', '국어', '미술', '수학', '영어', '체육', '과학'], dtype='object')"
      ]
     },
     "execution_count": 22,
     "metadata": {},
     "output_type": "execute_result"
    }
   ],
   "source": [
    "examDF.columns"
   ]
  },
  {
   "cell_type": "markdown",
   "id": "25e9e1ec-b765-4168-89df-91b1ad9dc1b5",
   "metadata": {},
   "source": [
    "(6) DataFrame에 행(row) 추가 <hr>\n",
    "- 방법 : DF객체변수명.loc[새로운 행인덱스]=[컬럼수 만큼 데이터1]\n",
    "- 방법 : DF객체변수명.loc[새로운 행인덱스]=데이터\n",
    "- 불가 방법: DF객체변수명.iloc[새로운 행인덱스]=데이터=>데이터 존재해야 인덱스가 할당됨"
   ]
  },
  {
   "cell_type": "code",
   "execution_count": 23,
   "id": "8fc9bcf5-dd1a-453c-bd9e-f523e666a793",
   "metadata": {},
   "outputs": [
    {
     "data": {
      "text/plain": [
       "RangeIndex(start=0, stop=4, step=1)"
      ]
     },
     "execution_count": 23,
     "metadata": {},
     "output_type": "execute_result"
    }
   ],
   "source": [
    "examDF.index"
   ]
  },
  {
   "cell_type": "code",
   "execution_count": 24,
   "id": "c73055d3-5bd7-4885-b3fd-61bf1c385d06",
   "metadata": {},
   "outputs": [],
   "source": [
    "#컬럼 수 만큼의 데이터를 가진 행 추가\n",
    "examDF.loc[4]=['임소영', 90,95,82,88,74,76]"
   ]
  },
  {
   "cell_type": "code",
   "execution_count": 25,
   "id": "f67a6bdf-4aed-4b92-8c98-363c34d44700",
   "metadata": {},
   "outputs": [
    {
     "data": {
      "text/html": [
       "<div>\n",
       "<style scoped>\n",
       "    .dataframe tbody tr th:only-of-type {\n",
       "        vertical-align: middle;\n",
       "    }\n",
       "\n",
       "    .dataframe tbody tr th {\n",
       "        vertical-align: top;\n",
       "    }\n",
       "\n",
       "    .dataframe thead th {\n",
       "        text-align: right;\n",
       "    }\n",
       "</style>\n",
       "<table border=\"1\" class=\"dataframe\">\n",
       "  <thead>\n",
       "    <tr style=\"text-align: right;\">\n",
       "      <th></th>\n",
       "      <th>이름</th>\n",
       "      <th>국어</th>\n",
       "      <th>미술</th>\n",
       "      <th>수학</th>\n",
       "      <th>영어</th>\n",
       "      <th>체육</th>\n",
       "      <th>과학</th>\n",
       "    </tr>\n",
       "  </thead>\n",
       "  <tbody>\n",
       "    <tr>\n",
       "      <th>0</th>\n",
       "      <td>손예림</td>\n",
       "      <td>98</td>\n",
       "      <td>100</td>\n",
       "      <td>82</td>\n",
       "      <td>97</td>\n",
       "      <td>90</td>\n",
       "      <td>10</td>\n",
       "    </tr>\n",
       "    <tr>\n",
       "      <th>1</th>\n",
       "      <td>명노아</td>\n",
       "      <td>95</td>\n",
       "      <td>82</td>\n",
       "      <td>76</td>\n",
       "      <td>84</td>\n",
       "      <td>80</td>\n",
       "      <td>10</td>\n",
       "    </tr>\n",
       "    <tr>\n",
       "      <th>2</th>\n",
       "      <td>변희진</td>\n",
       "      <td>96</td>\n",
       "      <td>98</td>\n",
       "      <td>94</td>\n",
       "      <td>76</td>\n",
       "      <td>95</td>\n",
       "      <td>10</td>\n",
       "    </tr>\n",
       "    <tr>\n",
       "      <th>3</th>\n",
       "      <td>이윤서</td>\n",
       "      <td>100</td>\n",
       "      <td>79</td>\n",
       "      <td>97</td>\n",
       "      <td>100</td>\n",
       "      <td>94</td>\n",
       "      <td>10</td>\n",
       "    </tr>\n",
       "    <tr>\n",
       "      <th>4</th>\n",
       "      <td>임소영</td>\n",
       "      <td>90</td>\n",
       "      <td>95</td>\n",
       "      <td>82</td>\n",
       "      <td>88</td>\n",
       "      <td>74</td>\n",
       "      <td>76</td>\n",
       "    </tr>\n",
       "  </tbody>\n",
       "</table>\n",
       "</div>"
      ],
      "text/plain": [
       "   이름    국어   미술  수학   영어  체육  과학\n",
       "0  손예림   98  100  82   97  90  10\n",
       "1  명노아   95   82  76   84  80  10\n",
       "2  변희진   96   98  94   76  95  10\n",
       "3  이윤서  100   79  97  100  94  10\n",
       "4  임소영   90   95  82   88  74  76"
      ]
     },
     "execution_count": 25,
     "metadata": {},
     "output_type": "execute_result"
    }
   ],
   "source": [
    "examDF"
   ]
  },
  {
   "cell_type": "code",
   "execution_count": 26,
   "id": "aa6f78df-0043-4b01-9ab5-24777ae75975",
   "metadata": {},
   "outputs": [
    {
     "ename": "IndexError",
     "evalue": "iloc cannot enlarge its target object",
     "output_type": "error",
     "traceback": [
      "\u001b[1;31m---------------------------------------------------------------------------\u001b[0m",
      "\u001b[1;31mIndexError\u001b[0m                                Traceback (most recent call last)",
      "Cell \u001b[1;32mIn[26], line 3\u001b[0m\n\u001b[0;32m      1\u001b[0m \u001b[38;5;66;03m# 행 추가시 iloc는 사용불가 => why? 데이터 수에 맞게 인덱스 범위 지정이 되기 때문\u001b[39;00m\n\u001b[0;32m      2\u001b[0m \u001b[38;5;66;03m# 현재 인덱스에 없는 인덱스로 불가\u001b[39;00m\n\u001b[1;32m----> 3\u001b[0m examDF\u001b[38;5;241m.\u001b[39miloc[\u001b[38;5;241m5\u001b[39m]\u001b[38;5;241m=\u001b[39m[\u001b[38;5;124m'\u001b[39m\u001b[38;5;124m슈퍼맨\u001b[39m\u001b[38;5;124m'\u001b[39m, \u001b[38;5;241m90\u001b[39m, \u001b[38;5;241m87\u001b[39m, \u001b[38;5;241m99\u001b[39m, \u001b[38;5;241m98\u001b[39m,\u001b[38;5;241m77\u001b[39m,\u001b[38;5;241m62\u001b[39m]\n",
      "File \u001b[1;32m~\\.conda\\envs\\My_38\\lib\\site-packages\\pandas\\core\\indexing.py:846\u001b[0m, in \u001b[0;36m_LocationIndexer.__setitem__\u001b[1;34m(self, key, value)\u001b[0m\n\u001b[0;32m    844\u001b[0m     key \u001b[38;5;241m=\u001b[39m com\u001b[38;5;241m.\u001b[39mapply_if_callable(key, \u001b[38;5;28mself\u001b[39m\u001b[38;5;241m.\u001b[39mobj)\n\u001b[0;32m    845\u001b[0m indexer \u001b[38;5;241m=\u001b[39m \u001b[38;5;28mself\u001b[39m\u001b[38;5;241m.\u001b[39m_get_setitem_indexer(key)\n\u001b[1;32m--> 846\u001b[0m \u001b[38;5;28;43mself\u001b[39;49m\u001b[38;5;241;43m.\u001b[39;49m\u001b[43m_has_valid_setitem_indexer\u001b[49m\u001b[43m(\u001b[49m\u001b[43mkey\u001b[49m\u001b[43m)\u001b[49m\n\u001b[0;32m    848\u001b[0m iloc \u001b[38;5;241m=\u001b[39m \u001b[38;5;28mself\u001b[39m \u001b[38;5;28;01mif\u001b[39;00m \u001b[38;5;28mself\u001b[39m\u001b[38;5;241m.\u001b[39mname \u001b[38;5;241m==\u001b[39m \u001b[38;5;124m\"\u001b[39m\u001b[38;5;124miloc\u001b[39m\u001b[38;5;124m\"\u001b[39m \u001b[38;5;28;01melse\u001b[39;00m \u001b[38;5;28mself\u001b[39m\u001b[38;5;241m.\u001b[39mobj\u001b[38;5;241m.\u001b[39miloc\n\u001b[0;32m    849\u001b[0m iloc\u001b[38;5;241m.\u001b[39m_setitem_with_indexer(indexer, value, \u001b[38;5;28mself\u001b[39m\u001b[38;5;241m.\u001b[39mname)\n",
      "File \u001b[1;32m~\\.conda\\envs\\My_38\\lib\\site-packages\\pandas\\core\\indexing.py:1550\u001b[0m, in \u001b[0;36m_iLocIndexer._has_valid_setitem_indexer\u001b[1;34m(self, indexer)\u001b[0m\n\u001b[0;32m   1548\u001b[0m \u001b[38;5;28;01melif\u001b[39;00m is_integer(i):\n\u001b[0;32m   1549\u001b[0m     \u001b[38;5;28;01mif\u001b[39;00m i \u001b[38;5;241m>\u001b[39m\u001b[38;5;241m=\u001b[39m \u001b[38;5;28mlen\u001b[39m(ax):\n\u001b[1;32m-> 1550\u001b[0m         \u001b[38;5;28;01mraise\u001b[39;00m \u001b[38;5;167;01mIndexError\u001b[39;00m(\u001b[38;5;124m\"\u001b[39m\u001b[38;5;124miloc cannot enlarge its target object\u001b[39m\u001b[38;5;124m\"\u001b[39m)\n\u001b[0;32m   1551\u001b[0m \u001b[38;5;28;01melif\u001b[39;00m \u001b[38;5;28misinstance\u001b[39m(i, \u001b[38;5;28mdict\u001b[39m):\n\u001b[0;32m   1552\u001b[0m     \u001b[38;5;28;01mraise\u001b[39;00m \u001b[38;5;167;01mIndexError\u001b[39;00m(\u001b[38;5;124m\"\u001b[39m\u001b[38;5;124miloc cannot enlarge its target object\u001b[39m\u001b[38;5;124m\"\u001b[39m)\n",
      "\u001b[1;31mIndexError\u001b[0m: iloc cannot enlarge its target object"
     ]
    }
   ],
   "source": [
    "# 행 추가시 iloc는 사용불가 => why? 데이터 수에 맞게 인덱스 범위 지정이 되기 때문\n",
    "# 현재 인덱스에 없는 인덱스로 불가\n",
    "# examDF.iloc[5]=['슈퍼맨', 90, 87, 99, 98,77,62]"
   ]
  },
  {
   "cell_type": "code",
   "execution_count": 27,
   "id": "8acf338b-ff42-4d5d-9ddf-44eeebe10b74",
   "metadata": {},
   "outputs": [],
   "source": [
    "# 1개의 데이터 가진 행을 추가\n",
    "examDF.loc[4]='슈퍼맨'"
   ]
  },
  {
   "cell_type": "code",
   "execution_count": 28,
   "id": "531c3fed-e33f-4205-92d0-d5cdd56945df",
   "metadata": {},
   "outputs": [
    {
     "data": {
      "text/html": [
       "<div>\n",
       "<style scoped>\n",
       "    .dataframe tbody tr th:only-of-type {\n",
       "        vertical-align: middle;\n",
       "    }\n",
       "\n",
       "    .dataframe tbody tr th {\n",
       "        vertical-align: top;\n",
       "    }\n",
       "\n",
       "    .dataframe thead th {\n",
       "        text-align: right;\n",
       "    }\n",
       "</style>\n",
       "<table border=\"1\" class=\"dataframe\">\n",
       "  <thead>\n",
       "    <tr style=\"text-align: right;\">\n",
       "      <th></th>\n",
       "      <th>이름</th>\n",
       "      <th>국어</th>\n",
       "      <th>미술</th>\n",
       "      <th>수학</th>\n",
       "      <th>영어</th>\n",
       "      <th>체육</th>\n",
       "      <th>과학</th>\n",
       "    </tr>\n",
       "  </thead>\n",
       "  <tbody>\n",
       "    <tr>\n",
       "      <th>0</th>\n",
       "      <td>손예림</td>\n",
       "      <td>98</td>\n",
       "      <td>100</td>\n",
       "      <td>82</td>\n",
       "      <td>97</td>\n",
       "      <td>90</td>\n",
       "      <td>10</td>\n",
       "    </tr>\n",
       "    <tr>\n",
       "      <th>1</th>\n",
       "      <td>명노아</td>\n",
       "      <td>95</td>\n",
       "      <td>82</td>\n",
       "      <td>76</td>\n",
       "      <td>84</td>\n",
       "      <td>80</td>\n",
       "      <td>10</td>\n",
       "    </tr>\n",
       "    <tr>\n",
       "      <th>2</th>\n",
       "      <td>변희진</td>\n",
       "      <td>96</td>\n",
       "      <td>98</td>\n",
       "      <td>94</td>\n",
       "      <td>76</td>\n",
       "      <td>95</td>\n",
       "      <td>10</td>\n",
       "    </tr>\n",
       "    <tr>\n",
       "      <th>3</th>\n",
       "      <td>이윤서</td>\n",
       "      <td>100</td>\n",
       "      <td>79</td>\n",
       "      <td>97</td>\n",
       "      <td>100</td>\n",
       "      <td>94</td>\n",
       "      <td>10</td>\n",
       "    </tr>\n",
       "    <tr>\n",
       "      <th>4</th>\n",
       "      <td>슈퍼맨</td>\n",
       "      <td>슈퍼맨</td>\n",
       "      <td>슈퍼맨</td>\n",
       "      <td>슈퍼맨</td>\n",
       "      <td>슈퍼맨</td>\n",
       "      <td>슈퍼맨</td>\n",
       "      <td>슈퍼맨</td>\n",
       "    </tr>\n",
       "  </tbody>\n",
       "</table>\n",
       "</div>"
      ],
      "text/plain": [
       "   이름    국어   미술   수학   영어   체육   과학\n",
       "0  손예림   98  100   82   97   90   10\n",
       "1  명노아   95   82   76   84   80   10\n",
       "2  변희진   96   98   94   76   95   10\n",
       "3  이윤서  100   79   97  100   94   10\n",
       "4  슈퍼맨  슈퍼맨  슈퍼맨  슈퍼맨  슈퍼맨  슈퍼맨  슈퍼맨"
      ]
     },
     "execution_count": 28,
     "metadata": {},
     "output_type": "execute_result"
    }
   ],
   "source": [
    "examDF"
   ]
  },
  {
   "cell_type": "code",
   "execution_count": null,
   "id": "dead3b78-e13d-40e3-9ac6-2c7a8620a73b",
   "metadata": {},
   "outputs": [],
   "source": []
  }
 ],
 "metadata": {
  "kernelspec": {
   "display_name": "Python 3 (ipykernel)",
   "language": "python",
   "name": "python3"
  },
  "language_info": {
   "codemirror_mode": {
    "name": "ipython",
    "version": 3
   },
   "file_extension": ".py",
   "mimetype": "text/x-python",
   "name": "python",
   "nbconvert_exporter": "python",
   "pygments_lexer": "ipython3",
   "version": "3.8.18"
  }
 },
 "nbformat": 4,
 "nbformat_minor": 5
}
