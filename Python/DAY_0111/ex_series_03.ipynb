{
 "cells": [
  {
   "cell_type": "markdown",
   "id": "8480aca8-2837-4b45-a219-c52b127630c8",
   "metadata": {},
   "source": [
    "### [Series 객체 원소 인덱싱 & 슬라이싱]"
   ]
  },
  {
   "cell_type": "markdown",
   "id": "998490dd-da63-4034-ac83-af2625a30463",
   "metadata": {},
   "source": [
    "(1) 모듈 로딩 ----------------------------------------------------"
   ]
  },
  {
   "cell_type": "code",
   "execution_count": 2,
   "id": "3ce7670b-9ac0-4334-a09d-a57088ec2c58",
   "metadata": {},
   "outputs": [],
   "source": [
    "from pandas import Series"
   ]
  },
  {
   "cell_type": "markdown",
   "id": "fdd412db-3e59-4ab8-8694-b28860efad1e",
   "metadata": {},
   "source": [
    "(2) 데이터 준비 ---------------------------------------------"
   ]
  },
  {
   "cell_type": "code",
   "execution_count": 10,
   "id": "7e8d30d7-d51e-466c-b73c-21e68684b3be",
   "metadata": {},
   "outputs": [
    {
     "data": {
      "text/plain": [
       "name    홍길동\n",
       "age      12\n",
       "job      도적\n",
       "dtype: object"
      ]
     },
     "execution_count": 10,
     "metadata": {},
     "output_type": "execute_result"
    }
   ],
   "source": [
    "data = {'name' : '홍길동' , 'age' : 12, 'job' : '도적'}\n",
    "sr1=Series(data)\n",
    "sr1"
   ]
  },
  {
   "cell_type": "markdown",
   "id": "d3b5d948-3f6f-4f8f-ba61-a5bfcced3758",
   "metadata": {},
   "source": [
    "(3) 인덱싱으로 원소 읽기 ---------------------------------------"
   ]
  },
  {
   "cell_type": "code",
   "execution_count": 11,
   "id": "771b885d-655c-43a9-b0ad-602cdedad7a3",
   "metadata": {},
   "outputs": [
    {
     "data": {
      "text/plain": [
       "(12, 12, Index(['name', 'age', 'job'], dtype='object'))"
      ]
     },
     "execution_count": 11,
     "metadata": {},
     "output_type": "execute_result"
    }
   ],
   "source": [
    "sr1['age'], sr1[1],sr1.index"
   ]
  },
  {
   "cell_type": "markdown",
   "id": "0e50d48e-4c35-4ee0-9249-93944a9b6654",
   "metadata": {},
   "source": [
    "=> 2개 원소 읽기"
   ]
  },
  {
   "cell_type": "code",
   "execution_count": 14,
   "id": "5eee50da-ce25-46ef-bd3a-3b3e4f74f1aa",
   "metadata": {},
   "outputs": [
    {
     "data": {
      "text/plain": [
       "('홍길동', '도적', '홍길동', '도적', str)"
      ]
     },
     "execution_count": 14,
     "metadata": {},
     "output_type": "execute_result"
    }
   ],
   "source": [
    "# 이름과 직업 데이터 읽기\n",
    "sr1['name'],sr1['job'],sr1[0],sr1[2], type(sr1[0])"
   ]
  },
  {
   "cell_type": "code",
   "execution_count": 19,
   "id": "2f90c500-aad3-48ab-bd18-90e11d0b040e",
   "metadata": {},
   "outputs": [
    {
     "data": {
      "text/plain": [
       "(pandas.core.series.Series,\n",
       " name    홍길동\n",
       " job      도적\n",
       " dtype: object)"
      ]
     },
     "execution_count": 19,
     "metadata": {},
     "output_type": "execute_result"
    }
   ],
   "source": [
    "# 이름과 직업 데이터 읽기 ==> 리스트 단위로 읽기\n",
    "ret=sr1[['name', 'job']]\n",
    "ret2=sr1[[0, 2]]\n",
    "type(ret), ret\n",
    "type(ret2), ret2"
   ]
  },
  {
   "cell_type": "markdown",
   "id": "1edf2561-617f-44a5-ab2c-ba9d21c620d0",
   "metadata": {},
   "source": [
    "(4) 슬라이싱으로 원소 읽기 -----------------------------------------------"
   ]
  },
  {
   "cell_type": "code",
   "execution_count": 20,
   "id": "7e61cc8a-b445-4840-8c91-4bee46a75fdb",
   "metadata": {},
   "outputs": [
    {
     "data": {
      "text/plain": [
       "name    홍길동\n",
       "age      12\n",
       "dtype: object"
      ]
     },
     "execution_count": 20,
     "metadata": {},
     "output_type": "execute_result"
    }
   ],
   "source": [
    "# 위치 인덱스로 슬라이싱 ------------------------------------------\n",
    "sr1[:2]         #시작 <= ~ < 끝"
   ]
  },
  {
   "cell_type": "code",
   "execution_count": 21,
   "id": "2ee5b890-c9e8-4a00-8ecd-db436689fa4c",
   "metadata": {},
   "outputs": [
    {
     "data": {
      "text/plain": [
       "name    홍길동\n",
       "age      12\n",
       "job      도적\n",
       "dtype: object"
      ]
     },
     "execution_count": 21,
     "metadata": {},
     "output_type": "execute_result"
    }
   ],
   "source": [
    "sr1[:]"
   ]
  },
  {
   "cell_type": "code",
   "execution_count": 22,
   "id": "a45b1235-200d-41cd-a078-b646928f05ca",
   "metadata": {},
   "outputs": [
    {
     "data": {
      "text/plain": [
       "name    홍길동\n",
       "age      12\n",
       "job      도적\n",
       "dtype: object"
      ]
     },
     "execution_count": 22,
     "metadata": {},
     "output_type": "execute_result"
    }
   ],
   "source": [
    "# 레이블 인덱스로 슬라이싱 -------------------------------------------------\n",
    "sr1['name':'job']     #시작<= ~ <=끝 == sr1[:2]"
   ]
  },
  {
   "cell_type": "code",
   "execution_count": null,
   "id": "ce4bc3db-5f85-4b20-a49c-699c1a1580fe",
   "metadata": {},
   "outputs": [],
   "source": []
  }
 ],
 "metadata": {
  "kernelspec": {
   "display_name": "Python 3 (ipykernel)",
   "language": "python",
   "name": "python3"
  },
  "language_info": {
   "codemirror_mode": {
    "name": "ipython",
    "version": 3
   },
   "file_extension": ".py",
   "mimetype": "text/x-python",
   "name": "python",
   "nbconvert_exporter": "python",
   "pygments_lexer": "ipython3",
   "version": "3.8.18"
  }
 },
 "nbformat": 4,
 "nbformat_minor": 5
}
