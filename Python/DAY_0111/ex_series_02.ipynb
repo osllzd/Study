{
 "cells": [
  {
   "cell_type": "markdown",
   "id": "3a47f8b2-9cab-4232-81c3-8a9ffa915c63",
   "metadata": {},
   "source": [
    "[ 다양한 series 객체 생성 ]"
   ]
  },
  {
   "cell_type": "markdown",
   "id": "b1c0d674-1705-4aa6-b7da-8b75dee8eb30",
   "metadata": {},
   "source": [
    "(1) 모듈 로딩"
   ]
  },
  {
   "cell_type": "code",
   "execution_count": 1,
   "id": "f51ae0bc-840e-487e-b9c6-e4416e034649",
   "metadata": {},
   "outputs": [],
   "source": [
    "import pandas as pd"
   ]
  },
  {
   "cell_type": "markdown",
   "id": "cf6e808d-65f1-4dc5-99f5-1759e6bc8395",
   "metadata": {},
   "source": [
    "(2) Series 객체 생성 - 방법 1\n",
    "    * Series(data, index =지정)"
   ]
  },
  {
   "cell_type": "code",
   "execution_count": 3,
   "id": "03dadf7c-245b-4917-928a-3ac84be4cfed",
   "metadata": {},
   "outputs": [
    {
     "data": {
      "text/plain": [
       "one      11\n",
       "two      22\n",
       "three    33\n",
       "dtype: int64"
      ]
     },
     "execution_count": 3,
     "metadata": {},
     "output_type": "execute_result"
    }
   ],
   "source": [
    "sr1=pd.Series([11,22,33], index = ['one', 'two', 'three'] )\n",
    "sr1"
   ]
  },
  {
   "cell_type": "markdown",
   "id": "20893f6f-568f-45f7-9665-c86c82de7cbe",
   "metadata": {},
   "source": [
    "(2) Series 객체 생성 - 방법2"
   ]
  },
  {
   "cell_type": "code",
   "execution_count": 4,
   "id": "1c73ae1e-3c5e-4bcc-a8de-f2f09f7e6142",
   "metadata": {},
   "outputs": [
    {
     "data": {
      "text/plain": [
       "one      11\n",
       "two      22\n",
       "three    33\n",
       "Name: jumsu, dtype: int64"
      ]
     },
     "execution_count": 4,
     "metadata": {},
     "output_type": "execute_result"
    }
   ],
   "source": [
    "sr1=pd.Series([11,22,33], index = ['one', 'two', 'three'],name='jumsu' )\n",
    "sr1"
   ]
  },
  {
   "cell_type": "markdown",
   "id": "52c26936-703c-4541-af33-b9f564655f91",
   "metadata": {},
   "source": [
    "(2) Series 객체 생성 - 방법3"
   ]
  },
  {
   "cell_type": "code",
   "execution_count": 8,
   "id": "a210fdff-ce85-4a3a-be7f-d2201a4a58e3",
   "metadata": {},
   "outputs": [
    {
     "data": {
      "text/plain": [
       "one      11\n",
       "two      22\n",
       "three    33\n",
       "Name: jumsu, dtype: uint8"
      ]
     },
     "execution_count": 8,
     "metadata": {},
     "output_type": "execute_result"
    }
   ],
   "source": [
    "sr1=pd.Series([11,22,33],index=['one','two','three'],name='jumsu',dtype='uint8')\n",
    "sr1"
   ]
  },
  {
   "cell_type": "markdown",
   "id": "b5539d3e-8088-4e55-85e7-b844bfbe487b",
   "metadata": {},
   "source": [
    "(2) Series 객체 생성 - 방법4 => 저장되는 데이터 dict"
   ]
  },
  {
   "cell_type": "code",
   "execution_count": 9,
   "id": "2a1f3647-4d92-4079-8a33-f9567b089a4e",
   "metadata": {},
   "outputs": [
    {
     "data": {
      "text/plain": [
       "name    홍길동\n",
       "age      12\n",
       "job      도적\n",
       "dtype: object"
      ]
     },
     "execution_count": 9,
     "metadata": {},
     "output_type": "execute_result"
    }
   ],
   "source": [
    "data = {'name' : '홍길동' , 'age' : 12, 'job' : '도적'}\n",
    "\n",
    "sr1=pd.Series(data)\n",
    "sr1"
   ]
  },
  {
   "cell_type": "code",
   "execution_count": 11,
   "id": "19b36e5a-37aa-433a-b7b6-4cc83a1fdbcd",
   "metadata": {},
   "outputs": [
    {
     "name": "stdout",
     "output_type": "stream",
     "text": [
      "Index(['name', 'age', 'job'], dtype='object')/n['홍길동' 12 '도적']\n"
     ]
    }
   ],
   "source": [
    "# 속성 확인하기\n",
    "print(sr1.index , sr1.values, sep='/n')"
   ]
  },
  {
   "cell_type": "markdown",
   "id": "7ac270ce-f1bf-457c-9512-f84fd8935744",
   "metadata": {},
   "source": [
    "2) Series 객체 생성 - 방법5 => 저장되는 데이터 set"
   ]
  },
  {
   "cell_type": "code",
   "execution_count": 14,
   "id": "97773d95-0a88-4b8a-b1c7-49af1753f363",
   "metadata": {},
   "outputs": [
    {
     "data": {
      "text/plain": [
       "0    홍길동\n",
       "1     12\n",
       "2     도적\n",
       "dtype: object"
      ]
     },
     "execution_count": 14,
     "metadata": {},
     "output_type": "execute_result"
    }
   ],
   "source": [
    "data={'홍길동', 12, '도적'} # 순서없는 데이터, 중복 불허\n",
    "\n",
    "# 형변환 후 객체 생성 가능\n",
    "sr1=pd.Series(list(data), index=[1,2,3])\n",
    "sr1"
   ]
  },
  {
   "cell_type": "code",
   "execution_count": null,
   "id": "ef8ebee5-b68b-4220-bcf4-378595a35631",
   "metadata": {},
   "outputs": [],
   "source": []
  }
 ],
 "metadata": {
  "kernelspec": {
   "display_name": "Python 3 (ipykernel)",
   "language": "python",
   "name": "python3"
  },
  "language_info": {
   "codemirror_mode": {
    "name": "ipython",
    "version": 3
   },
   "file_extension": ".py",
   "mimetype": "text/x-python",
   "name": "python",
   "nbconvert_exporter": "python",
   "pygments_lexer": "ipython3",
   "version": "3.8.18"
  }
 },
 "nbformat": 4,
 "nbformat_minor": 5
}
