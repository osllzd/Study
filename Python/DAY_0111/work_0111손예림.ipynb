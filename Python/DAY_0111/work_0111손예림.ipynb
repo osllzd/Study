{
 "cells": [
  {
   "cell_type": "markdown",
   "id": "08b4fa92-2937-4b97-bbc2-9f0fbcd81da2",
   "metadata": {},
   "source": [
    "### 코딩 챌린지"
   ]
  },
  {
   "cell_type": "code",
   "execution_count": 3,
   "id": "d09eafa6-d086-41d8-b3df-ca9f222265c1",
   "metadata": {},
   "outputs": [],
   "source": [
    "import pandas as pd\n",
    "import numpy as np"
   ]
  },
  {
   "cell_type": "code",
   "execution_count": 4,
   "id": "cd63a234-9c67-4858-abff-95161b5bdeda",
   "metadata": {},
   "outputs": [],
   "source": [
    "superheroes=[\"Batman\", \"Superman\", \"Spider-man\", \"Ironman\", \"Captain America\",\"Wonder woman\"]"
   ]
  },
  {
   "cell_type": "code",
   "execution_count": 5,
   "id": "2de77f67-5393-4965-aa89-607813f4802a",
   "metadata": {},
   "outputs": [],
   "source": [
    "strength_levels=(100,200,90,95,110,120)"
   ]
  },
  {
   "cell_type": "markdown",
   "id": "82250a78-fbda-43e7-a7ef-add878a0fb01",
   "metadata": {},
   "source": [
    "문제 1. 슈퍼히어로 리스트를 사용하여 새 Series의 객체 값 채우기"
   ]
  },
  {
   "cell_type": "code",
   "execution_count": 6,
   "id": "28815b94-1fde-4ba6-b8ac-42357342fc33",
   "metadata": {},
   "outputs": [
    {
     "data": {
      "text/plain": [
       "0             Batman\n",
       "1           Superman\n",
       "2         Spider-man\n",
       "3            Ironman\n",
       "4    Captain America\n",
       "5       Wonder woman\n",
       "dtype: object"
      ]
     },
     "execution_count": 6,
     "metadata": {},
     "output_type": "execute_result"
    }
   ],
   "source": [
    "pd.Series(superheroes)"
   ]
  },
  {
   "cell_type": "markdown",
   "id": "8d76a0e4-22f3-4331-8107-198086cfd93b",
   "metadata": {},
   "source": [
    "문제 2. 능력치 튜플을 사용하여 새Series의 객체 값 채우기"
   ]
  },
  {
   "cell_type": "code",
   "execution_count": 7,
   "id": "535ce07a-7207-426c-a1a0-fe51566f0898",
   "metadata": {},
   "outputs": [
    {
     "data": {
      "text/plain": [
       "0    100\n",
       "1    200\n",
       "2     90\n",
       "3     95\n",
       "4    110\n",
       "5    120\n",
       "dtype: int64"
      ]
     },
     "execution_count": 7,
     "metadata": {},
     "output_type": "execute_result"
    }
   ],
   "source": [
    "pd.Series(data=strength_levels)"
   ]
  },
  {
   "cell_type": "markdown",
   "id": "727ef391-52c0-429f-900e-cbbab91e6b65",
   "metadata": {},
   "source": [
    "문제 3. superheroes를 인덱스 레이블로 사용 strength_levels를 값으로 사용하여 Series생선"
   ]
  },
  {
   "cell_type": "code",
   "execution_count": 8,
   "id": "8ff8f8ff-cffb-4508-aa0c-5b420944ef25",
   "metadata": {},
   "outputs": [
    {
     "data": {
      "text/plain": [
       "Batman             100\n",
       "Superman           200\n",
       "Spider-man          90\n",
       "Ironman             95\n",
       "Captain America    110\n",
       "Wonder woman       120\n",
       "dtype: int64"
      ]
     },
     "execution_count": 8,
     "metadata": {},
     "output_type": "execute_result"
    }
   ],
   "source": [
    "heroes=pd.Series(data=strength_levels,index=superheroes)\n",
    "heroes"
   ]
  },
  {
   "cell_type": "markdown",
   "id": "258cf591-6d49-408d-82ae-d8fc8f1bcedd",
   "metadata": {},
   "source": [
    "문제 4. heroes Series의 처음 2개 행을 추출하세요"
   ]
  },
  {
   "cell_type": "code",
   "execution_count": 9,
   "id": "40df95b0-62d9-4c51-a242-001fc8392516",
   "metadata": {},
   "outputs": [
    {
     "data": {
      "text/plain": [
       "Batman      100\n",
       "Superman    200\n",
       "dtype: int64"
      ]
     },
     "execution_count": 9,
     "metadata": {},
     "output_type": "execute_result"
    }
   ],
   "source": [
    "heroes.head(2)"
   ]
  },
  {
   "cell_type": "markdown",
   "id": "d6d53439-9b37-486a-955b-4691da026284",
   "metadata": {},
   "source": [
    "문제 5. heroes Series의 마지막 4개 행을 추출하세요"
   ]
  },
  {
   "cell_type": "code",
   "execution_count": 10,
   "id": "2c299820-3a63-4765-bb74-eb6221155b89",
   "metadata": {},
   "outputs": [
    {
     "data": {
      "text/plain": [
       "Spider-man          90\n",
       "Ironman             95\n",
       "Captain America    110\n",
       "Wonder woman       120\n",
       "dtype: int64"
      ]
     },
     "execution_count": 10,
     "metadata": {},
     "output_type": "execute_result"
    }
   ],
   "source": [
    "heroes.tail(4)"
   ]
  },
  {
   "cell_type": "markdown",
   "id": "76d127db-2647-4db8-b0dc-9d34808e7ad0",
   "metadata": {},
   "source": [
    "문제 6. heroes Series에 있는 고유한 값의 개수를 구하세요\n"
   ]
  },
  {
   "cell_type": "code",
   "execution_count": 11,
   "id": "1ee4cd21-0ddb-4076-8c2b-5676a9d40f65",
   "metadata": {},
   "outputs": [
    {
     "data": {
      "text/plain": [
       "6"
      ]
     },
     "execution_count": 11,
     "metadata": {},
     "output_type": "execute_result"
    }
   ],
   "source": [
    "heroes.nunique()"
   ]
  },
  {
   "cell_type": "markdown",
   "id": "1d820dec-211d-450c-aff1-b2bee4659d0d",
   "metadata": {},
   "source": [
    "문제 7. heroes에 있는 슈퍼 히어로의 평균 능력치를 구하세요"
   ]
  },
  {
   "cell_type": "code",
   "execution_count": 12,
   "id": "50ac49a0-e7dd-44b9-b378-68bab49eec16",
   "metadata": {},
   "outputs": [
    {
     "data": {
      "text/plain": [
       "119.16666666666667"
      ]
     },
     "execution_count": 12,
     "metadata": {},
     "output_type": "execute_result"
    }
   ],
   "source": [
    "heroes.mean()"
   ]
  },
  {
   "cell_type": "markdown",
   "id": "d51b0fe5-bbdc-410b-937e-02b6b2a88d8a",
   "metadata": {},
   "source": [
    "문제 8. heroes의 최대 및 최소 능력치를 구하세요"
   ]
  },
  {
   "cell_type": "code",
   "execution_count": 13,
   "id": "ccc583d6-d92d-4b75-b5e6-2316b0632e61",
   "metadata": {},
   "outputs": [
    {
     "data": {
      "text/plain": [
       "200"
      ]
     },
     "execution_count": 13,
     "metadata": {},
     "output_type": "execute_result"
    }
   ],
   "source": [
    "# 최대 능력치\n",
    "heroes.max()"
   ]
  },
  {
   "cell_type": "code",
   "execution_count": 14,
   "id": "2637f374-c1de-4b79-bbe2-2258b33be040",
   "metadata": {},
   "outputs": [
    {
     "data": {
      "text/plain": [
       "90"
      ]
     },
     "execution_count": 14,
     "metadata": {},
     "output_type": "execute_result"
    }
   ],
   "source": [
    "#최소 능력치\n",
    "heroes.min()"
   ]
  },
  {
   "cell_type": "markdown",
   "id": "f66cccf5-d583-4b35-af33-5f82731a4fcf",
   "metadata": {},
   "source": [
    "문제 9. 능력치가 2배가 되면 각 슈퍼 히어로의 능력치는 얼마인지 구하시오"
   ]
  },
  {
   "cell_type": "code",
   "execution_count": 16,
   "id": "c18c043f-a749-4e71-9433-bc72181251ae",
   "metadata": {},
   "outputs": [
    {
     "data": {
      "text/plain": [
       "Batman             200\n",
       "Superman           400\n",
       "Spider-man         180\n",
       "Ironman            190\n",
       "Captain America    220\n",
       "Wonder woman       240\n",
       "dtype: int64"
      ]
     },
     "execution_count": 16,
     "metadata": {},
     "output_type": "execute_result"
    }
   ],
   "source": [
    "heroes * 2"
   ]
  },
  {
   "cell_type": "markdown",
   "id": "b7e5e3fc-72d2-431e-b9cd-0c374730404b",
   "metadata": {},
   "source": [
    "문제 10. heroes Seires를 파이썬 딕셔너리로 변환하세요"
   ]
  },
  {
   "cell_type": "code",
   "execution_count": 17,
   "id": "aa79e232-e341-404c-a4dd-fad05555166c",
   "metadata": {},
   "outputs": [
    {
     "data": {
      "text/plain": [
       "{'Batman': 100,\n",
       " 'Superman': 200,\n",
       " 'Spider-man': 90,\n",
       " 'Ironman': 95,\n",
       " 'Captain America': 110,\n",
       " 'Wonder woman': 120}"
      ]
     },
     "execution_count": 17,
     "metadata": {},
     "output_type": "execute_result"
    }
   ],
   "source": [
    "dict(heroes)"
   ]
  },
  {
   "cell_type": "code",
   "execution_count": null,
   "id": "9e7b7ebf-79dc-4f0d-957f-deb55aa40b6e",
   "metadata": {},
   "outputs": [],
   "source": []
  }
 ],
 "metadata": {
  "kernelspec": {
   "display_name": "Python 3 (ipykernel)",
   "language": "python",
   "name": "python3"
  },
  "language_info": {
   "codemirror_mode": {
    "name": "ipython",
    "version": 3
   },
   "file_extension": ".py",
   "mimetype": "text/x-python",
   "name": "python",
   "nbconvert_exporter": "python",
   "pygments_lexer": "ipython3",
   "version": "3.8.18"
  }
 },
 "nbformat": 4,
 "nbformat_minor": 5
}
