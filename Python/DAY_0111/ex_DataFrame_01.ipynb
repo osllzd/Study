{
 "cells": [
  {
   "cell_type": "markdown",
   "id": "3d823d04-04c3-4885-b0e5-eb8a099aed18",
   "metadata": {},
   "source": [
    "# [DataFrame 살펴보기 ]\n",
    "* 데이터를 테이블 즉, 표 형태로 저장하는 자료구조\n",
    "* 구성: 행 + 열\n",
    "* 생성: pandas.DataFrame()생성자 메서드"
   ]
  },
  {
   "cell_type": "markdown",
   "id": "ea434e0e-aaad-4bfa-91a7-01b2d518e6c2",
   "metadata": {},
   "source": [
    "(1) 모듈로딩-----------------------------------------------"
   ]
  },
  {
   "cell_type": "code",
   "execution_count": 68,
   "id": "a92a2a7f-e747-4da0-bb60-872dae67f5f5",
   "metadata": {},
   "outputs": [],
   "source": [
    "from pandas import DataFrame"
   ]
  },
  {
   "cell_type": "markdown",
   "id": "69771d64-4eee-4eea-b6bd-5006bd54e7cc",
   "metadata": {},
   "source": [
    "(2)데이터 준비 ----------------------------------------"
   ]
  },
  {
   "cell_type": "code",
   "execution_count": 69,
   "id": "e200929e-83c9-472a-a310-528062aaf9a1",
   "metadata": {},
   "outputs": [],
   "source": [
    "data=[ [11,22,33],[44,55,66],[77,88,99] ]"
   ]
  },
  {
   "cell_type": "markdown",
   "id": "52fc18be-1204-427c-a117-dab44c512c09",
   "metadata": {},
   "source": [
    "(3) Dataframe으로 저장 즉 DataFrame 객체 생성 ------------------"
   ]
  },
  {
   "cell_type": "code",
   "execution_count": 70,
   "id": "397d162b-81b2-4942-9062-9b1c35c60249",
   "metadata": {},
   "outputs": [
    {
     "data": {
      "text/html": [
       "<div>\n",
       "<style scoped>\n",
       "    .dataframe tbody tr th:only-of-type {\n",
       "        vertical-align: middle;\n",
       "    }\n",
       "\n",
       "    .dataframe tbody tr th {\n",
       "        vertical-align: top;\n",
       "    }\n",
       "\n",
       "    .dataframe thead th {\n",
       "        text-align: right;\n",
       "    }\n",
       "</style>\n",
       "<table border=\"1\" class=\"dataframe\">\n",
       "  <thead>\n",
       "    <tr style=\"text-align: right;\">\n",
       "      <th></th>\n",
       "      <th>0</th>\n",
       "      <th>1</th>\n",
       "      <th>2</th>\n",
       "    </tr>\n",
       "  </thead>\n",
       "  <tbody>\n",
       "    <tr>\n",
       "      <th>0</th>\n",
       "      <td>11</td>\n",
       "      <td>22</td>\n",
       "      <td>33</td>\n",
       "    </tr>\n",
       "    <tr>\n",
       "      <th>1</th>\n",
       "      <td>44</td>\n",
       "      <td>55</td>\n",
       "      <td>66</td>\n",
       "    </tr>\n",
       "    <tr>\n",
       "      <th>2</th>\n",
       "      <td>77</td>\n",
       "      <td>88</td>\n",
       "      <td>99</td>\n",
       "    </tr>\n",
       "  </tbody>\n",
       "</table>\n",
       "</div>"
      ],
      "text/plain": [
       "    0   1   2\n",
       "0  11  22  33\n",
       "1  44  55  66\n",
       "2  77  88  99"
      ]
     },
     "execution_count": 70,
     "metadata": {},
     "output_type": "execute_result"
    }
   ],
   "source": [
    "df1 = DataFrame(data)\n",
    "df1"
   ]
  },
  {
   "cell_type": "markdown",
   "id": "b90df600-0ad9-49e0-b78e-89b98f7d1bad",
   "metadata": {},
   "source": [
    "(4) DataFrame의 속성 읽기 => 객체변수명, 속성명 ----------------"
   ]
  },
  {
   "cell_type": "code",
   "execution_count": 71,
   "id": "06d9b804-9896-439b-a355-92058a88fc98",
   "metadata": {},
   "outputs": [
    {
     "data": {
      "text/plain": [
       "RangeIndex(start=0, stop=3, step=1)"
      ]
     },
     "execution_count": 71,
     "metadata": {},
     "output_type": "execute_result"
    }
   ],
   "source": [
    "df1.index"
   ]
  },
  {
   "cell_type": "code",
   "execution_count": 72,
   "id": "7106c142-1a71-43c0-8495-1f0cf67f399a",
   "metadata": {},
   "outputs": [
    {
     "data": {
      "text/plain": [
       "RangeIndex(start=0, stop=3, step=1)"
      ]
     },
     "execution_count": 72,
     "metadata": {},
     "output_type": "execute_result"
    }
   ],
   "source": [
    "df1.columns"
   ]
  },
  {
   "cell_type": "code",
   "execution_count": 73,
   "id": "f360a21e-d289-4fbc-abde-b3b7b09114d6",
   "metadata": {},
   "outputs": [
    {
     "data": {
      "text/plain": [
       "array([[11, 22, 33],\n",
       "       [44, 55, 66],\n",
       "       [77, 88, 99]], dtype=int64)"
      ]
     },
     "execution_count": 73,
     "metadata": {},
     "output_type": "execute_result"
    }
   ],
   "source": [
    "df1.values"
   ]
  },
  {
   "cell_type": "code",
   "execution_count": 74,
   "id": "ea08ed4e-8860-49f1-8319-fe069e05dad9",
   "metadata": {},
   "outputs": [
    {
     "data": {
      "text/plain": [
       "(3, 3)"
      ]
     },
     "execution_count": 74,
     "metadata": {},
     "output_type": "execute_result"
    }
   ],
   "source": [
    "df1.shape"
   ]
  },
  {
   "cell_type": "code",
   "execution_count": 75,
   "id": "71457b98-e3e7-464d-84ee-7e70a9b49ed9",
   "metadata": {},
   "outputs": [
    {
     "data": {
      "text/plain": [
       "2"
      ]
     },
     "execution_count": 75,
     "metadata": {},
     "output_type": "execute_result"
    }
   ],
   "source": [
    "df1.ndim #데이터의 차원정보"
   ]
  },
  {
   "cell_type": "code",
   "execution_count": 76,
   "id": "4bd2e354-baef-4533-95d5-446c04573cd7",
   "metadata": {},
   "outputs": [
    {
     "data": {
      "text/plain": [
       "0    int64\n",
       "1    int64\n",
       "2    int64\n",
       "dtype: object"
      ]
     },
     "execution_count": 76,
     "metadata": {},
     "output_type": "execute_result"
    }
   ],
   "source": [
    "#컬럼별 데이터 타입\n",
    "df1.dtypes"
   ]
  },
  {
   "cell_type": "markdown",
   "id": "9c643fb8-0d60-424b-80b4-c828c2479d52",
   "metadata": {},
   "source": [
    "(5) 원소 읽기 ==> 행과 열 지정 1개 원소"
   ]
  },
  {
   "cell_type": "markdown",
   "id": "143f878d-eb82-43c5-89e9-d59f18cf9ef2",
   "metadata": {},
   "source": [
    "- 컬럼 즉 열 (column) 읽기 ==> 객체변수명[인덱스]"
   ]
  },
  {
   "cell_type": "code",
   "execution_count": 77,
   "id": "c5d24e46-3304-4f03-9f7f-de5379e6956b",
   "metadata": {},
   "outputs": [
    {
     "data": {
      "text/plain": [
       "0    11\n",
       "1    44\n",
       "2    77\n",
       "Name: 0, dtype: int64"
      ]
     },
     "execution_count": 77,
     "metadata": {},
     "output_type": "execute_result"
    }
   ],
   "source": [
    "df1[0]"
   ]
  },
  {
   "cell_type": "code",
   "execution_count": 78,
   "id": "41b31e8f-9ffa-4ad3-8a1a-46af3c10d6c4",
   "metadata": {},
   "outputs": [
    {
     "data": {
      "text/html": [
       "<div>\n",
       "<style scoped>\n",
       "    .dataframe tbody tr th:only-of-type {\n",
       "        vertical-align: middle;\n",
       "    }\n",
       "\n",
       "    .dataframe tbody tr th {\n",
       "        vertical-align: top;\n",
       "    }\n",
       "\n",
       "    .dataframe thead th {\n",
       "        text-align: right;\n",
       "    }\n",
       "</style>\n",
       "<table border=\"1\" class=\"dataframe\">\n",
       "  <thead>\n",
       "    <tr style=\"text-align: right;\">\n",
       "      <th></th>\n",
       "      <th>A</th>\n",
       "      <th>B</th>\n",
       "      <th>C</th>\n",
       "    </tr>\n",
       "  </thead>\n",
       "  <tbody>\n",
       "    <tr>\n",
       "      <th>0</th>\n",
       "      <td>11</td>\n",
       "      <td>22</td>\n",
       "      <td>33</td>\n",
       "    </tr>\n",
       "    <tr>\n",
       "      <th>1</th>\n",
       "      <td>44</td>\n",
       "      <td>55</td>\n",
       "      <td>66</td>\n",
       "    </tr>\n",
       "    <tr>\n",
       "      <th>2</th>\n",
       "      <td>77</td>\n",
       "      <td>88</td>\n",
       "      <td>99</td>\n",
       "    </tr>\n",
       "  </tbody>\n",
       "</table>\n",
       "</div>"
      ],
      "text/plain": [
       "    A   B   C\n",
       "0  11  22  33\n",
       "1  44  55  66\n",
       "2  77  88  99"
      ]
     },
     "execution_count": 78,
     "metadata": {},
     "output_type": "execute_result"
    }
   ],
   "source": [
    "## 컬럼변경 ======================================\n",
    "df1.columns=['A', 'B', 'C']\n",
    "df1"
   ]
  },
  {
   "cell_type": "code",
   "execution_count": 79,
   "id": "de2f108b-5edf-4b9e-9fe2-a0fa342e8c7f",
   "metadata": {},
   "outputs": [
    {
     "data": {
      "text/plain": [
       "0    11\n",
       "1    44\n",
       "2    77\n",
       "Name: A, dtype: int64"
      ]
     },
     "execution_count": 79,
     "metadata": {},
     "output_type": "execute_result"
    }
   ],
   "source": [
    "df1['A']"
   ]
  },
  {
   "cell_type": "code",
   "execution_count": 80,
   "id": "4dfbf225-fc94-4d0c-9b1f-74f99dcbc94a",
   "metadata": {},
   "outputs": [
    {
     "data": {
      "text/plain": [
       "0    11\n",
       "1    44\n",
       "2    77\n",
       "Name: A, dtype: int64"
      ]
     },
     "execution_count": 80,
     "metadata": {},
     "output_type": "execute_result"
    }
   ],
   "source": [
    "df1.A"
   ]
  },
  {
   "cell_type": "code",
   "execution_count": 81,
   "id": "040c618f-8728-4886-bc5c-8c0dd3fe0ed4",
   "metadata": {},
   "outputs": [],
   "source": [
    "# df1.0 => 컬럼 레이블 설정 후 정수 인덱싱 불가"
   ]
  },
  {
   "cell_type": "markdown",
   "id": "40d32633-0323-4087-960c-e6b8bc42aecf",
   "metadata": {},
   "source": [
    "-로우 즉 행(row) 읽기 ==> 방법 2가지\n",
    "      * 위치 인덱스로 읽기: 객체변수명.iloc[인덱스]\n",
    "      * 레이블 인덱스로 읽기: 객체변수명.loc[인덱스]"
   ]
  },
  {
   "cell_type": "code",
   "execution_count": 82,
   "id": "7891d05f-2aee-4be6-baa8-e932ef43fd64",
   "metadata": {},
   "outputs": [],
   "source": [
    "df1.index=['one' , 'two','three']"
   ]
  },
  {
   "cell_type": "code",
   "execution_count": 83,
   "id": "8b47a6b3-57b2-4bbb-85c7-74a1c6af1d4c",
   "metadata": {},
   "outputs": [
    {
     "data": {
      "text/html": [
       "<div>\n",
       "<style scoped>\n",
       "    .dataframe tbody tr th:only-of-type {\n",
       "        vertical-align: middle;\n",
       "    }\n",
       "\n",
       "    .dataframe tbody tr th {\n",
       "        vertical-align: top;\n",
       "    }\n",
       "\n",
       "    .dataframe thead th {\n",
       "        text-align: right;\n",
       "    }\n",
       "</style>\n",
       "<table border=\"1\" class=\"dataframe\">\n",
       "  <thead>\n",
       "    <tr style=\"text-align: right;\">\n",
       "      <th></th>\n",
       "      <th>A</th>\n",
       "      <th>B</th>\n",
       "      <th>C</th>\n",
       "    </tr>\n",
       "  </thead>\n",
       "  <tbody>\n",
       "    <tr>\n",
       "      <th>one</th>\n",
       "      <td>11</td>\n",
       "      <td>22</td>\n",
       "      <td>33</td>\n",
       "    </tr>\n",
       "    <tr>\n",
       "      <th>two</th>\n",
       "      <td>44</td>\n",
       "      <td>55</td>\n",
       "      <td>66</td>\n",
       "    </tr>\n",
       "    <tr>\n",
       "      <th>three</th>\n",
       "      <td>77</td>\n",
       "      <td>88</td>\n",
       "      <td>99</td>\n",
       "    </tr>\n",
       "  </tbody>\n",
       "</table>\n",
       "</div>"
      ],
      "text/plain": [
       "        A   B   C\n",
       "one    11  22  33\n",
       "two    44  55  66\n",
       "three  77  88  99"
      ]
     },
     "execution_count": 83,
     "metadata": {},
     "output_type": "execute_result"
    }
   ],
   "source": [
    "df1"
   ]
  },
  {
   "cell_type": "code",
   "execution_count": 84,
   "id": "7df7d783-2a3e-4fae-9e3c-7d94b9cca31a",
   "metadata": {},
   "outputs": [
    {
     "data": {
      "text/plain": [
       "A    11\n",
       "B    22\n",
       "C    33\n",
       "Name: one, dtype: int64"
      ]
     },
     "execution_count": 84,
     "metadata": {},
     "output_type": "execute_result"
    }
   ],
   "source": [
    "df1.loc['one']"
   ]
  },
  {
   "cell_type": "code",
   "execution_count": 85,
   "id": "d94cede7-c25a-43d1-af48-cdea899749c4",
   "metadata": {},
   "outputs": [
    {
     "data": {
      "text/plain": [
       "A    11\n",
       "B    22\n",
       "C    33\n",
       "Name: one, dtype: int64"
      ]
     },
     "execution_count": 85,
     "metadata": {},
     "output_type": "execute_result"
    }
   ],
   "source": [
    "df1.iloc[0]"
   ]
  },
  {
   "cell_type": "markdown",
   "id": "4fd31e7a-e055-4f3b-80c7-8450ae85f4df",
   "metadata": {},
   "source": [
    "(6) 모든 원소를 한번에 한개씩만 출력"
   ]
  },
  {
   "cell_type": "code",
   "execution_count": 86,
   "id": "81184da6-3eb7-4403-b055-217cb8620d4e",
   "metadata": {},
   "outputs": [
    {
     "data": {
      "text/html": [
       "<div>\n",
       "<style scoped>\n",
       "    .dataframe tbody tr th:only-of-type {\n",
       "        vertical-align: middle;\n",
       "    }\n",
       "\n",
       "    .dataframe tbody tr th {\n",
       "        vertical-align: top;\n",
       "    }\n",
       "\n",
       "    .dataframe thead th {\n",
       "        text-align: right;\n",
       "    }\n",
       "</style>\n",
       "<table border=\"1\" class=\"dataframe\">\n",
       "  <thead>\n",
       "    <tr style=\"text-align: right;\">\n",
       "      <th></th>\n",
       "      <th>A</th>\n",
       "      <th>B</th>\n",
       "      <th>C</th>\n",
       "    </tr>\n",
       "  </thead>\n",
       "  <tbody>\n",
       "    <tr>\n",
       "      <th>one</th>\n",
       "      <td>11</td>\n",
       "      <td>22</td>\n",
       "      <td>33</td>\n",
       "    </tr>\n",
       "    <tr>\n",
       "      <th>two</th>\n",
       "      <td>44</td>\n",
       "      <td>55</td>\n",
       "      <td>66</td>\n",
       "    </tr>\n",
       "    <tr>\n",
       "      <th>three</th>\n",
       "      <td>77</td>\n",
       "      <td>88</td>\n",
       "      <td>99</td>\n",
       "    </tr>\n",
       "  </tbody>\n",
       "</table>\n",
       "</div>"
      ],
      "text/plain": [
       "        A   B   C\n",
       "one    11  22  33\n",
       "two    44  55  66\n",
       "three  77  88  99"
      ]
     },
     "execution_count": 86,
     "metadata": {},
     "output_type": "execute_result"
    }
   ],
   "source": [
    "df1"
   ]
  },
  {
   "cell_type": "code",
   "execution_count": 87,
   "id": "69655703-8491-4d14-b324-ac2bd08ad540",
   "metadata": {},
   "outputs": [
    {
     "name": "stdout",
     "output_type": "stream",
     "text": [
      "11\n",
      "22\n",
      "33\n",
      "44\n",
      "55\n",
      "66\n",
      "77\n",
      "88\n",
      "99\n"
     ]
    }
   ],
   "source": [
    "for i in df1.index:\n",
    "    for j in df1.columns:\n",
    "        print(df1.loc[i][j])"
   ]
  },
  {
   "cell_type": "markdown",
   "id": "4f4fa6a4-978a-4ca6-bc05-d56c3d8bdbc9",
   "metadata": {},
   "source": [
    "-객체변수명.iloc[행인덱스,열인덱스] "
   ]
  },
  {
   "cell_type": "code",
   "execution_count": 88,
   "id": "26e4f963-a36b-473f-ae0b-f59e8a77c251",
   "metadata": {},
   "outputs": [
    {
     "data": {
      "text/plain": [
       "(11, 33, 44, 66)"
      ]
     },
     "execution_count": 88,
     "metadata": {},
     "output_type": "execute_result"
    }
   ],
   "source": [
    "df1.iloc[0,0], df1.iloc[0,2], df1.iloc[1,0], df1.iloc[1,2]"
   ]
  },
  {
   "cell_type": "code",
   "execution_count": 89,
   "id": "ec40f48b-f738-4590-8ce6-45276ba535aa",
   "metadata": {},
   "outputs": [
    {
     "data": {
      "text/plain": [
       "(11, 22, 44, 55)"
      ]
     },
     "execution_count": 89,
     "metadata": {},
     "output_type": "execute_result"
    }
   ],
   "source": [
    "df1.loc['one','A'], df1.loc['one','B'], df1.loc['two','A'], df1.loc['two','B']"
   ]
  },
  {
   "cell_type": "code",
   "execution_count": 90,
   "id": "f82a756e-607b-4c64-b3ee-52faf7abf4ce",
   "metadata": {},
   "outputs": [
    {
     "data": {
      "text/plain": [
       "(22, 66)"
      ]
     },
     "execution_count": 90,
     "metadata": {},
     "output_type": "execute_result"
    }
   ],
   "source": [
    "df1.loc['one','B'],df1.loc['two','C']"
   ]
  },
  {
   "cell_type": "code",
   "execution_count": 91,
   "id": "bf496a28-196f-4e4f-b656-3011a6b88a30",
   "metadata": {},
   "outputs": [
    {
     "data": {
      "text/plain": [
       "22"
      ]
     },
     "execution_count": 91,
     "metadata": {},
     "output_type": "execute_result"
    }
   ],
   "source": [
    "df1.iloc[0,1]"
   ]
  },
  {
   "cell_type": "code",
   "execution_count": 92,
   "id": "af4a508d-f30b-401e-92a0-092326bfaa30",
   "metadata": {},
   "outputs": [
    {
     "data": {
      "text/plain": [
       "(22, 66)"
      ]
     },
     "execution_count": 92,
     "metadata": {},
     "output_type": "execute_result"
    }
   ],
   "source": [
    "df1.iloc[0][1], df1.iloc[1][2]"
   ]
  },
  {
   "cell_type": "code",
   "execution_count": 93,
   "id": "b70828ca-8ce5-4777-b9ab-a6643b9937ae",
   "metadata": {},
   "outputs": [
    {
     "data": {
      "text/plain": [
       "one      22\n",
       "two      55\n",
       "three    88\n",
       "Name: B, dtype: int64"
      ]
     },
     "execution_count": 93,
     "metadata": {},
     "output_type": "execute_result"
    }
   ],
   "source": [
    "b=df1['B']\n",
    "b"
   ]
  },
  {
   "cell_type": "code",
   "execution_count": 94,
   "id": "da0f8c44-4e81-45f2-ad66-a4fa8873df0e",
   "metadata": {},
   "outputs": [
    {
     "data": {
      "text/plain": [
       "(Index(['one', 'two', 'three'], dtype='object'),\n",
       " Index(['A', 'B', 'C'], dtype='object'))"
      ]
     },
     "execution_count": 94,
     "metadata": {},
     "output_type": "execute_result"
    }
   ],
   "source": [
    "df1.index, df1.columns"
   ]
  },
  {
   "cell_type": "code",
   "execution_count": 95,
   "id": "a2a9c2b9-58f0-4976-bcc5-91608b751c59",
   "metadata": {},
   "outputs": [
    {
     "data": {
      "text/plain": [
       "(3, 3)"
      ]
     },
     "execution_count": 95,
     "metadata": {},
     "output_type": "execute_result"
    }
   ],
   "source": [
    "df1.shape[0],df1.shape[1]"
   ]
  },
  {
   "cell_type": "markdown",
   "id": "7fa5ebf0-2724-4985-ad76-4785b9a4260f",
   "metadata": {},
   "source": [
    "- iloc를 활용한 모든 원소 출력 ==> 행과 열의 번호"
   ]
  },
  {
   "cell_type": "code",
   "execution_count": 96,
   "id": "3197fdef-0f2a-476c-aab4-fe76678dc82f",
   "metadata": {},
   "outputs": [
    {
     "name": "stdout",
     "output_type": "stream",
     "text": [
      "0\n",
      "0 0 11\n",
      "0 1 22\n",
      "0 2 33\n",
      "1\n",
      "1 0 44\n",
      "1 1 55\n",
      "1 2 66\n",
      "2\n",
      "2 0 77\n",
      "2 1 88\n",
      "2 2 99\n"
     ]
    }
   ],
   "source": [
    "for row in range(df1.shape[0]):\n",
    "    print(row)\n",
    "    for col in range(df1.shape[1]):\n",
    "        print(row,col,df1.iloc[row,col])"
   ]
  },
  {
   "cell_type": "markdown",
   "id": "31275e55-5fc4-42be-bcb2-c74d4453e648",
   "metadata": {},
   "source": [
    "loc를 활용한 모든 원소 출력 ==> 행레이블과 열레이블의 번호"
   ]
  },
  {
   "cell_type": "code",
   "execution_count": 97,
   "id": "e43c70c7-4c8c-4e04-b767-f897dfd9420d",
   "metadata": {},
   "outputs": [
    {
     "name": "stdout",
     "output_type": "stream",
     "text": [
      "one\n",
      "---- A 11\n",
      "---- B 22\n",
      "---- C 33\n",
      "two\n",
      "---- A 44\n",
      "---- B 55\n",
      "---- C 66\n",
      "three\n",
      "---- A 77\n",
      "---- B 88\n",
      "---- C 99\n"
     ]
    }
   ],
   "source": [
    "for row in df1.index:\n",
    "    print(row)\n",
    "    for col in df1.columns:\n",
    "        print('----',col,df1.loc[row,col])"
   ]
  },
  {
   "cell_type": "markdown",
   "id": "264667b8-59dc-4b6a-890c-943ae86aa94c",
   "metadata": {},
   "source": [
    "#### [ 문제 ] one, three 행을 선택 후 저장"
   ]
  },
  {
   "cell_type": "code",
   "execution_count": 100,
   "id": "1e297291-d615-4eb2-8cd0-460869a1866c",
   "metadata": {},
   "outputs": [
    {
     "data": {
      "text/plain": [
       "(A    11\n",
       " B    22\n",
       " C    33\n",
       " Name: one, dtype: int64,\n",
       " A    77\n",
       " B    88\n",
       " C    99\n",
       " Name: three, dtype: int64)"
      ]
     },
     "execution_count": 100,
     "metadata": {},
     "output_type": "execute_result"
    }
   ],
   "source": [
    "df1.iloc[0],df1.iloc[2]"
   ]
  },
  {
   "cell_type": "code",
   "execution_count": 103,
   "id": "b466f6b7-34b8-4489-af3d-b12267bdb99c",
   "metadata": {},
   "outputs": [],
   "source": [
    "onethreeDF1=df1.loc[['one','three']]"
   ]
  },
  {
   "cell_type": "code",
   "execution_count": 104,
   "id": "4d798093-e601-4196-9ac1-3495a384c097",
   "metadata": {},
   "outputs": [
    {
     "data": {
      "text/plain": [
       "(pandas.core.frame.DataFrame,\n",
       "         A   B   C\n",
       " one    11  22  33\n",
       " three  77  88  99)"
      ]
     },
     "execution_count": 104,
     "metadata": {},
     "output_type": "execute_result"
    }
   ],
   "source": [
    "type(onethreeDF1), onethreeDF1"
   ]
  },
  {
   "cell_type": "code",
   "execution_count": null,
   "id": "db16b635-ee11-47e3-bb1d-6d0d3f224e83",
   "metadata": {},
   "outputs": [],
   "source": []
  }
 ],
 "metadata": {
  "kernelspec": {
   "display_name": "Python 3 (ipykernel)",
   "language": "python",
   "name": "python3"
  },
  "language_info": {
   "codemirror_mode": {
    "name": "ipython",
    "version": 3
   },
   "file_extension": ".py",
   "mimetype": "text/x-python",
   "name": "python",
   "nbconvert_exporter": "python",
   "pygments_lexer": "ipython3",
   "version": "3.8.18"
  }
 },
 "nbformat": 4,
 "nbformat_minor": 5
}
