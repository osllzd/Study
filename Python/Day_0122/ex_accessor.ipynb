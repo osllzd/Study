{
 "cells": [
  {
   "cell_type": "markdown",
   "id": "90643fc2-d716-49d4-82df-507f3be8ed24",
   "metadata": {},
   "source": [
    "## [ 접근자 Accessor ]  \n",
    "- Series/Data의 데이터가 날짜시간(datetime), 문자열(object), 범주형(category)등의 경우 데이터타입과 관련된 전용의 함수들을 사용할 수 있도록 해주는 속성\n",
    "- Series.str. 문자열 처리 관련 함수명()\n",
    "- Series.dt. 날짜,시간 처리 관련 속성명"
   ]
  },
  {
   "cell_type": "markdown",
   "id": "4370d8b7-0e0b-4af4-8522-1c2456ad6ec4",
   "metadata": {},
   "source": [
    "(1) 모듈 로딩 <hr>"
   ]
  },
  {
   "cell_type": "code",
   "execution_count": 87,
   "id": "08428703-9379-4c7d-a38c-4e5185d5d951",
   "metadata": {},
   "outputs": [],
   "source": [
    "import pandas as pd"
   ]
  },
  {
   "cell_type": "markdown",
   "id": "25ce50e1-9764-4af5-929a-9435eefd0ea8",
   "metadata": {},
   "source": [
    "(2) 데이터 준비 <hr>"
   ]
  },
  {
   "cell_type": "code",
   "execution_count": 88,
   "id": "0ff795c1-4031-4a90-8ea2-743a8b213d58",
   "metadata": {},
   "outputs": [],
   "source": [
    "datas={'name':[\"명 노아\",\"박 희진\",\"이 윤서\",\"전 진우\"], \n",
    "       'age':[ 24,23,22,25],\n",
    "       'reg_date':[\"1999/10/10\", \"2000/7/18\", \"2001/5/8\", \"1998/11/11\"]}\n",
    "\n",
    "\n",
    "datas2=[[\"명 노아\",\"박 희진\",\"이 윤서\",\"전 진우\"], \n",
    "       [ 24,23,22,25],\n",
    "       [\"1999/10/10\", \"2000/7/18\", \"2001/5/8\", \"1998/11/11\"]]"
   ]
  },
  {
   "cell_type": "markdown",
   "id": "5d691db2-6dc6-48de-9036-fdba8cc5d5a1",
   "metadata": {},
   "source": [
    "(3) 데이터 저장 <hr>"
   ]
  },
  {
   "cell_type": "code",
   "execution_count": 89,
   "id": "0bd70e6d-b11d-4e17-b373-c255284d9dd9",
   "metadata": {},
   "outputs": [
    {
     "data": {
      "text/html": [
       "<div>\n",
       "<style scoped>\n",
       "    .dataframe tbody tr th:only-of-type {\n",
       "        vertical-align: middle;\n",
       "    }\n",
       "\n",
       "    .dataframe tbody tr th {\n",
       "        vertical-align: top;\n",
       "    }\n",
       "\n",
       "    .dataframe thead th {\n",
       "        text-align: right;\n",
       "    }\n",
       "</style>\n",
       "<table border=\"1\" class=\"dataframe\">\n",
       "  <thead>\n",
       "    <tr style=\"text-align: right;\">\n",
       "      <th></th>\n",
       "      <th>name</th>\n",
       "      <th>age</th>\n",
       "      <th>reg_date</th>\n",
       "    </tr>\n",
       "  </thead>\n",
       "  <tbody>\n",
       "    <tr>\n",
       "      <th>0</th>\n",
       "      <td>명 노아</td>\n",
       "      <td>24</td>\n",
       "      <td>1999/10/10</td>\n",
       "    </tr>\n",
       "    <tr>\n",
       "      <th>1</th>\n",
       "      <td>박 희진</td>\n",
       "      <td>23</td>\n",
       "      <td>2000/7/18</td>\n",
       "    </tr>\n",
       "    <tr>\n",
       "      <th>2</th>\n",
       "      <td>이 윤서</td>\n",
       "      <td>22</td>\n",
       "      <td>2001/5/8</td>\n",
       "    </tr>\n",
       "    <tr>\n",
       "      <th>3</th>\n",
       "      <td>전 진우</td>\n",
       "      <td>25</td>\n",
       "      <td>1998/11/11</td>\n",
       "    </tr>\n",
       "  </tbody>\n",
       "</table>\n",
       "</div>"
      ],
      "text/plain": [
       "   name  age    reg_date\n",
       "0  명 노아   24  1999/10/10\n",
       "1  박 희진   23   2000/7/18\n",
       "2  이 윤서   22    2001/5/8\n",
       "3  전 진우   25  1998/11/11"
      ]
     },
     "execution_count": 89,
     "metadata": {},
     "output_type": "execute_result"
    }
   ],
   "source": [
    "# Dict => DataFrame\n",
    "df=pd.DataFrame(datas)\n",
    "df"
   ]
  },
  {
   "cell_type": "code",
   "execution_count": 90,
   "id": "16b43bb1-a40a-47f5-82a0-b3311f26cc9f",
   "metadata": {},
   "outputs": [
    {
     "data": {
      "text/html": [
       "<div>\n",
       "<style scoped>\n",
       "    .dataframe tbody tr th:only-of-type {\n",
       "        vertical-align: middle;\n",
       "    }\n",
       "\n",
       "    .dataframe tbody tr th {\n",
       "        vertical-align: top;\n",
       "    }\n",
       "\n",
       "    .dataframe thead th {\n",
       "        text-align: right;\n",
       "    }\n",
       "</style>\n",
       "<table border=\"1\" class=\"dataframe\">\n",
       "  <thead>\n",
       "    <tr style=\"text-align: right;\">\n",
       "      <th></th>\n",
       "      <th>0</th>\n",
       "      <th>1</th>\n",
       "      <th>2</th>\n",
       "      <th>3</th>\n",
       "    </tr>\n",
       "  </thead>\n",
       "  <tbody>\n",
       "    <tr>\n",
       "      <th>0</th>\n",
       "      <td>명 노아</td>\n",
       "      <td>박 희진</td>\n",
       "      <td>이 윤서</td>\n",
       "      <td>전 진우</td>\n",
       "    </tr>\n",
       "    <tr>\n",
       "      <th>1</th>\n",
       "      <td>24</td>\n",
       "      <td>23</td>\n",
       "      <td>22</td>\n",
       "      <td>25</td>\n",
       "    </tr>\n",
       "    <tr>\n",
       "      <th>2</th>\n",
       "      <td>1999/10/10</td>\n",
       "      <td>2000/7/18</td>\n",
       "      <td>2001/5/8</td>\n",
       "      <td>1998/11/11</td>\n",
       "    </tr>\n",
       "  </tbody>\n",
       "</table>\n",
       "</div>"
      ],
      "text/plain": [
       "            0          1         2           3\n",
       "0        명 노아       박 희진      이 윤서        전 진우\n",
       "1          24         23        22          25\n",
       "2  1999/10/10  2000/7/18  2001/5/8  1998/11/11"
      ]
     },
     "execution_count": 90,
     "metadata": {},
     "output_type": "execute_result"
    }
   ],
   "source": [
    "#list => DataFrame\n",
    "df1=pd.DataFrame(datas2)\n",
    "df1"
   ]
  },
  {
   "cell_type": "markdown",
   "id": "7d07ed56-18c7-450f-a169-fc850290bba4",
   "metadata": {},
   "source": [
    "(4) 데이터 정보 확인 <hr>"
   ]
  },
  {
   "cell_type": "code",
   "execution_count": 91,
   "id": "e218f1b7-b995-47d7-8375-521e0352f219",
   "metadata": {},
   "outputs": [
    {
     "name": "stdout",
     "output_type": "stream",
     "text": [
      "<class 'pandas.core.frame.DataFrame'>\n",
      "RangeIndex: 3 entries, 0 to 2\n",
      "Data columns (total 4 columns):\n",
      " #   Column  Non-Null Count  Dtype \n",
      "---  ------  --------------  ----- \n",
      " 0   0       3 non-null      object\n",
      " 1   1       3 non-null      object\n",
      " 2   2       3 non-null      object\n",
      " 3   3       3 non-null      object\n",
      "dtypes: object(4)\n",
      "memory usage: 224.0+ bytes\n"
     ]
    }
   ],
   "source": [
    "# 데이터의 전체 기본 정보 => info()\n",
    "df1.info()"
   ]
  },
  {
   "cell_type": "markdown",
   "id": "43d1b507-8077-470f-90fa-60186f1f154c",
   "metadata": {},
   "source": [
    "(5) 데이터 전처리 <hr>"
   ]
  },
  {
   "cell_type": "markdown",
   "id": "1016d29d-3afc-4d41-ad09-69e65236db68",
   "metadata": {},
   "source": [
    "- (5-1) 행 <=> 열 치환"
   ]
  },
  {
   "cell_type": "code",
   "execution_count": 92,
   "id": "9a0d70b8-8b5c-4a83-b103-1d24b7bae873",
   "metadata": {},
   "outputs": [],
   "source": [
    "df1=df1.transpose()"
   ]
  },
  {
   "cell_type": "code",
   "execution_count": 93,
   "id": "ecd4e284-222a-468c-8529-f98f183c3819",
   "metadata": {},
   "outputs": [
    {
     "data": {
      "text/html": [
       "<div>\n",
       "<style scoped>\n",
       "    .dataframe tbody tr th:only-of-type {\n",
       "        vertical-align: middle;\n",
       "    }\n",
       "\n",
       "    .dataframe tbody tr th {\n",
       "        vertical-align: top;\n",
       "    }\n",
       "\n",
       "    .dataframe thead th {\n",
       "        text-align: right;\n",
       "    }\n",
       "</style>\n",
       "<table border=\"1\" class=\"dataframe\">\n",
       "  <thead>\n",
       "    <tr style=\"text-align: right;\">\n",
       "      <th></th>\n",
       "      <th>0</th>\n",
       "      <th>1</th>\n",
       "      <th>2</th>\n",
       "    </tr>\n",
       "  </thead>\n",
       "  <tbody>\n",
       "    <tr>\n",
       "      <th>0</th>\n",
       "      <td>명 노아</td>\n",
       "      <td>24</td>\n",
       "      <td>1999/10/10</td>\n",
       "    </tr>\n",
       "    <tr>\n",
       "      <th>1</th>\n",
       "      <td>박 희진</td>\n",
       "      <td>23</td>\n",
       "      <td>2000/7/18</td>\n",
       "    </tr>\n",
       "    <tr>\n",
       "      <th>2</th>\n",
       "      <td>이 윤서</td>\n",
       "      <td>22</td>\n",
       "      <td>2001/5/8</td>\n",
       "    </tr>\n",
       "    <tr>\n",
       "      <th>3</th>\n",
       "      <td>전 진우</td>\n",
       "      <td>25</td>\n",
       "      <td>1998/11/11</td>\n",
       "    </tr>\n",
       "  </tbody>\n",
       "</table>\n",
       "</div>"
      ],
      "text/plain": [
       "      0   1           2\n",
       "0  명 노아  24  1999/10/10\n",
       "1  박 희진  23   2000/7/18\n",
       "2  이 윤서  22    2001/5/8\n",
       "3  전 진우  25  1998/11/11"
      ]
     },
     "execution_count": 93,
     "metadata": {},
     "output_type": "execute_result"
    }
   ],
   "source": [
    "df1"
   ]
  },
  {
   "cell_type": "code",
   "execution_count": 94,
   "id": "6b0177b3-606e-4291-8d44-af939cc5ad42",
   "metadata": {},
   "outputs": [
    {
     "name": "stdout",
     "output_type": "stream",
     "text": [
      "<class 'pandas.core.frame.DataFrame'>\n",
      "RangeIndex: 4 entries, 0 to 3\n",
      "Data columns (total 3 columns):\n",
      " #   Column  Non-Null Count  Dtype \n",
      "---  ------  --------------  ----- \n",
      " 0   0       4 non-null      object\n",
      " 1   1       4 non-null      object\n",
      " 2   2       4 non-null      object\n",
      "dtypes: object(3)\n",
      "memory usage: 224.0+ bytes\n"
     ]
    }
   ],
   "source": [
    "df1.info()"
   ]
  },
  {
   "cell_type": "markdown",
   "id": "f2c3defd-37a5-44ee-8213-7640fa82ca5a",
   "metadata": {},
   "source": [
    "- (5-2)"
   ]
  },
  {
   "cell_type": "code",
   "execution_count": 95,
   "id": "62d1e4a8-44cd-45dd-ad70-60cc7d2fd04d",
   "metadata": {},
   "outputs": [
    {
     "data": {
      "text/html": [
       "<div>\n",
       "<style scoped>\n",
       "    .dataframe tbody tr th:only-of-type {\n",
       "        vertical-align: middle;\n",
       "    }\n",
       "\n",
       "    .dataframe tbody tr th {\n",
       "        vertical-align: top;\n",
       "    }\n",
       "\n",
       "    .dataframe thead th {\n",
       "        text-align: right;\n",
       "    }\n",
       "</style>\n",
       "<table border=\"1\" class=\"dataframe\">\n",
       "  <thead>\n",
       "    <tr style=\"text-align: right;\">\n",
       "      <th></th>\n",
       "      <th>0</th>\n",
       "      <th>1</th>\n",
       "      <th>2</th>\n",
       "    </tr>\n",
       "  </thead>\n",
       "  <tbody>\n",
       "    <tr>\n",
       "      <th>0</th>\n",
       "      <td>명 노아</td>\n",
       "      <td>24</td>\n",
       "      <td>1999/10/10</td>\n",
       "    </tr>\n",
       "    <tr>\n",
       "      <th>1</th>\n",
       "      <td>박 희진</td>\n",
       "      <td>23</td>\n",
       "      <td>2000/7/18</td>\n",
       "    </tr>\n",
       "    <tr>\n",
       "      <th>2</th>\n",
       "      <td>이 윤서</td>\n",
       "      <td>22</td>\n",
       "      <td>2001/5/8</td>\n",
       "    </tr>\n",
       "  </tbody>\n",
       "</table>\n",
       "</div>"
      ],
      "text/plain": [
       "      0   1           2\n",
       "0  명 노아  24  1999/10/10\n",
       "1  박 희진  23   2000/7/18\n",
       "2  이 윤서  22    2001/5/8"
      ]
     },
     "execution_count": 95,
     "metadata": {},
     "output_type": "execute_result"
    }
   ],
   "source": [
    "df1.head(3)"
   ]
  },
  {
   "cell_type": "code",
   "execution_count": 96,
   "id": "4618be79-2a78-4795-b9dd-9259ef731fd4",
   "metadata": {},
   "outputs": [],
   "source": [
    "#1번 컬럼 : object => 정수\n",
    "df1[1]=df1[1].astype('uint8')"
   ]
  },
  {
   "cell_type": "code",
   "execution_count": 97,
   "id": "9a3a0b75-4dac-400f-bafe-5e25f4978246",
   "metadata": {},
   "outputs": [
    {
     "data": {
      "text/plain": [
       "0    object\n",
       "1     uint8\n",
       "2    object\n",
       "dtype: object"
      ]
     },
     "execution_count": 97,
     "metadata": {},
     "output_type": "execute_result"
    }
   ],
   "source": [
    "df1.dtypes"
   ]
  },
  {
   "cell_type": "code",
   "execution_count": 98,
   "id": "202f5563-8f26-4510-b505-9d07513ae251",
   "metadata": {},
   "outputs": [],
   "source": [
    "# 2번 컬럼 : object => datetime64[ns]\n",
    "df1[2]=df1[2].astype('datetime64[ns]')"
   ]
  },
  {
   "cell_type": "code",
   "execution_count": 99,
   "id": "b7f2d8b7-73d3-4dce-8630-a5f695e056ff",
   "metadata": {},
   "outputs": [
    {
     "data": {
      "text/plain": [
       "0            object\n",
       "1             uint8\n",
       "2    datetime64[ns]\n",
       "dtype: object"
      ]
     },
     "execution_count": 99,
     "metadata": {},
     "output_type": "execute_result"
    }
   ],
   "source": [
    "df1.dtypes"
   ]
  },
  {
   "cell_type": "markdown",
   "id": "f4e3c52a-9e72-4f10-9772-63059faf8042",
   "metadata": {},
   "source": [
    "- (5-3) 0번 컬럼의 이름을 성과 이름으로 분리"
   ]
  },
  {
   "cell_type": "code",
   "execution_count": 100,
   "id": "a40960c8-6ff3-488d-bbf0-bf3020b88549",
   "metadata": {},
   "outputs": [
    {
     "data": {
      "text/plain": [
       "0    명 노아\n",
       "1    박 희진\n",
       "2    이 윤서\n",
       "3    전 진우\n",
       "Name: 0, dtype: object"
      ]
     },
     "execution_count": 100,
     "metadata": {},
     "output_type": "execute_result"
    }
   ],
   "source": [
    "# 0번 컬럼만 추출 => Series\n",
    "nameSR=df1[0]\n",
    "nameSR"
   ]
  },
  {
   "cell_type": "code",
   "execution_count": 101,
   "id": "449327da-ca24-4e07-8554-9319f1ff2df9",
   "metadata": {},
   "outputs": [],
   "source": [
    "# \"박희진\" 데이터를 추출 => 성과 이름으로 분리\n",
    "#type(nameSR[1]), nameSR[1].upper()"
   ]
  },
  {
   "cell_type": "code",
   "execution_count": 102,
   "id": "58032412-725b-4d48-8536-c34a869ccc13",
   "metadata": {},
   "outputs": [],
   "source": [
    "#for idx in range(nameSR.shape[0]):\n",
    "#    print(nameSR[idx])\n",
    "#    nameSR[idx]=nameSR[idx].split()"
   ]
  },
  {
   "cell_type": "code",
   "execution_count": 105,
   "id": "c10372c3-424b-4f56-84aa-183b8d0f1756",
   "metadata": {},
   "outputs": [],
   "source": [
    "namesDF=nameSR.str.split(expand=True)"
   ]
  },
  {
   "cell_type": "code",
   "execution_count": 106,
   "id": "7c393b2b-2564-4a30-a995-4c00600e1995",
   "metadata": {},
   "outputs": [
    {
     "data": {
      "text/plain": [
       "(      0   1          2\n",
       " 0  명 노아  24 1999-10-10\n",
       " 1  박 희진  23 2000-07-18\n",
       " 2  이 윤서  22 2001-05-08\n",
       " 3  전 진우  25 1998-11-11,\n",
       "    0   1\n",
       " 0  명  노아\n",
       " 1  박  희진\n",
       " 2  이  윤서\n",
       " 3  전  진우)"
      ]
     },
     "execution_count": 106,
     "metadata": {},
     "output_type": "execute_result"
    }
   ],
   "source": [
    "df1,namesDF"
   ]
  },
  {
   "cell_type": "markdown",
   "id": "9f1810cd-6bcb-41b3-9995-a9172084be70",
   "metadata": {},
   "source": [
    "- (5-4) 두 개의 DataFrame을 컬럼방향으로 연결"
   ]
  },
  {
   "cell_type": "code",
   "execution_count": 114,
   "id": "3f2a975e-102a-45ce-829d-5ceb4bd03e16",
   "metadata": {},
   "outputs": [
    {
     "data": {
      "text/html": [
       "<div>\n",
       "<style scoped>\n",
       "    .dataframe tbody tr th:only-of-type {\n",
       "        vertical-align: middle;\n",
       "    }\n",
       "\n",
       "    .dataframe tbody tr th {\n",
       "        vertical-align: top;\n",
       "    }\n",
       "\n",
       "    .dataframe thead th {\n",
       "        text-align: right;\n",
       "    }\n",
       "</style>\n",
       "<table border=\"1\" class=\"dataframe\">\n",
       "  <thead>\n",
       "    <tr style=\"text-align: right;\">\n",
       "      <th></th>\n",
       "      <th>0</th>\n",
       "      <th>1</th>\n",
       "      <th>2</th>\n",
       "      <th>3</th>\n",
       "      <th>4</th>\n",
       "    </tr>\n",
       "  </thead>\n",
       "  <tbody>\n",
       "    <tr>\n",
       "      <th>0</th>\n",
       "      <td>명 노아</td>\n",
       "      <td>24</td>\n",
       "      <td>1999-10-10</td>\n",
       "      <td>명</td>\n",
       "      <td>노아</td>\n",
       "    </tr>\n",
       "    <tr>\n",
       "      <th>1</th>\n",
       "      <td>박 희진</td>\n",
       "      <td>23</td>\n",
       "      <td>2000-07-18</td>\n",
       "      <td>박</td>\n",
       "      <td>희진</td>\n",
       "    </tr>\n",
       "    <tr>\n",
       "      <th>2</th>\n",
       "      <td>이 윤서</td>\n",
       "      <td>22</td>\n",
       "      <td>2001-05-08</td>\n",
       "      <td>이</td>\n",
       "      <td>윤서</td>\n",
       "    </tr>\n",
       "    <tr>\n",
       "      <th>3</th>\n",
       "      <td>전 진우</td>\n",
       "      <td>25</td>\n",
       "      <td>1998-11-11</td>\n",
       "      <td>전</td>\n",
       "      <td>진우</td>\n",
       "    </tr>\n",
       "  </tbody>\n",
       "</table>\n",
       "</div>"
      ],
      "text/plain": [
       "      0   1          2  3   4\n",
       "0  명 노아  24 1999-10-10  명  노아\n",
       "1  박 희진  23 2000-07-18  박  희진\n",
       "2  이 윤서  22 2001-05-08  이  윤서\n",
       "3  전 진우  25 1998-11-11  전  진우"
      ]
     },
     "execution_count": 114,
     "metadata": {},
     "output_type": "execute_result"
    }
   ],
   "source": [
    "pd.concat([df1, namesDF],axis=1,ignore_index=True) #z컬럼 무시하고 새로 줌"
   ]
  },
  {
   "cell_type": "markdown",
   "id": "b0994c68-6ad5-46fe-a16d-d09e3126e788",
   "metadata": {},
   "source": [
    "- (5-5) 2번 컬럼에서 년, 월, 일을 분리"
   ]
  },
  {
   "cell_type": "code",
   "execution_count": 116,
   "id": "b2a77c9d-208f-4d82-916a-5a5484438e8f",
   "metadata": {},
   "outputs": [
    {
     "data": {
      "text/plain": [
       "0   1999-10-10\n",
       "1   2000-07-18\n",
       "2   2001-05-08\n",
       "3   1998-11-11\n",
       "Name: 2, dtype: datetime64[ns]"
      ]
     },
     "execution_count": 116,
     "metadata": {},
     "output_type": "execute_result"
    }
   ],
   "source": [
    "df1[2]"
   ]
  },
  {
   "cell_type": "code",
   "execution_count": 121,
   "id": "ecacaafc-79a7-42f2-90f5-785439e6b7e7",
   "metadata": {},
   "outputs": [],
   "source": [
    "yearSR=df1[2].dt.year"
   ]
  },
  {
   "cell_type": "code",
   "execution_count": 122,
   "id": "9d900450-8fb0-4fba-8021-745400dd2a4c",
   "metadata": {},
   "outputs": [],
   "source": [
    "monthSR=df1[2].dt.month"
   ]
  },
  {
   "cell_type": "code",
   "execution_count": 123,
   "id": "6df103f0-dd0e-4cb9-a119-942e1b28b093",
   "metadata": {},
   "outputs": [],
   "source": [
    "daySR=df1[2].dt.day"
   ]
  },
  {
   "cell_type": "code",
   "execution_count": 124,
   "id": "5ac85d75-dbe6-4c6f-a6dc-05abd437dc74",
   "metadata": {},
   "outputs": [
    {
     "data": {
      "text/html": [
       "<div>\n",
       "<style scoped>\n",
       "    .dataframe tbody tr th:only-of-type {\n",
       "        vertical-align: middle;\n",
       "    }\n",
       "\n",
       "    .dataframe tbody tr th {\n",
       "        vertical-align: top;\n",
       "    }\n",
       "\n",
       "    .dataframe thead th {\n",
       "        text-align: right;\n",
       "    }\n",
       "</style>\n",
       "<table border=\"1\" class=\"dataframe\">\n",
       "  <thead>\n",
       "    <tr style=\"text-align: right;\">\n",
       "      <th></th>\n",
       "      <th>0</th>\n",
       "      <th>1</th>\n",
       "      <th>2</th>\n",
       "      <th>3</th>\n",
       "    </tr>\n",
       "  </thead>\n",
       "  <tbody>\n",
       "    <tr>\n",
       "      <th>0</th>\n",
       "      <td>명 노아</td>\n",
       "      <td>24</td>\n",
       "      <td>1999-10-10</td>\n",
       "      <td>1999</td>\n",
       "    </tr>\n",
       "    <tr>\n",
       "      <th>1</th>\n",
       "      <td>박 희진</td>\n",
       "      <td>23</td>\n",
       "      <td>2000-07-18</td>\n",
       "      <td>2000</td>\n",
       "    </tr>\n",
       "    <tr>\n",
       "      <th>2</th>\n",
       "      <td>이 윤서</td>\n",
       "      <td>22</td>\n",
       "      <td>2001-05-08</td>\n",
       "      <td>2001</td>\n",
       "    </tr>\n",
       "    <tr>\n",
       "      <th>3</th>\n",
       "      <td>전 진우</td>\n",
       "      <td>25</td>\n",
       "      <td>1998-11-11</td>\n",
       "      <td>1998</td>\n",
       "    </tr>\n",
       "  </tbody>\n",
       "</table>\n",
       "</div>"
      ],
      "text/plain": [
       "      0   1          2     3\n",
       "0  명 노아  24 1999-10-10  1999\n",
       "1  박 희진  23 2000-07-18  2000\n",
       "2  이 윤서  22 2001-05-08  2001\n",
       "3  전 진우  25 1998-11-11  1998"
      ]
     },
     "execution_count": 124,
     "metadata": {},
     "output_type": "execute_result"
    }
   ],
   "source": [
    "pd.concat([df1,yearSR],axis=1,ignore_index=True)"
   ]
  },
  {
   "cell_type": "code",
   "execution_count": 126,
   "id": "759b1bca-e9e4-48b9-94c2-cea810ec6982",
   "metadata": {},
   "outputs": [
    {
     "data": {
      "text/html": [
       "<div>\n",
       "<style scoped>\n",
       "    .dataframe tbody tr th:only-of-type {\n",
       "        vertical-align: middle;\n",
       "    }\n",
       "\n",
       "    .dataframe tbody tr th {\n",
       "        vertical-align: top;\n",
       "    }\n",
       "\n",
       "    .dataframe thead th {\n",
       "        text-align: right;\n",
       "    }\n",
       "</style>\n",
       "<table border=\"1\" class=\"dataframe\">\n",
       "  <thead>\n",
       "    <tr style=\"text-align: right;\">\n",
       "      <th></th>\n",
       "      <th>0</th>\n",
       "      <th>1</th>\n",
       "      <th>2</th>\n",
       "      <th>3</th>\n",
       "      <th>4</th>\n",
       "      <th>5</th>\n",
       "    </tr>\n",
       "  </thead>\n",
       "  <tbody>\n",
       "    <tr>\n",
       "      <th>0</th>\n",
       "      <td>명 노아</td>\n",
       "      <td>24</td>\n",
       "      <td>1999-10-10</td>\n",
       "      <td>1999</td>\n",
       "      <td>10</td>\n",
       "      <td>10</td>\n",
       "    </tr>\n",
       "    <tr>\n",
       "      <th>1</th>\n",
       "      <td>박 희진</td>\n",
       "      <td>23</td>\n",
       "      <td>2000-07-18</td>\n",
       "      <td>2000</td>\n",
       "      <td>7</td>\n",
       "      <td>18</td>\n",
       "    </tr>\n",
       "    <tr>\n",
       "      <th>2</th>\n",
       "      <td>이 윤서</td>\n",
       "      <td>22</td>\n",
       "      <td>2001-05-08</td>\n",
       "      <td>2001</td>\n",
       "      <td>5</td>\n",
       "      <td>8</td>\n",
       "    </tr>\n",
       "    <tr>\n",
       "      <th>3</th>\n",
       "      <td>전 진우</td>\n",
       "      <td>25</td>\n",
       "      <td>1998-11-11</td>\n",
       "      <td>1998</td>\n",
       "      <td>11</td>\n",
       "      <td>11</td>\n",
       "    </tr>\n",
       "  </tbody>\n",
       "</table>\n",
       "</div>"
      ],
      "text/plain": [
       "      0   1          2     3   4   5\n",
       "0  명 노아  24 1999-10-10  1999  10  10\n",
       "1  박 희진  23 2000-07-18  2000   7  18\n",
       "2  이 윤서  22 2001-05-08  2001   5   8\n",
       "3  전 진우  25 1998-11-11  1998  11  11"
      ]
     },
     "execution_count": 126,
     "metadata": {},
     "output_type": "execute_result"
    }
   ],
   "source": [
    "pd.concat([df1,yearSR,monthSR,daySR],axis=1,ignore_index=True)"
   ]
  },
  {
   "cell_type": "markdown",
   "id": "ab36f40c-9661-4e99-999f-18313416bff6",
   "metadata": {},
   "source": [
    "- (5-6) 현재 DataFrame을 파일로 저장하기 => pandas.to_XXX(\"파일경로 = 파일명\")"
   ]
  },
  {
   "cell_type": "code",
   "execution_count": 127,
   "id": "ae6d7539-d409-4fd7-81fc-3e36c2722985",
   "metadata": {},
   "outputs": [],
   "source": [
    "# CSV==> 데이터와 데이터의 구분자\n",
    "filename=\"./backup.csv\" # \"backup.csv\""
   ]
  },
  {
   "cell_type": "code",
   "execution_count": 137,
   "id": "4dd69fed-8374-4249-b98f-dbec33023537",
   "metadata": {},
   "outputs": [],
   "source": [
    "df1.to_csv(filename, sep=\" \",header=False,index=False) # 저장"
   ]
  },
  {
   "cell_type": "code",
   "execution_count": 139,
   "id": "8860669a-ed37-4ff9-bdfa-8d30d4ebc8b0",
   "metadata": {},
   "outputs": [
    {
     "data": {
      "text/html": [
       "<div>\n",
       "<style scoped>\n",
       "    .dataframe tbody tr th:only-of-type {\n",
       "        vertical-align: middle;\n",
       "    }\n",
       "\n",
       "    .dataframe tbody tr th {\n",
       "        vertical-align: top;\n",
       "    }\n",
       "\n",
       "    .dataframe thead th {\n",
       "        text-align: right;\n",
       "    }\n",
       "</style>\n",
       "<table border=\"1\" class=\"dataframe\">\n",
       "  <thead>\n",
       "    <tr style=\"text-align: right;\">\n",
       "      <th></th>\n",
       "      <th>0</th>\n",
       "      <th>1</th>\n",
       "      <th>2</th>\n",
       "    </tr>\n",
       "  </thead>\n",
       "  <tbody>\n",
       "    <tr>\n",
       "      <th>0</th>\n",
       "      <td>명 노아</td>\n",
       "      <td>24</td>\n",
       "      <td>1999-10-10</td>\n",
       "    </tr>\n",
       "    <tr>\n",
       "      <th>1</th>\n",
       "      <td>박 희진</td>\n",
       "      <td>23</td>\n",
       "      <td>2000-07-18</td>\n",
       "    </tr>\n",
       "    <tr>\n",
       "      <th>2</th>\n",
       "      <td>이 윤서</td>\n",
       "      <td>22</td>\n",
       "      <td>2001-05-08</td>\n",
       "    </tr>\n",
       "    <tr>\n",
       "      <th>3</th>\n",
       "      <td>전 진우</td>\n",
       "      <td>25</td>\n",
       "      <td>1998-11-11</td>\n",
       "    </tr>\n",
       "  </tbody>\n",
       "</table>\n",
       "</div>"
      ],
      "text/plain": [
       "      0   1           2\n",
       "0  명 노아  24  1999-10-10\n",
       "1  박 희진  23  2000-07-18\n",
       "2  이 윤서  22  2001-05-08\n",
       "3  전 진우  25  1998-11-11"
      ]
     },
     "execution_count": 139,
     "metadata": {},
     "output_type": "execute_result"
    }
   ],
   "source": [
    "pd.read_csv(filename, header=None, sep=\" \") # 읽기"
   ]
  },
  {
   "cell_type": "code",
   "execution_count": null,
   "id": "b314bd22-69d4-4899-ab1d-4673109f83b2",
   "metadata": {},
   "outputs": [],
   "source": []
  }
 ],
 "metadata": {
  "kernelspec": {
   "display_name": "Python 3 (ipykernel)",
   "language": "python",
   "name": "python3"
  },
  "language_info": {
   "codemirror_mode": {
    "name": "ipython",
    "version": 3
   },
   "file_extension": ".py",
   "mimetype": "text/x-python",
   "name": "python",
   "nbconvert_exporter": "python",
   "pygments_lexer": "ipython3",
   "version": "3.8.18"
  }
 },
 "nbformat": 4,
 "nbformat_minor": 5
}
